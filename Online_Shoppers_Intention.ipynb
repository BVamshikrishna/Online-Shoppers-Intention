{
  "nbformat": 4,
  "nbformat_minor": 0,
  "metadata": {
    "colab": {
      "name": "Online Shoppers Intention.ipynb",
      "provenance": [],
      "collapsed_sections": [],
      "mount_file_id": "1ERKf80zaAQxCPDEVV3oDHpl4QoGf5WgD",
      "authorship_tag": "ABX9TyOuXyw3UpKwBxsiYWgkl/c/",
      "include_colab_link": true
    },
    "kernelspec": {
      "name": "python3",
      "display_name": "Python 3"
    },
    "language_info": {
      "name": "python"
    }
  },
  "cells": [
    {
      "cell_type": "markdown",
      "metadata": {
        "id": "view-in-github",
        "colab_type": "text"
      },
      "source": [
        "<a href=\"https://colab.research.google.com/github/BVamshikrishna/Online-Shoppers-Intention/blob/main/Online_Shoppers_Intention.ipynb\" target=\"_parent\"><img src=\"https://colab.research.google.com/assets/colab-badge.svg\" alt=\"Open In Colab\"/></a>"
      ]
    },
    {
      "cell_type": "code",
      "metadata": {
        "id": "QoFi8EzM_GMU"
      },
      "source": [
        "import numpy as np\n",
        "import pandas as pd\n",
        "import matplotlib.pyplot as plt\n",
        "import seaborn as sns\n",
        "%matplotlib inline\n",
        "import warnings\n",
        "warnings.filterwarnings('ignore')"
      ],
      "execution_count": 1,
      "outputs": []
    },
    {
      "cell_type": "code",
      "metadata": {
        "colab": {
          "base_uri": "https://localhost:8080/"
        },
        "id": "ha-tmtB0EhuP",
        "outputId": "9cc4398b-a561-4f72-9853-b2f4b98b5293"
      },
      "source": [
        "df = pd.read_csv(\"/content/drive/MyDrive/Ml Projects/online_shoppers_intention.csv\")\n",
        "df.head()\n",
        "df.shape"
      ],
      "execution_count": 2,
      "outputs": [
        {
          "output_type": "execute_result",
          "data": {
            "text/plain": [
              "(12330, 18)"
            ]
          },
          "metadata": {
            "tags": []
          },
          "execution_count": 2
        }
      ]
    },
    {
      "cell_type": "code",
      "metadata": {
        "colab": {
          "base_uri": "https://localhost:8080/",
          "height": 215
        },
        "id": "O55kEz0uP9Ah",
        "outputId": "6d022808-b4cb-413b-e351-c512d237ef50"
      },
      "source": [
        "df.head()"
      ],
      "execution_count": 3,
      "outputs": [
        {
          "output_type": "execute_result",
          "data": {
            "text/html": [
              "<div>\n",
              "<style scoped>\n",
              "    .dataframe tbody tr th:only-of-type {\n",
              "        vertical-align: middle;\n",
              "    }\n",
              "\n",
              "    .dataframe tbody tr th {\n",
              "        vertical-align: top;\n",
              "    }\n",
              "\n",
              "    .dataframe thead th {\n",
              "        text-align: right;\n",
              "    }\n",
              "</style>\n",
              "<table border=\"1\" class=\"dataframe\">\n",
              "  <thead>\n",
              "    <tr style=\"text-align: right;\">\n",
              "      <th></th>\n",
              "      <th>Administrative</th>\n",
              "      <th>Administrative_Duration</th>\n",
              "      <th>Informational</th>\n",
              "      <th>Informational_Duration</th>\n",
              "      <th>ProductRelated</th>\n",
              "      <th>ProductRelated_Duration</th>\n",
              "      <th>BounceRates</th>\n",
              "      <th>ExitRates</th>\n",
              "      <th>PageValues</th>\n",
              "      <th>SpecialDay</th>\n",
              "      <th>Month</th>\n",
              "      <th>OperatingSystems</th>\n",
              "      <th>Browser</th>\n",
              "      <th>Region</th>\n",
              "      <th>TrafficType</th>\n",
              "      <th>VisitorType</th>\n",
              "      <th>Weekend</th>\n",
              "      <th>Revenue</th>\n",
              "    </tr>\n",
              "  </thead>\n",
              "  <tbody>\n",
              "    <tr>\n",
              "      <th>0</th>\n",
              "      <td>0.0</td>\n",
              "      <td>0.0</td>\n",
              "      <td>0.0</td>\n",
              "      <td>0.0</td>\n",
              "      <td>1.0</td>\n",
              "      <td>0.000000</td>\n",
              "      <td>0.20</td>\n",
              "      <td>0.20</td>\n",
              "      <td>0.0</td>\n",
              "      <td>0.0</td>\n",
              "      <td>Feb</td>\n",
              "      <td>1</td>\n",
              "      <td>1</td>\n",
              "      <td>1</td>\n",
              "      <td>1</td>\n",
              "      <td>Returning_Visitor</td>\n",
              "      <td>False</td>\n",
              "      <td>False</td>\n",
              "    </tr>\n",
              "    <tr>\n",
              "      <th>1</th>\n",
              "      <td>0.0</td>\n",
              "      <td>0.0</td>\n",
              "      <td>0.0</td>\n",
              "      <td>0.0</td>\n",
              "      <td>2.0</td>\n",
              "      <td>64.000000</td>\n",
              "      <td>0.00</td>\n",
              "      <td>0.10</td>\n",
              "      <td>0.0</td>\n",
              "      <td>0.0</td>\n",
              "      <td>Feb</td>\n",
              "      <td>2</td>\n",
              "      <td>2</td>\n",
              "      <td>1</td>\n",
              "      <td>2</td>\n",
              "      <td>Returning_Visitor</td>\n",
              "      <td>False</td>\n",
              "      <td>False</td>\n",
              "    </tr>\n",
              "    <tr>\n",
              "      <th>2</th>\n",
              "      <td>0.0</td>\n",
              "      <td>-1.0</td>\n",
              "      <td>0.0</td>\n",
              "      <td>-1.0</td>\n",
              "      <td>1.0</td>\n",
              "      <td>-1.000000</td>\n",
              "      <td>0.20</td>\n",
              "      <td>0.20</td>\n",
              "      <td>0.0</td>\n",
              "      <td>0.0</td>\n",
              "      <td>Feb</td>\n",
              "      <td>4</td>\n",
              "      <td>1</td>\n",
              "      <td>9</td>\n",
              "      <td>3</td>\n",
              "      <td>Returning_Visitor</td>\n",
              "      <td>False</td>\n",
              "      <td>False</td>\n",
              "    </tr>\n",
              "    <tr>\n",
              "      <th>3</th>\n",
              "      <td>0.0</td>\n",
              "      <td>0.0</td>\n",
              "      <td>0.0</td>\n",
              "      <td>0.0</td>\n",
              "      <td>2.0</td>\n",
              "      <td>2.666667</td>\n",
              "      <td>0.05</td>\n",
              "      <td>0.14</td>\n",
              "      <td>0.0</td>\n",
              "      <td>0.0</td>\n",
              "      <td>Feb</td>\n",
              "      <td>3</td>\n",
              "      <td>2</td>\n",
              "      <td>2</td>\n",
              "      <td>4</td>\n",
              "      <td>Returning_Visitor</td>\n",
              "      <td>False</td>\n",
              "      <td>False</td>\n",
              "    </tr>\n",
              "    <tr>\n",
              "      <th>4</th>\n",
              "      <td>0.0</td>\n",
              "      <td>0.0</td>\n",
              "      <td>0.0</td>\n",
              "      <td>0.0</td>\n",
              "      <td>10.0</td>\n",
              "      <td>627.500000</td>\n",
              "      <td>0.02</td>\n",
              "      <td>0.05</td>\n",
              "      <td>0.0</td>\n",
              "      <td>0.0</td>\n",
              "      <td>Feb</td>\n",
              "      <td>3</td>\n",
              "      <td>3</td>\n",
              "      <td>1</td>\n",
              "      <td>4</td>\n",
              "      <td>Returning_Visitor</td>\n",
              "      <td>True</td>\n",
              "      <td>False</td>\n",
              "    </tr>\n",
              "  </tbody>\n",
              "</table>\n",
              "</div>"
            ],
            "text/plain": [
              "   Administrative  Administrative_Duration  ...  Weekend  Revenue\n",
              "0             0.0                      0.0  ...    False    False\n",
              "1             0.0                      0.0  ...    False    False\n",
              "2             0.0                     -1.0  ...    False    False\n",
              "3             0.0                      0.0  ...    False    False\n",
              "4             0.0                      0.0  ...     True    False\n",
              "\n",
              "[5 rows x 18 columns]"
            ]
          },
          "metadata": {
            "tags": []
          },
          "execution_count": 3
        }
      ]
    },
    {
      "cell_type": "code",
      "metadata": {
        "colab": {
          "base_uri": "https://localhost:8080/",
          "height": 304
        },
        "id": "tFxeWo7EH8h1",
        "outputId": "f2bb2c43-2aff-4e11-ce26-38ffc55424de"
      },
      "source": [
        "#df.describe(include='all')\n",
        "df.describe()"
      ],
      "execution_count": 4,
      "outputs": [
        {
          "output_type": "execute_result",
          "data": {
            "text/html": [
              "<div>\n",
              "<style scoped>\n",
              "    .dataframe tbody tr th:only-of-type {\n",
              "        vertical-align: middle;\n",
              "    }\n",
              "\n",
              "    .dataframe tbody tr th {\n",
              "        vertical-align: top;\n",
              "    }\n",
              "\n",
              "    .dataframe thead th {\n",
              "        text-align: right;\n",
              "    }\n",
              "</style>\n",
              "<table border=\"1\" class=\"dataframe\">\n",
              "  <thead>\n",
              "    <tr style=\"text-align: right;\">\n",
              "      <th></th>\n",
              "      <th>Administrative</th>\n",
              "      <th>Administrative_Duration</th>\n",
              "      <th>Informational</th>\n",
              "      <th>Informational_Duration</th>\n",
              "      <th>ProductRelated</th>\n",
              "      <th>ProductRelated_Duration</th>\n",
              "      <th>BounceRates</th>\n",
              "      <th>ExitRates</th>\n",
              "      <th>PageValues</th>\n",
              "      <th>SpecialDay</th>\n",
              "      <th>OperatingSystems</th>\n",
              "      <th>Browser</th>\n",
              "      <th>Region</th>\n",
              "      <th>TrafficType</th>\n",
              "    </tr>\n",
              "  </thead>\n",
              "  <tbody>\n",
              "    <tr>\n",
              "      <th>count</th>\n",
              "      <td>12316.000000</td>\n",
              "      <td>12316.000000</td>\n",
              "      <td>12316.000000</td>\n",
              "      <td>12316.000000</td>\n",
              "      <td>12316.000000</td>\n",
              "      <td>12316.000000</td>\n",
              "      <td>12316.000000</td>\n",
              "      <td>12316.000000</td>\n",
              "      <td>12330.000000</td>\n",
              "      <td>12330.000000</td>\n",
              "      <td>12330.000000</td>\n",
              "      <td>12330.000000</td>\n",
              "      <td>12330.000000</td>\n",
              "      <td>12330.000000</td>\n",
              "    </tr>\n",
              "    <tr>\n",
              "      <th>mean</th>\n",
              "      <td>2.317798</td>\n",
              "      <td>80.906176</td>\n",
              "      <td>0.503979</td>\n",
              "      <td>34.506387</td>\n",
              "      <td>31.763884</td>\n",
              "      <td>1196.037057</td>\n",
              "      <td>0.022152</td>\n",
              "      <td>0.043003</td>\n",
              "      <td>5.889258</td>\n",
              "      <td>0.061427</td>\n",
              "      <td>2.124006</td>\n",
              "      <td>2.357097</td>\n",
              "      <td>3.147364</td>\n",
              "      <td>4.069586</td>\n",
              "    </tr>\n",
              "    <tr>\n",
              "      <th>std</th>\n",
              "      <td>3.322754</td>\n",
              "      <td>176.860432</td>\n",
              "      <td>1.270701</td>\n",
              "      <td>140.825479</td>\n",
              "      <td>44.490339</td>\n",
              "      <td>1914.372511</td>\n",
              "      <td>0.048427</td>\n",
              "      <td>0.048527</td>\n",
              "      <td>18.568437</td>\n",
              "      <td>0.198917</td>\n",
              "      <td>0.911325</td>\n",
              "      <td>1.717277</td>\n",
              "      <td>2.401591</td>\n",
              "      <td>4.025169</td>\n",
              "    </tr>\n",
              "    <tr>\n",
              "      <th>min</th>\n",
              "      <td>0.000000</td>\n",
              "      <td>-1.000000</td>\n",
              "      <td>0.000000</td>\n",
              "      <td>-1.000000</td>\n",
              "      <td>0.000000</td>\n",
              "      <td>-1.000000</td>\n",
              "      <td>0.000000</td>\n",
              "      <td>0.000000</td>\n",
              "      <td>0.000000</td>\n",
              "      <td>0.000000</td>\n",
              "      <td>1.000000</td>\n",
              "      <td>1.000000</td>\n",
              "      <td>1.000000</td>\n",
              "      <td>1.000000</td>\n",
              "    </tr>\n",
              "    <tr>\n",
              "      <th>25%</th>\n",
              "      <td>0.000000</td>\n",
              "      <td>0.000000</td>\n",
              "      <td>0.000000</td>\n",
              "      <td>0.000000</td>\n",
              "      <td>7.000000</td>\n",
              "      <td>185.000000</td>\n",
              "      <td>0.000000</td>\n",
              "      <td>0.014286</td>\n",
              "      <td>0.000000</td>\n",
              "      <td>0.000000</td>\n",
              "      <td>2.000000</td>\n",
              "      <td>2.000000</td>\n",
              "      <td>1.000000</td>\n",
              "      <td>2.000000</td>\n",
              "    </tr>\n",
              "    <tr>\n",
              "      <th>50%</th>\n",
              "      <td>1.000000</td>\n",
              "      <td>8.000000</td>\n",
              "      <td>0.000000</td>\n",
              "      <td>0.000000</td>\n",
              "      <td>18.000000</td>\n",
              "      <td>599.766190</td>\n",
              "      <td>0.003119</td>\n",
              "      <td>0.025124</td>\n",
              "      <td>0.000000</td>\n",
              "      <td>0.000000</td>\n",
              "      <td>2.000000</td>\n",
              "      <td>2.000000</td>\n",
              "      <td>3.000000</td>\n",
              "      <td>2.000000</td>\n",
              "    </tr>\n",
              "    <tr>\n",
              "      <th>75%</th>\n",
              "      <td>4.000000</td>\n",
              "      <td>93.500000</td>\n",
              "      <td>0.000000</td>\n",
              "      <td>0.000000</td>\n",
              "      <td>38.000000</td>\n",
              "      <td>1466.479902</td>\n",
              "      <td>0.016684</td>\n",
              "      <td>0.050000</td>\n",
              "      <td>0.000000</td>\n",
              "      <td>0.000000</td>\n",
              "      <td>3.000000</td>\n",
              "      <td>2.000000</td>\n",
              "      <td>4.000000</td>\n",
              "      <td>4.000000</td>\n",
              "    </tr>\n",
              "    <tr>\n",
              "      <th>max</th>\n",
              "      <td>27.000000</td>\n",
              "      <td>3398.750000</td>\n",
              "      <td>24.000000</td>\n",
              "      <td>2549.375000</td>\n",
              "      <td>705.000000</td>\n",
              "      <td>63973.522230</td>\n",
              "      <td>0.200000</td>\n",
              "      <td>0.200000</td>\n",
              "      <td>361.763742</td>\n",
              "      <td>1.000000</td>\n",
              "      <td>8.000000</td>\n",
              "      <td>13.000000</td>\n",
              "      <td>9.000000</td>\n",
              "      <td>20.000000</td>\n",
              "    </tr>\n",
              "  </tbody>\n",
              "</table>\n",
              "</div>"
            ],
            "text/plain": [
              "       Administrative  Administrative_Duration  ...        Region   TrafficType\n",
              "count    12316.000000             12316.000000  ...  12330.000000  12330.000000\n",
              "mean         2.317798                80.906176  ...      3.147364      4.069586\n",
              "std          3.322754               176.860432  ...      2.401591      4.025169\n",
              "min          0.000000                -1.000000  ...      1.000000      1.000000\n",
              "25%          0.000000                 0.000000  ...      1.000000      2.000000\n",
              "50%          1.000000                 8.000000  ...      3.000000      2.000000\n",
              "75%          4.000000                93.500000  ...      4.000000      4.000000\n",
              "max         27.000000              3398.750000  ...      9.000000     20.000000\n",
              "\n",
              "[8 rows x 14 columns]"
            ]
          },
          "metadata": {
            "tags": []
          },
          "execution_count": 4
        }
      ]
    },
    {
      "cell_type": "code",
      "metadata": {
        "colab": {
          "base_uri": "https://localhost:8080/"
        },
        "id": "z67_3bpkJGF-",
        "outputId": "fdae8296-b3c1-4854-d895-ac719df65ab5"
      },
      "source": [
        "df.info()"
      ],
      "execution_count": 5,
      "outputs": [
        {
          "output_type": "stream",
          "text": [
            "<class 'pandas.core.frame.DataFrame'>\n",
            "RangeIndex: 12330 entries, 0 to 12329\n",
            "Data columns (total 18 columns):\n",
            " #   Column                   Non-Null Count  Dtype  \n",
            "---  ------                   --------------  -----  \n",
            " 0   Administrative           12316 non-null  float64\n",
            " 1   Administrative_Duration  12316 non-null  float64\n",
            " 2   Informational            12316 non-null  float64\n",
            " 3   Informational_Duration   12316 non-null  float64\n",
            " 4   ProductRelated           12316 non-null  float64\n",
            " 5   ProductRelated_Duration  12316 non-null  float64\n",
            " 6   BounceRates              12316 non-null  float64\n",
            " 7   ExitRates                12316 non-null  float64\n",
            " 8   PageValues               12330 non-null  float64\n",
            " 9   SpecialDay               12330 non-null  float64\n",
            " 10  Month                    12330 non-null  object \n",
            " 11  OperatingSystems         12330 non-null  int64  \n",
            " 12  Browser                  12330 non-null  int64  \n",
            " 13  Region                   12330 non-null  int64  \n",
            " 14  TrafficType              12330 non-null  int64  \n",
            " 15  VisitorType              12330 non-null  object \n",
            " 16  Weekend                  12330 non-null  bool   \n",
            " 17  Revenue                  12330 non-null  bool   \n",
            "dtypes: bool(2), float64(10), int64(4), object(2)\n",
            "memory usage: 1.5+ MB\n"
          ],
          "name": "stdout"
        }
      ]
    },
    {
      "cell_type": "code",
      "metadata": {
        "colab": {
          "base_uri": "https://localhost:8080/"
        },
        "id": "R-6Fb9x2K7_K",
        "outputId": "c43fed90-a45b-4fc0-bebc-16217afa5c0a"
      },
      "source": [
        "df['Administrative'] = df['Administrative'].astype(object)\n",
        "df['Informational'] = df['Informational'].astype(object)\n",
        "df['ProductRelated'] = df['ProductRelated'].astype(object)\n",
        "df['SpecialDay'] = df['SpecialDay'].astype(object)\n",
        "df['OperatingSystems'] = df['OperatingSystems'].astype(object)\n",
        "df['Browser'] = df['Browser'].astype(object)\n",
        "df['Region'] = df['Region'].astype(object)\n",
        "df['TrafficType'] = df['TrafficType'].astype(object)\n",
        "df.info()"
      ],
      "execution_count": 6,
      "outputs": [
        {
          "output_type": "stream",
          "text": [
            "<class 'pandas.core.frame.DataFrame'>\n",
            "RangeIndex: 12330 entries, 0 to 12329\n",
            "Data columns (total 18 columns):\n",
            " #   Column                   Non-Null Count  Dtype  \n",
            "---  ------                   --------------  -----  \n",
            " 0   Administrative           12316 non-null  object \n",
            " 1   Administrative_Duration  12316 non-null  float64\n",
            " 2   Informational            12316 non-null  object \n",
            " 3   Informational_Duration   12316 non-null  float64\n",
            " 4   ProductRelated           12316 non-null  object \n",
            " 5   ProductRelated_Duration  12316 non-null  float64\n",
            " 6   BounceRates              12316 non-null  float64\n",
            " 7   ExitRates                12316 non-null  float64\n",
            " 8   PageValues               12330 non-null  float64\n",
            " 9   SpecialDay               12330 non-null  object \n",
            " 10  Month                    12330 non-null  object \n",
            " 11  OperatingSystems         12330 non-null  object \n",
            " 12  Browser                  12330 non-null  object \n",
            " 13  Region                   12330 non-null  object \n",
            " 14  TrafficType              12330 non-null  object \n",
            " 15  VisitorType              12330 non-null  object \n",
            " 16  Weekend                  12330 non-null  bool   \n",
            " 17  Revenue                  12330 non-null  bool   \n",
            "dtypes: bool(2), float64(6), object(10)\n",
            "memory usage: 1.5+ MB\n"
          ],
          "name": "stdout"
        }
      ]
    },
    {
      "cell_type": "markdown",
      "metadata": {
        "id": "PC03v5bBNGL0"
      },
      "source": [
        "Exploratory Data Analysis\n",
        "\n",
        "Univariate Analysis"
      ]
    },
    {
      "cell_type": "code",
      "metadata": {
        "colab": {
          "base_uri": "https://localhost:8080/"
        },
        "id": "jUEnWu8oM-o1",
        "outputId": "fde5da95-5611-45f4-baab-2e7759312d14"
      },
      "source": [
        "# Checking Unique Visitor Types\n",
        "df['VisitorType'].value_counts()"
      ],
      "execution_count": 7,
      "outputs": [
        {
          "output_type": "execute_result",
          "data": {
            "text/plain": [
              "Returning_Visitor    10551\n",
              "New_Visitor           1694\n",
              "Other                   85\n",
              "Name: VisitorType, dtype: int64"
            ]
          },
          "metadata": {
            "tags": []
          },
          "execution_count": 7
        }
      ]
    },
    {
      "cell_type": "code",
      "metadata": {
        "colab": {
          "base_uri": "https://localhost:8080/"
        },
        "id": "G_yJJQb3N1SC",
        "outputId": "0c0f86ff-84ec-4dba-a5a1-7a38275f2943"
      },
      "source": [
        "# Checking Unique Browser\n",
        "df['Browser'].value_counts()"
      ],
      "execution_count": 8,
      "outputs": [
        {
          "output_type": "execute_result",
          "data": {
            "text/plain": [
              "2     7961\n",
              "1     2462\n",
              "4      736\n",
              "5      467\n",
              "6      174\n",
              "10     163\n",
              "8      135\n",
              "3      105\n",
              "13      61\n",
              "7       49\n",
              "12      10\n",
              "11       6\n",
              "9        1\n",
              "Name: Browser, dtype: int64"
            ]
          },
          "metadata": {
            "tags": []
          },
          "execution_count": 8
        }
      ]
    },
    {
      "cell_type": "code",
      "metadata": {
        "id": "1X4I_ukaOA0W"
      },
      "source": [
        "num_column = ['Administrative_Duration','Informational_Duration','ProductRelated_Duration','BounceRates','ExitRates','PageValues']"
      ],
      "execution_count": 9,
      "outputs": []
    },
    {
      "cell_type": "code",
      "metadata": {
        "colab": {
          "base_uri": "https://localhost:8080/",
          "height": 1000
        },
        "id": "NHGSpspPRAYG",
        "outputId": "68750b00-c3c9-4ce3-8549-4afbde5ad5fe"
      },
      "source": [
        "df.hist(column=num_column, figsize=(20,20))"
      ],
      "execution_count": 10,
      "outputs": [
        {
          "output_type": "execute_result",
          "data": {
            "text/plain": [
              "array([[<matplotlib.axes._subplots.AxesSubplot object at 0x7ff551100490>,\n",
              "        <matplotlib.axes._subplots.AxesSubplot object at 0x7ff55072a210>],\n",
              "       [<matplotlib.axes._subplots.AxesSubplot object at 0x7ff5506e2890>,\n",
              "        <matplotlib.axes._subplots.AxesSubplot object at 0x7ff550699f10>],\n",
              "       [<matplotlib.axes._subplots.AxesSubplot object at 0x7ff5506595d0>,\n",
              "        <matplotlib.axes._subplots.AxesSubplot object at 0x7ff55060fc50>]],\n",
              "      dtype=object)"
            ]
          },
          "metadata": {
            "tags": []
          },
          "execution_count": 10
        },
        {
          "output_type": "display_data",
          "data": {
            "image/png": "[encoded data removed]",
            "text/plain": [
              "<Figure size 1440x1440 with 6 Axes>"
            ]
          },
          "metadata": {
            "tags": [],
            "needs_background": "light"
          }
        }
      ]
    },
    {
      "cell_type": "markdown",
      "metadata": {
        "id": "LFtEKm2CSe6v"
      },
      "source": [
        "Class Imbalance\n"
      ]
    },
    {
      "cell_type": "code",
      "metadata": {
        "colab": {
          "base_uri": "https://localhost:8080/",
          "height": 611
        },
        "id": "ElpgchweSH4o",
        "outputId": "4a7658ef-7d8f-4131-8a20-4e05fc0ce3f9"
      },
      "source": [
        "plt.figure(figsize=(10,10))\n",
        "df['Revenue'].value_counts().plot(kind='pie',autopct='%1.1f', textprops={'fontsize': 15},startangle=90,explode =(0.1,0),colors=['slategray','cornflowerblue'])\n",
        "plt.title('Revenue', fontsize = 18)\n",
        "plt.ylabel('')"
      ],
      "execution_count": 11,
      "outputs": [
        {
          "output_type": "execute_result",
          "data": {
            "text/plain": [
              "Text(0, 0.5, '')"
            ]
          },
          "metadata": {
            "tags": []
          },
          "execution_count": 11
        },
        {
          "output_type": "display_data",
          "data": {
            "image/png": "[encoded data removed]",
            "text/plain": [
              "<Figure size 720x720 with 1 Axes>"
            ]
          },
          "metadata": {
            "tags": []
          }
        }
      ]
    },
    {
      "cell_type": "markdown",
      "metadata": {
        "id": "Xy9RFtTSSeMe"
      },
      "source": [
        "Univarient Analysis"
      ]
    },
    {
      "cell_type": "code",
      "metadata": {
        "colab": {
          "base_uri": "https://localhost:8080/",
          "height": 312
        },
        "id": "hrGofZjmSITT",
        "outputId": "4f5b0c38-6141-4d2f-ed0c-25a49b0e2f92"
      },
      "source": [
        "plt.title(\"Number of Custmomers Adding Revenue\")\n",
        "sns.countplot(df['Revenue'])"
      ],
      "execution_count": 12,
      "outputs": [
        {
          "output_type": "execute_result",
          "data": {
            "text/plain": [
              "<matplotlib.axes._subplots.AxesSubplot at 0x7ff55060f190>"
            ]
          },
          "metadata": {
            "tags": []
          },
          "execution_count": 12
        },
        {
          "output_type": "display_data",
          "data": {
            "image/png": "[encoded data removed]",
            "text/plain": [
              "<Figure size 432x288 with 1 Axes>"
            ]
          },
          "metadata": {
            "tags": [],
            "needs_background": "light"
          }
        }
      ]
    },
    {
      "cell_type": "markdown",
      "metadata": {
        "id": "KQSM_vLfeJ_G"
      },
      "source": [
        "Bi-Varient Analysis"
      ]
    },
    {
      "cell_type": "code",
      "metadata": {
        "colab": {
          "base_uri": "https://localhost:8080/",
          "height": 425
        },
        "id": "xna8z-npeN9U",
        "outputId": "4a8331b4-8f28-4e79-afb0-9eda330cf4c2"
      },
      "source": [
        "# cato vs Cato\n",
        "# visitor type vs revenue\n",
        "data = pd.crosstab(df['VisitorType'], df['Revenue'])\n",
        "data.plot(kind = 'bar', stacked = True, figsize = (8, 5), color = ['lightgreen', 'green'])\n",
        "plt.title('Visitor Type vs Revenue')\n",
        "plt.show()"
      ],
      "execution_count": 13,
      "outputs": [
        {
          "output_type": "display_data",
          "data": {
            "image/png": "[encoded data removed]",
            "text/plain": [
              "<Figure size 576x360 with 1 Axes>"
            ]
          },
          "metadata": {
            "tags": [],
            "needs_background": "light"
          }
        }
      ]
    },
    {
      "cell_type": "markdown",
      "metadata": {
        "id": "UVDEf87jVt9b"
      },
      "source": [
        "Multivarient Analysis"
      ]
    },
    {
      "cell_type": "code",
      "metadata": {
        "colab": {
          "base_uri": "https://localhost:8080/",
          "height": 498
        },
        "id": "857IhQSESIi0",
        "outputId": "f3701d0e-34ce-40ba-f6a4-ea04eec03824"
      },
      "source": [
        "obj_column = ['Administrative', 'Informational','ProductRelated','SpecialDay','OperatingSystems',\n",
        "              'Browser','Region','TrafficType','Month','VisitorType','Weekend']\n",
        "plt.figure(figsize=(30,30))\n",
        "plot_number = 0\n",
        "for i in obj_column:\n",
        "  plot_number = plot_number+1\n",
        "  ax = plt.subplot(6,6,plot_number, adjustable='datalim')\n",
        "  sns.countplot(df[i], hue = df['Revenue'])\n",
        "  ax.set_title('Customers adding revenue based on '+i,fontdict = None)\n",
        "  plt.tight_layout()"
      ],
      "execution_count": 14,
      "outputs": [
        {
          "output_type": "display_data",
          "data": {
            "image/png": "[encoded data removed]",
            "text/plain": [
              "<Figure size 2160x2160 with 11 Axes>"
            ]
          },
          "metadata": {
            "tags": [],
            "needs_background": "light"
          }
        }
      ]
    },
    {
      "cell_type": "markdown",
      "metadata": {
        "id": "IaGwL_DgYlbT"
      },
      "source": [
        "\n",
        "Month vs PageValues vs Revenue\n"
      ]
    },
    {
      "cell_type": "code",
      "metadata": {
        "colab": {
          "base_uri": "https://localhost:8080/",
          "height": 295
        },
        "id": "ZIlNZwphWP6k",
        "outputId": "e655d083-bca6-4a0d-f750-83ad3a762104"
      },
      "source": [
        "sns.boxplot(x = df['Month'], y = df['PageValues'], hue = df['Revenue'], palette='inferno')\n",
        "plt.title(\"Month vs PageValues vs Revenue\")\n",
        "plt.show()"
      ],
      "execution_count": 15,
      "outputs": [
        {
          "output_type": "display_data",
          "data": {
            "image/png": "[encoded data removed]",
            "text/plain": [
              "<Figure size 432x288 with 1 Axes>"
            ]
          },
          "metadata": {
            "tags": [],
            "needs_background": "light"
          }
        }
      ]
    },
    {
      "cell_type": "markdown",
      "metadata": {
        "id": "VH51CTbmZkfo"
      },
      "source": [
        "Chi-Square\n",
        "\n",
        "to determine weather there is a statistical significance of various Features we use Chi-Square\n",
        "\n",
        "Weekend"
      ]
    },
    {
      "cell_type": "code",
      "metadata": {
        "colab": {
          "base_uri": "https://localhost:8080/",
          "height": 195
        },
        "id": "Qy-qeAyaWP9o",
        "outputId": "4e9f1d92-5c3d-402c-e7ba-72a9df426015"
      },
      "source": [
        "df_w = df[['Weekend', 'Revenue']]\n",
        "df_w.head()"
      ],
      "execution_count": 16,
      "outputs": [
        {
          "output_type": "execute_result",
          "data": {
            "text/html": [
              "<div>\n",
              "<style scoped>\n",
              "    .dataframe tbody tr th:only-of-type {\n",
              "        vertical-align: middle;\n",
              "    }\n",
              "\n",
              "    .dataframe tbody tr th {\n",
              "        vertical-align: top;\n",
              "    }\n",
              "\n",
              "    .dataframe thead th {\n",
              "        text-align: right;\n",
              "    }\n",
              "</style>\n",
              "<table border=\"1\" class=\"dataframe\">\n",
              "  <thead>\n",
              "    <tr style=\"text-align: right;\">\n",
              "      <th></th>\n",
              "      <th>Weekend</th>\n",
              "      <th>Revenue</th>\n",
              "    </tr>\n",
              "  </thead>\n",
              "  <tbody>\n",
              "    <tr>\n",
              "      <th>0</th>\n",
              "      <td>False</td>\n",
              "      <td>False</td>\n",
              "    </tr>\n",
              "    <tr>\n",
              "      <th>1</th>\n",
              "      <td>False</td>\n",
              "      <td>False</td>\n",
              "    </tr>\n",
              "    <tr>\n",
              "      <th>2</th>\n",
              "      <td>False</td>\n",
              "      <td>False</td>\n",
              "    </tr>\n",
              "    <tr>\n",
              "      <th>3</th>\n",
              "      <td>False</td>\n",
              "      <td>False</td>\n",
              "    </tr>\n",
              "    <tr>\n",
              "      <th>4</th>\n",
              "      <td>True</td>\n",
              "      <td>False</td>\n",
              "    </tr>\n",
              "  </tbody>\n",
              "</table>\n",
              "</div>"
            ],
            "text/plain": [
              "   Weekend  Revenue\n",
              "0    False    False\n",
              "1    False    False\n",
              "2    False    False\n",
              "3    False    False\n",
              "4     True    False"
            ]
          },
          "metadata": {
            "tags": []
          },
          "execution_count": 16
        }
      ]
    },
    {
      "cell_type": "code",
      "metadata": {
        "colab": {
          "base_uri": "https://localhost:8080/",
          "height": 195
        },
        "id": "G2r8w1clWQAz",
        "outputId": "5cf63acf-73cb-4aec-a486-ecbfb8ce08f0"
      },
      "source": [
        "df_w1 = pd.get_dummies(df_w)\n",
        "df_w1.head()"
      ],
      "execution_count": 17,
      "outputs": [
        {
          "output_type": "execute_result",
          "data": {
            "text/html": [
              "<div>\n",
              "<style scoped>\n",
              "    .dataframe tbody tr th:only-of-type {\n",
              "        vertical-align: middle;\n",
              "    }\n",
              "\n",
              "    .dataframe tbody tr th {\n",
              "        vertical-align: top;\n",
              "    }\n",
              "\n",
              "    .dataframe thead th {\n",
              "        text-align: right;\n",
              "    }\n",
              "</style>\n",
              "<table border=\"1\" class=\"dataframe\">\n",
              "  <thead>\n",
              "    <tr style=\"text-align: right;\">\n",
              "      <th></th>\n",
              "      <th>Weekend</th>\n",
              "      <th>Revenue</th>\n",
              "    </tr>\n",
              "  </thead>\n",
              "  <tbody>\n",
              "    <tr>\n",
              "      <th>0</th>\n",
              "      <td>False</td>\n",
              "      <td>False</td>\n",
              "    </tr>\n",
              "    <tr>\n",
              "      <th>1</th>\n",
              "      <td>False</td>\n",
              "      <td>False</td>\n",
              "    </tr>\n",
              "    <tr>\n",
              "      <th>2</th>\n",
              "      <td>False</td>\n",
              "      <td>False</td>\n",
              "    </tr>\n",
              "    <tr>\n",
              "      <th>3</th>\n",
              "      <td>False</td>\n",
              "      <td>False</td>\n",
              "    </tr>\n",
              "    <tr>\n",
              "      <th>4</th>\n",
              "      <td>True</td>\n",
              "      <td>False</td>\n",
              "    </tr>\n",
              "  </tbody>\n",
              "</table>\n",
              "</div>"
            ],
            "text/plain": [
              "   Weekend  Revenue\n",
              "0    False    False\n",
              "1    False    False\n",
              "2    False    False\n",
              "3    False    False\n",
              "4     True    False"
            ]
          },
          "metadata": {
            "tags": []
          },
          "execution_count": 17
        }
      ]
    },
    {
      "cell_type": "code",
      "metadata": {
        "colab": {
          "base_uri": "https://localhost:8080/",
          "height": 195
        },
        "id": "9ELK5KODWQDH",
        "outputId": "4bed0182-b72a-43d8-86b5-8250c342fc8c"
      },
      "source": [
        "df_w1.Weekend = df_w1.Weekend.map({False:0, True:1})\n",
        "df_w1.Revenue = df_w1.Revenue.map({False:0, True:1})\n",
        "df_w1.head()"
      ],
      "execution_count": 18,
      "outputs": [
        {
          "output_type": "execute_result",
          "data": {
            "text/html": [
              "<div>\n",
              "<style scoped>\n",
              "    .dataframe tbody tr th:only-of-type {\n",
              "        vertical-align: middle;\n",
              "    }\n",
              "\n",
              "    .dataframe tbody tr th {\n",
              "        vertical-align: top;\n",
              "    }\n",
              "\n",
              "    .dataframe thead th {\n",
              "        text-align: right;\n",
              "    }\n",
              "</style>\n",
              "<table border=\"1\" class=\"dataframe\">\n",
              "  <thead>\n",
              "    <tr style=\"text-align: right;\">\n",
              "      <th></th>\n",
              "      <th>Weekend</th>\n",
              "      <th>Revenue</th>\n",
              "    </tr>\n",
              "  </thead>\n",
              "  <tbody>\n",
              "    <tr>\n",
              "      <th>0</th>\n",
              "      <td>0</td>\n",
              "      <td>0</td>\n",
              "    </tr>\n",
              "    <tr>\n",
              "      <th>1</th>\n",
              "      <td>0</td>\n",
              "      <td>0</td>\n",
              "    </tr>\n",
              "    <tr>\n",
              "      <th>2</th>\n",
              "      <td>0</td>\n",
              "      <td>0</td>\n",
              "    </tr>\n",
              "    <tr>\n",
              "      <th>3</th>\n",
              "      <td>0</td>\n",
              "      <td>0</td>\n",
              "    </tr>\n",
              "    <tr>\n",
              "      <th>4</th>\n",
              "      <td>1</td>\n",
              "      <td>0</td>\n",
              "    </tr>\n",
              "  </tbody>\n",
              "</table>\n",
              "</div>"
            ],
            "text/plain": [
              "   Weekend  Revenue\n",
              "0        0        0\n",
              "1        0        0\n",
              "2        0        0\n",
              "3        0        0\n",
              "4        1        0"
            ]
          },
          "metadata": {
            "tags": []
          },
          "execution_count": 18
        }
      ]
    },
    {
      "cell_type": "code",
      "metadata": {
        "colab": {
          "base_uri": "https://localhost:8080/",
          "height": 136
        },
        "id": "QYzEF9kcWQFu",
        "outputId": "ce416825-96cf-4e99-db13-0dfe7480bc19"
      },
      "source": [
        "from scipy.stats import chi2_contingency\n",
        "from scipy.stats import chi2\n",
        "ct = pd.crosstab(df_w['Weekend'],df_w['Revenue'])\n",
        "ct"
      ],
      "execution_count": 19,
      "outputs": [
        {
          "output_type": "execute_result",
          "data": {
            "text/html": [
              "<div>\n",
              "<style scoped>\n",
              "    .dataframe tbody tr th:only-of-type {\n",
              "        vertical-align: middle;\n",
              "    }\n",
              "\n",
              "    .dataframe tbody tr th {\n",
              "        vertical-align: top;\n",
              "    }\n",
              "\n",
              "    .dataframe thead th {\n",
              "        text-align: right;\n",
              "    }\n",
              "</style>\n",
              "<table border=\"1\" class=\"dataframe\">\n",
              "  <thead>\n",
              "    <tr style=\"text-align: right;\">\n",
              "      <th>Revenue</th>\n",
              "      <th>False</th>\n",
              "      <th>True</th>\n",
              "    </tr>\n",
              "    <tr>\n",
              "      <th>Weekend</th>\n",
              "      <th></th>\n",
              "      <th></th>\n",
              "    </tr>\n",
              "  </thead>\n",
              "  <tbody>\n",
              "    <tr>\n",
              "      <th>False</th>\n",
              "      <td>8053</td>\n",
              "      <td>1409</td>\n",
              "    </tr>\n",
              "    <tr>\n",
              "      <th>True</th>\n",
              "      <td>2369</td>\n",
              "      <td>499</td>\n",
              "    </tr>\n",
              "  </tbody>\n",
              "</table>\n",
              "</div>"
            ],
            "text/plain": [
              "Revenue  False  True \n",
              "Weekend              \n",
              "False     8053   1409\n",
              "True      2369    499"
            ]
          },
          "metadata": {
            "tags": []
          },
          "execution_count": 19
        }
      ]
    },
    {
      "cell_type": "code",
      "metadata": {
        "colab": {
          "base_uri": "https://localhost:8080/"
        },
        "id": "Gt6PPmNRWQIP",
        "outputId": "7f322b3a-bfc7-49c7-99f6-e7808ebf0ffd"
      },
      "source": [
        "nn = np.array(ct)\n",
        "nn"
      ],
      "execution_count": 20,
      "outputs": [
        {
          "output_type": "execute_result",
          "data": {
            "text/plain": [
              "array([[8053, 1409],\n",
              "       [2369,  499]])"
            ]
          },
          "metadata": {
            "tags": []
          },
          "execution_count": 20
        }
      ]
    },
    {
      "cell_type": "markdown",
      "metadata": {
        "id": "aQ0Tx0YkrRdN"
      },
      "source": [
        "HYPOTHESIS\n",
        "\n",
        "HO = The variable are Independent.\n",
        "\n",
        "HA = The variable are Dependent"
      ]
    },
    {
      "cell_type": "code",
      "metadata": {
        "colab": {
          "base_uri": "https://localhost:8080/"
        },
        "id": "PRBAoSE4WQLx",
        "outputId": "3ec3ac38-54a0-4c13-f946-e3b4d3d72c52"
      },
      "source": [
        "stat, p, dof, expected = chi2_contingency(nn)\n",
        "print('dof=%d' % dof)\n",
        "print(expected)\n",
        "# interpret test-statistic\n",
        "prob = 0.95\n",
        "critical = chi2.ppf(prob, dof)\n",
        "print('probability=%.3f, critical=%.3f, stat=%.3f' % (prob, critical, stat))\n",
        "if abs(stat) >= critical:\n",
        "    print(' Dependent (reject H0)')\n",
        "else:\n",
        "    print('Independent (fail to reject H0)')\n",
        "# interpret p-value\n",
        "alpha = 1.0 - prob\n",
        "print('significance=%.3f, p=%.3f' % (alpha, p))\n",
        "if p <= alpha:\n",
        "    print('Dependent (reject H0)')\n",
        "else:\n",
        "    print('Independent (fail)')"
      ],
      "execution_count": 21,
      "outputs": [
        {
          "output_type": "stream",
          "text": [
            "dof=1\n",
            "[[7997.80729927 1464.19270073]\n",
            " [2424.19270073  443.80729927]]\n",
            "probability=0.950, critical=3.841, stat=10.391\n",
            " Dependent (reject H0)\n",
            "significance=0.050, p=0.001\n",
            "Dependent (reject H0)\n"
          ],
          "name": "stdout"
        }
      ]
    },
    {
      "cell_type": "code",
      "metadata": {
        "colab": {
          "base_uri": "https://localhost:8080/"
        },
        "id": "Uzca94vQrvRP",
        "outputId": "3824989c-be04-4e36-e5f7-a90a959e1111"
      },
      "source": [
        "df.columns"
      ],
      "execution_count": 22,
      "outputs": [
        {
          "output_type": "execute_result",
          "data": {
            "text/plain": [
              "Index(['Administrative', 'Administrative_Duration', 'Informational',\n",
              "       'Informational_Duration', 'ProductRelated', 'ProductRelated_Duration',\n",
              "       'BounceRates', 'ExitRates', 'PageValues', 'SpecialDay', 'Month',\n",
              "       'OperatingSystems', 'Browser', 'Region', 'TrafficType', 'VisitorType',\n",
              "       'Weekend', 'Revenue'],\n",
              "      dtype='object')"
            ]
          },
          "metadata": {
            "tags": []
          },
          "execution_count": 22
        }
      ]
    },
    {
      "cell_type": "markdown",
      "metadata": {
        "id": "88SMrK07r0zr"
      },
      "source": [
        "Visitor Type"
      ]
    },
    {
      "cell_type": "code",
      "metadata": {
        "colab": {
          "base_uri": "https://localhost:8080/",
          "height": 166
        },
        "id": "Sjb24m7_r3b-",
        "outputId": "1229979a-64bf-448e-99d4-b545494d89fa"
      },
      "source": [
        "df_vt = pd.crosstab(df.VisitorType, df.Revenue)\n",
        "df_vt"
      ],
      "execution_count": 23,
      "outputs": [
        {
          "output_type": "execute_result",
          "data": {
            "text/html": [
              "<div>\n",
              "<style scoped>\n",
              "    .dataframe tbody tr th:only-of-type {\n",
              "        vertical-align: middle;\n",
              "    }\n",
              "\n",
              "    .dataframe tbody tr th {\n",
              "        vertical-align: top;\n",
              "    }\n",
              "\n",
              "    .dataframe thead th {\n",
              "        text-align: right;\n",
              "    }\n",
              "</style>\n",
              "<table border=\"1\" class=\"dataframe\">\n",
              "  <thead>\n",
              "    <tr style=\"text-align: right;\">\n",
              "      <th>Revenue</th>\n",
              "      <th>False</th>\n",
              "      <th>True</th>\n",
              "    </tr>\n",
              "    <tr>\n",
              "      <th>VisitorType</th>\n",
              "      <th></th>\n",
              "      <th></th>\n",
              "    </tr>\n",
              "  </thead>\n",
              "  <tbody>\n",
              "    <tr>\n",
              "      <th>New_Visitor</th>\n",
              "      <td>1272</td>\n",
              "      <td>422</td>\n",
              "    </tr>\n",
              "    <tr>\n",
              "      <th>Other</th>\n",
              "      <td>69</td>\n",
              "      <td>16</td>\n",
              "    </tr>\n",
              "    <tr>\n",
              "      <th>Returning_Visitor</th>\n",
              "      <td>9081</td>\n",
              "      <td>1470</td>\n",
              "    </tr>\n",
              "  </tbody>\n",
              "</table>\n",
              "</div>"
            ],
            "text/plain": [
              "Revenue            False  True \n",
              "VisitorType                    \n",
              "New_Visitor         1272    422\n",
              "Other                 69     16\n",
              "Returning_Visitor   9081   1470"
            ]
          },
          "metadata": {
            "tags": []
          },
          "execution_count": 23
        }
      ]
    },
    {
      "cell_type": "code",
      "metadata": {
        "colab": {
          "base_uri": "https://localhost:8080/"
        },
        "id": "kmSKhHUJr8_A",
        "outputId": "d15c0cef-54dc-4e2d-909f-d136588a99e2"
      },
      "source": [
        "vt = np.array(df_vt)\n",
        "vt"
      ],
      "execution_count": 24,
      "outputs": [
        {
          "output_type": "execute_result",
          "data": {
            "text/plain": [
              "array([[1272,  422],\n",
              "       [  69,   16],\n",
              "       [9081, 1470]])"
            ]
          },
          "metadata": {
            "tags": []
          },
          "execution_count": 24
        }
      ]
    },
    {
      "cell_type": "code",
      "metadata": {
        "colab": {
          "base_uri": "https://localhost:8080/"
        },
        "id": "uziMjeegr_TH",
        "outputId": "d92fdadf-e991-4b38-fbe7-825f378f0043"
      },
      "source": [
        "stat, p, dof, expected = chi2_contingency(vt)\n",
        "print('dof=%d' % dof)\n",
        "print(expected)\n",
        "# interpret test-statistic\n",
        "prob = 0.95\n",
        "critical = chi2.ppf(prob, dof)\n",
        "print('probability=%.3f, critical=%.3f, stat=%.3f' % (prob, critical, stat))\n",
        "if abs(stat) >= critical:\n",
        "    print('Dependent (reject H0)')\n",
        "else:\n",
        "    print('Independent (fail to reject H0)')\n",
        "# interpret p-value\n",
        "alpha = 1.0 - prob\n",
        "print('significance=%.3f, p=%.3f' % (alpha, p))\n",
        "if p <= alpha:\n",
        "    print('Dependent (reject H0)')\n",
        "else:\n",
        "    print('Independent (fail to reject H0)')"
      ],
      "execution_count": 25,
      "outputs": [
        {
          "output_type": "stream",
          "text": [
            "dof=2\n",
            "[[1431.86277372  262.13722628]\n",
            " [  71.84671533   13.15328467]\n",
            " [8918.29051095 1632.70948905]]\n",
            "probability=0.950, critical=5.991, stat=135.252\n",
            "Dependent (reject H0)\n",
            "significance=0.050, p=0.000\n",
            "Dependent (reject H0)\n"
          ],
          "name": "stdout"
        }
      ]
    },
    {
      "cell_type": "markdown",
      "metadata": {
        "id": "4dQFTueJsFQR"
      },
      "source": [
        "Traffic Type"
      ]
    },
    {
      "cell_type": "code",
      "metadata": {
        "colab": {
          "base_uri": "https://localhost:8080/",
          "height": 299
        },
        "id": "x7wWgMIvsDq4",
        "outputId": "04641db9-def3-4ada-c009-c9053d75042b"
      },
      "source": [
        "df_tt = pd.crosstab(df.TrafficType, df.Revenue)\n",
        "df_tt.plot(kind = 'bar')"
      ],
      "execution_count": 26,
      "outputs": [
        {
          "output_type": "execute_result",
          "data": {
            "text/plain": [
              "<matplotlib.axes._subplots.AxesSubplot at 0x7ff5447cd750>"
            ]
          },
          "metadata": {
            "tags": []
          },
          "execution_count": 26
        },
        {
          "output_type": "display_data",
          "data": {
            "image/png": "[encoded data removed]",
            "text/plain": [
              "<Figure size 432x288 with 1 Axes>"
            ]
          },
          "metadata": {
            "tags": [],
            "needs_background": "light"
          }
        }
      ]
    },
    {
      "cell_type": "code",
      "metadata": {
        "id": "ToJynR7fsJtI"
      },
      "source": [
        "df_tt.TrafficType = df.TrafficType.replace(to_replace = [5,6,7,8,9,10,11,12,13,14,15,16,17,18,19,20], value = 5)"
      ],
      "execution_count": 27,
      "outputs": []
    },
    {
      "cell_type": "code",
      "metadata": {
        "colab": {
          "base_uri": "https://localhost:8080/",
          "height": 293
        },
        "id": "pOBU0CvBsNGx",
        "outputId": "ff64d962-7e22-477f-b7ff-65381c774350"
      },
      "source": [
        "df_tt = pd.crosstab(df_tt.TrafficType, df.Revenue)\n",
        "df_tt.plot(kind = 'bar')"
      ],
      "execution_count": 28,
      "outputs": [
        {
          "output_type": "execute_result",
          "data": {
            "text/plain": [
              "<matplotlib.axes._subplots.AxesSubplot at 0x7ff544647ed0>"
            ]
          },
          "metadata": {
            "tags": []
          },
          "execution_count": 28
        },
        {
          "output_type": "display_data",
          "data": {
            "image/png": "[encoded data removed]",
            "text/plain": [
              "<Figure size 432x288 with 1 Axes>"
            ]
          },
          "metadata": {
            "tags": [],
            "needs_background": "light"
          }
        }
      ]
    },
    {
      "cell_type": "code",
      "metadata": {
        "colab": {
          "base_uri": "https://localhost:8080/"
        },
        "id": "CzyLLz_hsQ4l",
        "outputId": "d6fa4dd6-cd5e-4826-de1a-a753d1d97125"
      },
      "source": [
        "df.TrafficType.nunique()"
      ],
      "execution_count": 29,
      "outputs": [
        {
          "output_type": "execute_result",
          "data": {
            "text/plain": [
              "20"
            ]
          },
          "metadata": {
            "tags": []
          },
          "execution_count": 29
        }
      ]
    },
    {
      "cell_type": "code",
      "metadata": {
        "colab": {
          "base_uri": "https://localhost:8080/"
        },
        "id": "43Z4CunssRcf",
        "outputId": "b3c93cfd-97b4-4def-9410-3d71f463c516"
      },
      "source": [
        "tt = np.array(df_tt)\n",
        "tt"
      ],
      "execution_count": 30,
      "outputs": [
        {
          "output_type": "execute_result",
          "data": {
            "text/plain": [
              "array([[2189,  262],\n",
              "       [3066,  847],\n",
              "       [1872,  180],\n",
              "       [ 904,  165],\n",
              "       [2391,  454]])"
            ]
          },
          "metadata": {
            "tags": []
          },
          "execution_count": 30
        }
      ]
    },
    {
      "cell_type": "code",
      "metadata": {
        "colab": {
          "base_uri": "https://localhost:8080/"
        },
        "id": "HPbrcYGBsRfV",
        "outputId": "0da55ff4-7394-4d67-9097-7ee636075cdf"
      },
      "source": [
        "stat, p, dof, expected = chi2_contingency(tt)\n",
        "print('dof=%d' % dof)\n",
        "print(expected)\n",
        "# interpret test-statistic\n",
        "prob = 0.95\n",
        "critical = chi2.ppf(prob, dof)\n",
        "print('probability=%.3f, critical=%.3f, stat=%.3f' % (prob, critical, stat))\n",
        "if abs(stat) >= critical:\n",
        "    print('Dependent (reject H0)')\n",
        "else:\n",
        "    print('Independent (fail to reject H0)')\n",
        "# interpret p-value\n",
        "alpha = 1.0 - prob\n",
        "print('significance=%.3f, p=%.3f' % (alpha, p))\n",
        "if p <= alpha:\n",
        "    print('Dependent (reject H0)')\n",
        "else:\n",
        "    print('Independent (fail to reject H0)')"
      ],
      "execution_count": 31,
      "outputs": [
        {
          "output_type": "stream",
          "text": [
            "dof=4\n",
            "[[2071.72116788  379.27883212]\n",
            " [3307.48467153  605.51532847]\n",
            " [1734.46423358  317.53576642]\n",
            " [ 903.57810219  165.42189781]\n",
            " [2404.75182482  440.24817518]]\n",
            "probability=0.950, critical=9.488, stat=227.828\n",
            "Dependent (reject H0)\n",
            "significance=0.050, p=0.000\n",
            "Dependent (reject H0)\n"
          ],
          "name": "stdout"
        }
      ]
    },
    {
      "cell_type": "markdown",
      "metadata": {
        "id": "CZBYeC5_sbQa"
      },
      "source": [
        "Region"
      ]
    },
    {
      "cell_type": "code",
      "metadata": {
        "colab": {
          "base_uri": "https://localhost:8080/",
          "height": 276
        },
        "id": "g1fg30qRsRjS",
        "outputId": "ac1525dc-df9d-4b6a-ae5f-ffec2ceaa6a0"
      },
      "source": [
        "df_r = pd.crosstab(df.Region, df.Revenue)\n",
        "df_r.plot(kind = 'bar')\n",
        "plt.show()"
      ],
      "execution_count": 32,
      "outputs": [
        {
          "output_type": "display_data",
          "data": {
            "image/png": "[encoded data removed]",
            "text/plain": [
              "<Figure size 432x288 with 1 Axes>"
            ]
          },
          "metadata": {
            "tags": [],
            "needs_background": "light"
          }
        }
      ]
    },
    {
      "cell_type": "code",
      "metadata": {
        "colab": {
          "base_uri": "https://localhost:8080/",
          "height": 343
        },
        "id": "Gepq8W1VsRlB",
        "outputId": "7928f666-1d78-4841-ae3c-152d98e53065"
      },
      "source": [
        "df_r"
      ],
      "execution_count": 33,
      "outputs": [
        {
          "output_type": "execute_result",
          "data": {
            "text/html": [
              "<div>\n",
              "<style scoped>\n",
              "    .dataframe tbody tr th:only-of-type {\n",
              "        vertical-align: middle;\n",
              "    }\n",
              "\n",
              "    .dataframe tbody tr th {\n",
              "        vertical-align: top;\n",
              "    }\n",
              "\n",
              "    .dataframe thead th {\n",
              "        text-align: right;\n",
              "    }\n",
              "</style>\n",
              "<table border=\"1\" class=\"dataframe\">\n",
              "  <thead>\n",
              "    <tr style=\"text-align: right;\">\n",
              "      <th>Revenue</th>\n",
              "      <th>False</th>\n",
              "      <th>True</th>\n",
              "    </tr>\n",
              "    <tr>\n",
              "      <th>Region</th>\n",
              "      <th></th>\n",
              "      <th></th>\n",
              "    </tr>\n",
              "  </thead>\n",
              "  <tbody>\n",
              "    <tr>\n",
              "      <th>1</th>\n",
              "      <td>4009</td>\n",
              "      <td>771</td>\n",
              "    </tr>\n",
              "    <tr>\n",
              "      <th>2</th>\n",
              "      <td>948</td>\n",
              "      <td>188</td>\n",
              "    </tr>\n",
              "    <tr>\n",
              "      <th>3</th>\n",
              "      <td>2054</td>\n",
              "      <td>349</td>\n",
              "    </tr>\n",
              "    <tr>\n",
              "      <th>4</th>\n",
              "      <td>1007</td>\n",
              "      <td>175</td>\n",
              "    </tr>\n",
              "    <tr>\n",
              "      <th>5</th>\n",
              "      <td>266</td>\n",
              "      <td>52</td>\n",
              "    </tr>\n",
              "    <tr>\n",
              "      <th>6</th>\n",
              "      <td>693</td>\n",
              "      <td>112</td>\n",
              "    </tr>\n",
              "    <tr>\n",
              "      <th>7</th>\n",
              "      <td>642</td>\n",
              "      <td>119</td>\n",
              "    </tr>\n",
              "    <tr>\n",
              "      <th>8</th>\n",
              "      <td>378</td>\n",
              "      <td>56</td>\n",
              "    </tr>\n",
              "    <tr>\n",
              "      <th>9</th>\n",
              "      <td>425</td>\n",
              "      <td>86</td>\n",
              "    </tr>\n",
              "  </tbody>\n",
              "</table>\n",
              "</div>"
            ],
            "text/plain": [
              "Revenue  False  True \n",
              "Region               \n",
              "1         4009    771\n",
              "2          948    188\n",
              "3         2054    349\n",
              "4         1007    175\n",
              "5          266     52\n",
              "6          693    112\n",
              "7          642    119\n",
              "8          378     56\n",
              "9          425     86"
            ]
          },
          "metadata": {
            "tags": []
          },
          "execution_count": 33
        }
      ]
    },
    {
      "cell_type": "code",
      "metadata": {
        "colab": {
          "base_uri": "https://localhost:8080/"
        },
        "id": "AMwsNcyzsRnc",
        "outputId": "00fb91d7-9475-45d8-e618-591c8675c753"
      },
      "source": [
        "df_r.iloc[5,:]"
      ],
      "execution_count": 34,
      "outputs": [
        {
          "output_type": "execute_result",
          "data": {
            "text/plain": [
              "Revenue\n",
              "False    693\n",
              "True     112\n",
              "Name: 6, dtype: int64"
            ]
          },
          "metadata": {
            "tags": []
          },
          "execution_count": 34
        }
      ]
    },
    {
      "cell_type": "code",
      "metadata": {
        "id": "iOR8PGBrsRq0"
      },
      "source": [
        "df_r.Region = df.Region.replace(to_replace = [5,6,7,8,9], value = 5)"
      ],
      "execution_count": 35,
      "outputs": []
    },
    {
      "cell_type": "code",
      "metadata": {
        "colab": {
          "base_uri": "https://localhost:8080/"
        },
        "id": "F7aEz_M4sn0r",
        "outputId": "f0f22574-7263-49da-d2c1-4db86bde325d"
      },
      "source": [
        "print(df.Region.nunique())\n",
        "print(df_r.Region.unique())"
      ],
      "execution_count": 36,
      "outputs": [
        {
          "output_type": "stream",
          "text": [
            "9\n",
            "[1 5 2 3 4]\n"
          ],
          "name": "stdout"
        }
      ]
    },
    {
      "cell_type": "code",
      "metadata": {
        "colab": {
          "base_uri": "https://localhost:8080/"
        },
        "id": "XPu2Se-Nsn38",
        "outputId": "383d33ad-c664-4266-f958-3b918ab07876"
      },
      "source": [
        "df_r.Region.unique()"
      ],
      "execution_count": 37,
      "outputs": [
        {
          "output_type": "execute_result",
          "data": {
            "text/plain": [
              "array([1, 5, 2, 3, 4])"
            ]
          },
          "metadata": {
            "tags": []
          },
          "execution_count": 37
        }
      ]
    },
    {
      "cell_type": "code",
      "metadata": {
        "colab": {
          "base_uri": "https://localhost:8080/",
          "height": 276
        },
        "id": "WpkK-mK3sn8t",
        "outputId": "4f3c227c-3f9b-48cd-a4ab-172ed7052f37"
      },
      "source": [
        "df_r = pd.crosstab(df_r.Region, df.Revenue)\n",
        "df_r.plot(kind = 'bar')\n",
        "plt.show()"
      ],
      "execution_count": 38,
      "outputs": [
        {
          "output_type": "display_data",
          "data": {
            "image/png": "[encoded data removed]",
            "text/plain": [
              "<Figure size 432x288 with 1 Axes>"
            ]
          },
          "metadata": {
            "tags": [],
            "needs_background": "light"
          }
        }
      ]
    },
    {
      "cell_type": "code",
      "metadata": {
        "colab": {
          "base_uri": "https://localhost:8080/"
        },
        "id": "aE84lOb8sn-r",
        "outputId": "24d01fa4-b96f-4e50-a3ba-45f4828b8945"
      },
      "source": [
        "rg = np.array(df_r)\n",
        "rg"
      ],
      "execution_count": 39,
      "outputs": [
        {
          "output_type": "execute_result",
          "data": {
            "text/plain": [
              "array([[4009,  771],\n",
              "       [ 948,  188],\n",
              "       [2054,  349],\n",
              "       [1007,  175],\n",
              "       [2404,  425]])"
            ]
          },
          "metadata": {
            "tags": []
          },
          "execution_count": 39
        }
      ]
    },
    {
      "cell_type": "code",
      "metadata": {
        "colab": {
          "base_uri": "https://localhost:8080/"
        },
        "id": "VM5IZja5soBR",
        "outputId": "9fa56878-6f88-4a02-a82f-35745ae90352"
      },
      "source": [
        "stat, p, dof, expected = chi2_contingency(rg)\n",
        "print('dof=%d' % dof)\n",
        "print(expected)\n",
        "# interpret test-statistic\n",
        "prob = 0.95\n",
        "critical = chi2.ppf(prob, dof)\n",
        "print('probability=%.3f, critical=%.3f, stat=%.3f' % (prob, critical, stat))\n",
        "if abs(stat) >= critical:\n",
        "    print('Dependent (reject H0)')\n",
        "else:\n",
        "    print('Independent (fail to reject H0)')\n",
        "# interpret p-value\n",
        "alpha = 1.0 - prob\n",
        "print('significance=%.3f, p=%.3f' % (alpha, p))\n",
        "if p <= alpha:\n",
        "    print('Dependent (reject H0)')\n",
        "else:\n",
        "    print('Independent (fail to reject H0)')"
      ],
      "execution_count": 40,
      "outputs": [
        {
          "output_type": "stream",
          "text": [
            "dof=4\n",
            "[[4040.32116788  739.67883212]\n",
            " [ 960.21021898  175.78978102]\n",
            " [2031.14890511  371.85109489]\n",
            " [ 999.0919708   182.9080292 ]\n",
            " [2391.22773723  437.77226277]]\n",
            "probability=0.950, critical=9.488, stat=5.079\n",
            "Independent (fail to reject H0)\n",
            "significance=0.050, p=0.279\n",
            "Independent (fail to reject H0)\n"
          ],
          "name": "stdout"
        }
      ]
    },
    {
      "cell_type": "markdown",
      "metadata": {
        "id": "JtcR2NRrs2Nq"
      },
      "source": [
        "Browser"
      ]
    },
    {
      "cell_type": "code",
      "metadata": {
        "colab": {
          "base_uri": "https://localhost:8080/",
          "height": 284
        },
        "id": "bLYqDyHDsoE7",
        "outputId": "b0517692-12c7-4573-ae5b-7737a3ec0810"
      },
      "source": [
        "df_b = pd.crosstab(df.Browser, df.Revenue)\n",
        "df_b.plot(kind = 'bar')\n",
        "plt.show()"
      ],
      "execution_count": 41,
      "outputs": [
        {
          "output_type": "display_data",
          "data": {
            "image/png": "[encoded data removed]",
            "text/plain": [
              "<Figure size 432x288 with 1 Axes>"
            ]
          },
          "metadata": {
            "tags": [],
            "needs_background": "light"
          }
        }
      ]
    },
    {
      "cell_type": "code",
      "metadata": {
        "id": "hCh97k_bsoHq"
      },
      "source": [
        "df_b.Browser = df.Browser.replace(to_replace = [3,4,5,6,7,8,9,10,11,12,13], value = 3)"
      ],
      "execution_count": 42,
      "outputs": []
    },
    {
      "cell_type": "code",
      "metadata": {
        "colab": {
          "base_uri": "https://localhost:8080/"
        },
        "id": "rHFsZCR0soKB",
        "outputId": "e8465c65-0230-4d1b-993b-cb759600b664"
      },
      "source": [
        "print(df.Browser.nunique())\n",
        "print(df_b.Browser.unique())"
      ],
      "execution_count": 43,
      "outputs": [
        {
          "output_type": "stream",
          "text": [
            "13\n",
            "[1 2 3]\n"
          ],
          "name": "stdout"
        }
      ]
    },
    {
      "cell_type": "code",
      "metadata": {
        "colab": {
          "base_uri": "https://localhost:8080/",
          "height": 294
        },
        "id": "tlo3m5bYsoMO",
        "outputId": "c0f16512-eb90-40da-e336-d71c33395c72"
      },
      "source": [
        "df_b = pd.crosstab(df_b.Browser, df.Revenue)\n",
        "df_b.plot(kind = 'bar')"
      ],
      "execution_count": 44,
      "outputs": [
        {
          "output_type": "execute_result",
          "data": {
            "text/plain": [
              "<matplotlib.axes._subplots.AxesSubplot at 0x7ff5448254d0>"
            ]
          },
          "metadata": {
            "tags": []
          },
          "execution_count": 44
        },
        {
          "output_type": "display_data",
          "data": {
            "image/png": "[encoded data removed]",
            "text/plain": [
              "<Figure size 432x288 with 1 Axes>"
            ]
          },
          "metadata": {
            "tags": [],
            "needs_background": "light"
          }
        }
      ]
    },
    {
      "cell_type": "code",
      "metadata": {
        "colab": {
          "base_uri": "https://localhost:8080/"
        },
        "id": "hrl8qOPptEBJ",
        "outputId": "63dbdeed-b104-4fcc-bdf5-215c3c1ad9a2"
      },
      "source": [
        "b = np.array(df_b)\n",
        "b"
      ],
      "execution_count": 45,
      "outputs": [
        {
          "output_type": "execute_result",
          "data": {
            "text/plain": [
              "array([[2097,  365],\n",
              "       [6738, 1223],\n",
              "       [1587,  320]])"
            ]
          },
          "metadata": {
            "tags": []
          },
          "execution_count": 45
        }
      ]
    },
    {
      "cell_type": "code",
      "metadata": {
        "colab": {
          "base_uri": "https://localhost:8080/"
        },
        "id": "1FtzWDzDtEEK",
        "outputId": "125c8ae9-a985-4c3f-cdb2-e63556de6cf4"
      },
      "source": [
        "stat, p, dof, expected = chi2_contingency(b)\n",
        "print('dof=%d' % dof)\n",
        "print(expected)\n",
        "# interpret test-statistic\n",
        "prob = 0.95\n",
        "critical = chi2.ppf(prob, dof)\n",
        "print('probability=%.3f, critical=%.3f, stat=%.3f' % (prob, critical, stat))\n",
        "if abs(stat) >= critical:\n",
        "    print('Dependent (reject H0)')\n",
        "else:\n",
        "    print('Independent (fail to reject H0)')\n",
        "# interpret p-value\n",
        "alpha = 1.0 - prob\n",
        "print('significance=%.3f, p=%.3f' % (alpha, p))\n",
        "if p <= alpha:\n",
        "    print('Dependent (reject H0)')\n",
        "else:\n",
        "    print('Independent (fail to reject H0)')"
      ],
      "execution_count": 46,
      "outputs": [
        {
          "output_type": "stream",
          "text": [
            "dof=2\n",
            "[[2081.0189781   380.9810219 ]\n",
            " [6729.07883212 1231.92116788]\n",
            " [1611.90218978  295.09781022]]\n",
            "probability=0.950, critical=5.991, stat=3.356\n",
            "Independent (fail to reject H0)\n",
            "significance=0.050, p=0.187\n",
            "Independent (fail to reject H0)\n"
          ],
          "name": "stdout"
        }
      ]
    },
    {
      "cell_type": "markdown",
      "metadata": {
        "id": "1tqiAnfStPxI"
      },
      "source": [
        "Operating Systems "
      ]
    },
    {
      "cell_type": "code",
      "metadata": {
        "colab": {
          "base_uri": "https://localhost:8080/",
          "height": 276
        },
        "id": "7wEjBpHItEG4",
        "outputId": "1a0018ca-c2c0-4d2a-f527-bcf87858584d"
      },
      "source": [
        "df_os = pd.crosstab(df.OperatingSystems, df.Revenue)\n",
        "df_os.plot(kind = 'bar')\n",
        "plt.show()"
      ],
      "execution_count": 47,
      "outputs": [
        {
          "output_type": "display_data",
          "data": {
            "image/png": "[encoded data removed]",
            "text/plain": [
              "<Figure size 432x288 with 1 Axes>"
            ]
          },
          "metadata": {
            "tags": [],
            "needs_background": "light"
          }
        }
      ]
    },
    {
      "cell_type": "code",
      "metadata": {
        "colab": {
          "base_uri": "https://localhost:8080/",
          "height": 314
        },
        "id": "7GD5Pnz3tELc",
        "outputId": "209dbf2b-a9b3-4e28-e055-f9f2f2ffbb7c"
      },
      "source": [
        "df_os"
      ],
      "execution_count": 48,
      "outputs": [
        {
          "output_type": "execute_result",
          "data": {
            "text/html": [
              "<div>\n",
              "<style scoped>\n",
              "    .dataframe tbody tr th:only-of-type {\n",
              "        vertical-align: middle;\n",
              "    }\n",
              "\n",
              "    .dataframe tbody tr th {\n",
              "        vertical-align: top;\n",
              "    }\n",
              "\n",
              "    .dataframe thead th {\n",
              "        text-align: right;\n",
              "    }\n",
              "</style>\n",
              "<table border=\"1\" class=\"dataframe\">\n",
              "  <thead>\n",
              "    <tr style=\"text-align: right;\">\n",
              "      <th>Revenue</th>\n",
              "      <th>False</th>\n",
              "      <th>True</th>\n",
              "    </tr>\n",
              "    <tr>\n",
              "      <th>OperatingSystems</th>\n",
              "      <th></th>\n",
              "      <th></th>\n",
              "    </tr>\n",
              "  </thead>\n",
              "  <tbody>\n",
              "    <tr>\n",
              "      <th>1</th>\n",
              "      <td>2206</td>\n",
              "      <td>379</td>\n",
              "    </tr>\n",
              "    <tr>\n",
              "      <th>2</th>\n",
              "      <td>5446</td>\n",
              "      <td>1155</td>\n",
              "    </tr>\n",
              "    <tr>\n",
              "      <th>3</th>\n",
              "      <td>2287</td>\n",
              "      <td>268</td>\n",
              "    </tr>\n",
              "    <tr>\n",
              "      <th>4</th>\n",
              "      <td>393</td>\n",
              "      <td>85</td>\n",
              "    </tr>\n",
              "    <tr>\n",
              "      <th>5</th>\n",
              "      <td>5</td>\n",
              "      <td>1</td>\n",
              "    </tr>\n",
              "    <tr>\n",
              "      <th>6</th>\n",
              "      <td>17</td>\n",
              "      <td>2</td>\n",
              "    </tr>\n",
              "    <tr>\n",
              "      <th>7</th>\n",
              "      <td>6</td>\n",
              "      <td>1</td>\n",
              "    </tr>\n",
              "    <tr>\n",
              "      <th>8</th>\n",
              "      <td>62</td>\n",
              "      <td>17</td>\n",
              "    </tr>\n",
              "  </tbody>\n",
              "</table>\n",
              "</div>"
            ],
            "text/plain": [
              "Revenue           False  True \n",
              "OperatingSystems              \n",
              "1                  2206    379\n",
              "2                  5446   1155\n",
              "3                  2287    268\n",
              "4                   393     85\n",
              "5                     5      1\n",
              "6                    17      2\n",
              "7                     6      1\n",
              "8                    62     17"
            ]
          },
          "metadata": {
            "tags": []
          },
          "execution_count": 48
        }
      ]
    },
    {
      "cell_type": "code",
      "metadata": {
        "id": "3Ih1FG6ptENs"
      },
      "source": [
        "df_os.OperatingSystems = df.OperatingSystems.replace(to_replace = [4,5,6,7,8], value =4)"
      ],
      "execution_count": 49,
      "outputs": []
    },
    {
      "cell_type": "code",
      "metadata": {
        "colab": {
          "base_uri": "https://localhost:8080/",
          "height": 195
        },
        "id": "Lh1KXWEktZYa",
        "outputId": "6509249f-adfe-4acf-d0df-0559ef4799ae"
      },
      "source": [
        "df_os = pd.crosstab(df_os.OperatingSystems, df.Revenue)\n",
        "df_os"
      ],
      "execution_count": 50,
      "outputs": [
        {
          "output_type": "execute_result",
          "data": {
            "text/html": [
              "<div>\n",
              "<style scoped>\n",
              "    .dataframe tbody tr th:only-of-type {\n",
              "        vertical-align: middle;\n",
              "    }\n",
              "\n",
              "    .dataframe tbody tr th {\n",
              "        vertical-align: top;\n",
              "    }\n",
              "\n",
              "    .dataframe thead th {\n",
              "        text-align: right;\n",
              "    }\n",
              "</style>\n",
              "<table border=\"1\" class=\"dataframe\">\n",
              "  <thead>\n",
              "    <tr style=\"text-align: right;\">\n",
              "      <th>Revenue</th>\n",
              "      <th>False</th>\n",
              "      <th>True</th>\n",
              "    </tr>\n",
              "    <tr>\n",
              "      <th>OperatingSystems</th>\n",
              "      <th></th>\n",
              "      <th></th>\n",
              "    </tr>\n",
              "  </thead>\n",
              "  <tbody>\n",
              "    <tr>\n",
              "      <th>1</th>\n",
              "      <td>2206</td>\n",
              "      <td>379</td>\n",
              "    </tr>\n",
              "    <tr>\n",
              "      <th>2</th>\n",
              "      <td>5446</td>\n",
              "      <td>1155</td>\n",
              "    </tr>\n",
              "    <tr>\n",
              "      <th>3</th>\n",
              "      <td>2287</td>\n",
              "      <td>268</td>\n",
              "    </tr>\n",
              "    <tr>\n",
              "      <th>4</th>\n",
              "      <td>483</td>\n",
              "      <td>106</td>\n",
              "    </tr>\n",
              "  </tbody>\n",
              "</table>\n",
              "</div>"
            ],
            "text/plain": [
              "Revenue           False  True \n",
              "OperatingSystems              \n",
              "1                  2206    379\n",
              "2                  5446   1155\n",
              "3                  2287    268\n",
              "4                   483    106"
            ]
          },
          "metadata": {
            "tags": []
          },
          "execution_count": 50
        }
      ]
    },
    {
      "cell_type": "code",
      "metadata": {
        "colab": {
          "base_uri": "https://localhost:8080/"
        },
        "id": "KB1qQVi-tcFR",
        "outputId": "c8d4ca18-3dcb-477a-9325-4e6c7c4b833e"
      },
      "source": [
        "os = np.array(df_os)\n",
        "os"
      ],
      "execution_count": 51,
      "outputs": [
        {
          "output_type": "execute_result",
          "data": {
            "text/plain": [
              "array([[2206,  379],\n",
              "       [5446, 1155],\n",
              "       [2287,  268],\n",
              "       [ 483,  106]])"
            ]
          },
          "metadata": {
            "tags": []
          },
          "execution_count": 51
        }
      ]
    },
    {
      "cell_type": "code",
      "metadata": {
        "colab": {
          "base_uri": "https://localhost:8080/"
        },
        "id": "FRSx37Xxtdyj",
        "outputId": "3b1e4acc-3a27-4180-ba1c-3354b0299c9f"
      },
      "source": [
        "stat, p, dof, expected = chi2_contingency(os)\n",
        "print('dof=%d' % dof)\n",
        "print(expected)\n",
        "# interpret test-statistic\n",
        "prob = 0.95\n",
        "critical = chi2.ppf(prob, dof)\n",
        "print('probability=%.3f, critical=%.3f, stat=%.3f' % (prob, critical, stat))\n",
        "if abs(stat) >= critical:\n",
        "    print('Dependent (reject H0)')\n",
        "else:\n",
        "    print('Independent (fail to reject H0)')\n",
        "# interpret p-value\n",
        "alpha = 1.0 - prob\n",
        "print('significance=%.3f, p=%.3f' % (alpha, p))\n",
        "if p <= alpha:\n",
        "    print('Dependent (reject H0)')\n",
        "else:\n",
        "    print('Independent (fail to reject H0)')"
      ],
      "execution_count": 52,
      "outputs": [
        {
          "output_type": "stream",
          "text": [
            "dof=3\n",
            "[[2184.98540146  400.01459854]\n",
            " [5579.53138686 1021.46861314]\n",
            " [2159.62773723  395.37226277]\n",
            " [ 497.85547445   91.14452555]]\n",
            "probability=0.950, critical=7.815, stat=73.368\n",
            "Dependent (reject H0)\n",
            "significance=0.050, p=0.000\n",
            "Dependent (reject H0)\n"
          ],
          "name": "stdout"
        }
      ]
    },
    {
      "cell_type": "markdown",
      "metadata": {
        "id": "XQhLFTWvtpmk"
      },
      "source": [
        "Month"
      ]
    },
    {
      "cell_type": "code",
      "metadata": {
        "colab": {
          "base_uri": "https://localhost:8080/",
          "height": 291
        },
        "id": "wIe4rPKHtgdR",
        "outputId": "9f6c4b60-ba8f-47c0-e73e-66269af98a59"
      },
      "source": [
        "df_m = pd.crosstab(df.Month, df.Revenue)\n",
        "df_m.plot(kind = 'bar')\n",
        "plt.show()"
      ],
      "execution_count": 53,
      "outputs": [
        {
          "output_type": "display_data",
          "data": {
            "image/png": "[encoded data removed]",
            "text/plain": [
              "<Figure size 432x288 with 1 Axes>"
            ]
          },
          "metadata": {
            "tags": [],
            "needs_background": "light"
          }
        }
      ]
    },
    {
      "cell_type": "code",
      "metadata": {
        "id": "lxloCmLatouI"
      },
      "source": [
        "df_m.Month = df.Month.replace(to_replace = ['Aug','Feb',' Jul','June','Oct', 'Sep'], value = 'Rest')"
      ],
      "execution_count": 54,
      "outputs": []
    },
    {
      "cell_type": "code",
      "metadata": {
        "colab": {
          "base_uri": "https://localhost:8080/",
          "height": 291
        },
        "id": "GL8Mr9CotoxQ",
        "outputId": "7308e0cd-895e-48e1-e3ee-eb2c6ec962b4"
      },
      "source": [
        "df_m = pd.crosstab(df_m.Month, df.Revenue)\n",
        "df_m.plot(kind = 'bar')\n",
        "plt.show()"
      ],
      "execution_count": 55,
      "outputs": [
        {
          "output_type": "display_data",
          "data": {
            "image/png": "[encoded data removed]",
            "text/plain": [
              "<Figure size 432x288 with 1 Axes>"
            ]
          },
          "metadata": {
            "tags": [],
            "needs_background": "light"
          }
        }
      ]
    },
    {
      "cell_type": "code",
      "metadata": {
        "colab": {
          "base_uri": "https://localhost:8080/"
        },
        "id": "jvD7oQvqto2W",
        "outputId": "a463f5dc-cf84-450f-9265-3e6503ca6e5d"
      },
      "source": [
        "m = np.array(df_m)\n",
        "m"
      ],
      "execution_count": 56,
      "outputs": [
        {
          "output_type": "execute_result",
          "data": {
            "text/plain": [
              "array([[1511,  216],\n",
              "       [ 366,   66],\n",
              "       [1715,  192],\n",
              "       [2999,  365],\n",
              "       [2238,  760],\n",
              "       [1593,  309]])"
            ]
          },
          "metadata": {
            "tags": []
          },
          "execution_count": 56
        }
      ]
    },
    {
      "cell_type": "code",
      "metadata": {
        "colab": {
          "base_uri": "https://localhost:8080/"
        },
        "id": "qzTyRZ1Bto4W",
        "outputId": "56d027bd-44ac-41da-e980-efa903fbf9e9"
      },
      "source": [
        "stat, p, dof, expected = chi2_contingency(m)\n",
        "print('dof=%d' % dof)\n",
        "print(expected)\n",
        "# interpret test-statistic\n",
        "prob = 0.95\n",
        "critical = chi2.ppf(prob, dof)\n",
        "print('probability=%.3f, critical=%.3f, stat=%.3f' % (prob, critical, stat))\n",
        "if abs(stat) >= critical:\n",
        "    print('Dependent (reject H0)')\n",
        "else:\n",
        "    print('Independent (fail to reject H0)')\n",
        "# interpret p-value\n",
        "alpha = 1.0 - prob\n",
        "print('significance=%.3f, p=%.3f' % (alpha, p))\n",
        "if p <= alpha:\n",
        "    print('Dependent (reject H0)')\n",
        "else:\n",
        "    print('Independent (fail to reject H0)')"
      ],
      "execution_count": 57,
      "outputs": [
        {
          "output_type": "stream",
          "text": [
            "dof=5\n",
            "[[1459.75620438  267.24379562]\n",
            " [ 365.15036496   66.84963504]\n",
            " [1611.90218978  295.09781022]\n",
            " [2843.43941606  520.56058394]\n",
            " [2534.07591241  463.92408759]\n",
            " [1607.67591241  294.32408759]]\n",
            "probability=0.950, critical=11.070, stat=333.662\n",
            "Dependent (reject H0)\n",
            "significance=0.050, p=0.000\n",
            "Dependent (reject H0)\n"
          ],
          "name": "stdout"
        }
      ]
    },
    {
      "cell_type": "markdown",
      "metadata": {
        "id": "fxdJmjTSt6q8"
      },
      "source": [
        "Special Day"
      ]
    },
    {
      "cell_type": "code",
      "metadata": {
        "colab": {
          "base_uri": "https://localhost:8080/",
          "height": 285
        },
        "id": "meKo9jSxt9Kv",
        "outputId": "7f01ad20-8f28-48a0-a3e1-d0a7460d243d"
      },
      "source": [
        "df_sd = pd.crosstab(df.SpecialDay, df.Revenue)\n",
        "df_sd.plot(kind = 'bar')\n",
        "plt.show()"
      ],
      "execution_count": 58,
      "outputs": [
        {
          "output_type": "display_data",
          "data": {
            "image/png": "[encoded data removed]",
            "text/plain": [
              "<Figure size 432x288 with 1 Axes>"
            ]
          },
          "metadata": {
            "tags": [],
            "needs_background": "light"
          }
        }
      ]
    },
    {
      "cell_type": "code",
      "metadata": {
        "id": "mM3A5ni7t9qR"
      },
      "source": [
        "df_sd.SpecialDay = df.SpecialDay.replace(to_replace = [0.2,0.4,0.6,0.8,1.0], value = 1.0)"
      ],
      "execution_count": 59,
      "outputs": []
    },
    {
      "cell_type": "code",
      "metadata": {
        "colab": {
          "base_uri": "https://localhost:8080/",
          "height": 285
        },
        "id": "iozYnk6lt9tf",
        "outputId": "ab9926ee-0d91-4b34-9edf-a67bf2192011"
      },
      "source": [
        "df_sd = pd.crosstab(df_sd.SpecialDay, df.Revenue)\n",
        "df_sd.plot(kind = 'bar')\n",
        "plt.show()"
      ],
      "execution_count": 60,
      "outputs": [
        {
          "output_type": "display_data",
          "data": {
            "image/png": "[encoded data removed]",
            "text/plain": [
              "<Figure size 432x288 with 1 Axes>"
            ]
          },
          "metadata": {
            "tags": [],
            "needs_background": "light"
          }
        }
      ]
    },
    {
      "cell_type": "code",
      "metadata": {
        "colab": {
          "base_uri": "https://localhost:8080/"
        },
        "id": "EmpzclkNt9wX",
        "outputId": "d20d29c6-450d-4489-aedc-153a68dc5080"
      },
      "source": [
        "sd = np.array(df_sd)\n",
        "sd"
      ],
      "execution_count": 61,
      "outputs": [
        {
          "output_type": "execute_result",
          "data": {
            "text/plain": [
              "array([[9248, 1831],\n",
              "       [1174,   77]])"
            ]
          },
          "metadata": {
            "tags": []
          },
          "execution_count": 61
        }
      ]
    },
    {
      "cell_type": "code",
      "metadata": {
        "colab": {
          "base_uri": "https://localhost:8080/"
        },
        "id": "c8xfH0hCt9yu",
        "outputId": "57896651-b830-4517-a167-0bed09ae1285"
      },
      "source": [
        "stat, p, dof, expected = chi2_contingency(sd)\n",
        "print('dof=%d' % dof)\n",
        "print(expected)\n",
        "# interpret test-statistic\n",
        "prob = 0.95\n",
        "critical = chi2.ppf(prob, dof)\n",
        "print('probability=%.3f, critical=%.3f, stat=%.3f' % (prob, critical, stat))\n",
        "if abs(stat) >= critical:\n",
        "    print('Dependent (reject H0)')\n",
        "else:\n",
        "    print('Independent (fail to reject H0)')\n",
        "# interpret p-value\n",
        "alpha = 1.0 - prob\n",
        "print('significance=%.3f, p=%.3f' % (alpha, p))\n",
        "if p <= alpha:\n",
        "    print('Dependent (reject H0)')\n",
        "else:\n",
        "    print('Independent (fail to reject H0)')"
      ],
      "execution_count": 62,
      "outputs": [
        {
          "output_type": "stream",
          "text": [
            "dof=1\n",
            "[[9364.58540146 1714.41459854]\n",
            " [1057.41459854  193.58540146]]\n",
            "probability=0.950, critical=3.841, stat=91.655\n",
            "Dependent (reject H0)\n",
            "significance=0.050, p=0.000\n",
            "Dependent (reject H0)\n"
          ],
          "name": "stdout"
        }
      ]
    },
    {
      "cell_type": "code",
      "metadata": {
        "colab": {
          "base_uri": "https://localhost:8080/",
          "height": 374
        },
        "id": "Qr6LRdDvt91U",
        "outputId": "edf5374a-592f-4d67-865a-5bf4350123e5"
      },
      "source": [
        "sns.pairplot(df,x_vars=['BounceRates','ExitRates'],y_vars=['BounceRates','ExitRates'],hue='Revenue',diag_kind='kde')\n",
        "plt.show()"
      ],
      "execution_count": 63,
      "outputs": [
        {
          "output_type": "display_data",
          "data": {
            "image/png": "[encoded data removed]",
            "text/plain": [
              "<Figure size 421.25x360 with 6 Axes>"
            ]
          },
          "metadata": {
            "tags": [],
            "needs_background": "light"
          }
        }
      ]
    },
    {
      "cell_type": "code",
      "metadata": {
        "colab": {
          "base_uri": "https://localhost:8080/"
        },
        "id": "sgHTjrX-to6h",
        "outputId": "15a6fec5-fe2d-4a21-951e-23c72dc2e6ac"
      },
      "source": [
        "df.isnull().sum()[df.isnull().sum()>0]"
      ],
      "execution_count": 64,
      "outputs": [
        {
          "output_type": "execute_result",
          "data": {
            "text/plain": [
              "Administrative             14\n",
              "Administrative_Duration    14\n",
              "Informational              14\n",
              "Informational_Duration     14\n",
              "ProductRelated             14\n",
              "ProductRelated_Duration    14\n",
              "BounceRates                14\n",
              "ExitRates                  14\n",
              "dtype: int64"
            ]
          },
          "metadata": {
            "tags": []
          },
          "execution_count": 64
        }
      ]
    },
    {
      "cell_type": "markdown",
      "metadata": {
        "id": "diEz6PD4uNlb"
      },
      "source": [
        "Outlier Treatment"
      ]
    },
    {
      "cell_type": "code",
      "metadata": {
        "colab": {
          "base_uri": "https://localhost:8080/"
        },
        "id": "bed_izYRto9J",
        "outputId": "c72a788b-331b-45ff-b207-b95fd8760dc5"
      },
      "source": [
        "# For Administrative_Duaration\n",
        "q1_adm=np.quantile(df.Administrative_Duration,0.25)\n",
        "q3_adm=np.quantile(df.Administrative_Duration,0.75)\n",
        "iqr_adm=q3_adm-q1_adm\n",
        "ll=q1_adm-(1.5*iqr_adm)\n",
        "ul=q3_adm+(1.5*iqr_adm)\n",
        "df_ad_out=df[(df.Administrative_Duration<ll) | (df.Administrative_Duration>ul)]\n",
        "df_ad_out.shape"
      ],
      "execution_count": 65,
      "outputs": [
        {
          "output_type": "execute_result",
          "data": {
            "text/plain": [
              "(0, 18)"
            ]
          },
          "metadata": {
            "tags": []
          },
          "execution_count": 65
        }
      ]
    },
    {
      "cell_type": "code",
      "metadata": {
        "colab": {
          "base_uri": "https://localhost:8080/"
        },
        "id": "bm7Y-NtDukUd",
        "outputId": "0296eeda-aa95-4e1e-9238-55aa3827d7aa"
      },
      "source": [
        "# for Informational_Duration\n",
        "q1_inf=np.quantile(df.Informational_Duration,0.25)\n",
        "q3_inf=np.quantile(df.Informational_Duration,0.75)\n",
        "iqr_inf=q3_inf-q1_inf\n",
        "ll=q1_inf-(1.5*iqr_inf)\n",
        "ul=q3_inf+(1.5*iqr_inf)\n",
        "df_inf_out=df[(df.Informational_Duration<ll) | (df.Informational_Duration>ul)]\n",
        "df_inf_out.shape"
      ],
      "execution_count": 66,
      "outputs": [
        {
          "output_type": "execute_result",
          "data": {
            "text/plain": [
              "(0, 18)"
            ]
          },
          "metadata": {
            "tags": []
          },
          "execution_count": 66
        }
      ]
    },
    {
      "cell_type": "code",
      "metadata": {
        "colab": {
          "base_uri": "https://localhost:8080/"
        },
        "id": "T6f2XR6IukX-",
        "outputId": "9ccc3747-5f75-48e9-ab53-f7eba5764fb3"
      },
      "source": [
        "# for Product Related Duaration\n",
        "q1_pro=np.quantile(df.ProductRelated_Duration,0.25)\n",
        "q3_pro=np.quantile(df.ProductRelated_Duration,0.75)\n",
        "iqr_pro=q3_pro-q1_pro\n",
        "ll=q1_pro-(1.5*iqr_pro)\n",
        "ul=q3_pro+(1.5*iqr_pro)\n",
        "df_pro_out=df[(df.ProductRelated_Duration<ll) | (df.ProductRelated_Duration>ul)]\n",
        "df_pro_out.shape"
      ],
      "execution_count": 67,
      "outputs": [
        {
          "output_type": "execute_result",
          "data": {
            "text/plain": [
              "(0, 18)"
            ]
          },
          "metadata": {
            "tags": []
          },
          "execution_count": 67
        }
      ]
    },
    {
      "cell_type": "code",
      "metadata": {
        "colab": {
          "base_uri": "https://localhost:8080/"
        },
        "id": "U2yMxVorukdS",
        "outputId": "2c0a4804-e76a-48ff-99cc-68a4ef3882ac"
      },
      "source": [
        "# For Bounce Rate\n",
        "q1_bou=np.quantile(df.BounceRates,0.25)\n",
        "q3_bou=np.quantile(df.BounceRates,0.75)\n",
        "iqr_bou=q3_bou-q1_bou\n",
        "ll=q1_bou-(1.5*iqr_bou)\n",
        "ul=q3_bou+(1.5*iqr_bou)\n",
        "df_bou_out=df[(df.BounceRates<ll) | (df.BounceRates>ul)]\n",
        "df_bou_out.shape"
      ],
      "execution_count": 68,
      "outputs": [
        {
          "output_type": "execute_result",
          "data": {
            "text/plain": [
              "(0, 18)"
            ]
          },
          "metadata": {
            "tags": []
          },
          "execution_count": 68
        }
      ]
    },
    {
      "cell_type": "code",
      "metadata": {
        "colab": {
          "base_uri": "https://localhost:8080/"
        },
        "id": "UROALMt0ukfK",
        "outputId": "2d5a1836-5f75-4962-f393-72a735dee4c8"
      },
      "source": [
        "# for Exit Rate\n",
        "q1_ex=np.quantile(df.ExitRates,0.25)\n",
        "q3_ex=np.quantile(df.ExitRates,0.75)\n",
        "iqr_ex=q3_ex-q1_ex\n",
        "ll=q1_ex-(1.5*iqr_ex)\n",
        "ul=q3_ex+(1.5*iqr_ex)\n",
        "df_ex_out=df[(df.ExitRates<ll) | (df.ExitRates>ul)]\n",
        "df_ex_out.shape"
      ],
      "execution_count": 69,
      "outputs": [
        {
          "output_type": "execute_result",
          "data": {
            "text/plain": [
              "(0, 18)"
            ]
          },
          "metadata": {
            "tags": []
          },
          "execution_count": 69
        }
      ]
    },
    {
      "cell_type": "code",
      "metadata": {
        "colab": {
          "base_uri": "https://localhost:8080/"
        },
        "id": "PKFgvAPNukil",
        "outputId": "824efbf6-e095-4615-8f2d-a84951cf2ad4"
      },
      "source": [
        "# for Page Values\n",
        "q1_pg=np.quantile(df.PageValues,0.25)\n",
        "q3_pg=np.quantile(df.PageValues,0.75)\n",
        "iqr_pg=q3_pg-q1_pg\n",
        "ll=q1_pg-(1.5*iqr_pg)\n",
        "ul=q3_pg+(1.5*iqr_pg)\n",
        "df_pg_out=df[(df.PageValues<ll) | (df.PageValues>ul)]\n",
        "df_pg_out.shape"
      ],
      "execution_count": 70,
      "outputs": [
        {
          "output_type": "execute_result",
          "data": {
            "text/plain": [
              "(2730, 18)"
            ]
          },
          "metadata": {
            "tags": []
          },
          "execution_count": 70
        }
      ]
    },
    {
      "cell_type": "code",
      "metadata": {
        "id": "ekmo7BM3ukkx"
      },
      "source": [
        "dff=pd.DataFrame()"
      ],
      "execution_count": 71,
      "outputs": []
    },
    {
      "cell_type": "code",
      "metadata": {
        "id": "TBQNrOB4uknt"
      },
      "source": [
        "dff['Administrative_Duration']=df.index.isin(df_ad_out.index)\n",
        "dff['Informational_Duration']=df.index.isin(df_inf_out.index)\n",
        "dff['ProductRelated_Duration']=df.index.isin(df_pro_out.index)\n",
        "dff['BounceRates']=df.index.isin(df_bou_out.index)\n",
        "dff['ExitRates']=df.index.isin(df_ex_out.index)\n",
        "dff['PageValues']=df.index.isin(df_pg_out.index)"
      ],
      "execution_count": 72,
      "outputs": []
    },
    {
      "cell_type": "code",
      "metadata": {
        "colab": {
          "base_uri": "https://localhost:8080/",
          "height": 864
        },
        "id": "VydCNzK9ukqf",
        "outputId": "cd5e8257-7372-44ee-d4fb-4805acfa6a5c"
      },
      "source": [
        "# Plotting heat map for Otliers\n",
        "plt.figure(figsize=(20,15))\n",
        "sns.heatmap(dff , yticklabels = False , cbar = False , cmap = 'viridis')\n",
        "plt.show()"
      ],
      "execution_count": 73,
      "outputs": [
        {
          "output_type": "display_data",
          "data": {
            "image/png": "[encoded data removed]",
            "text/plain": [
              "<Figure size 1440x1080 with 1 Axes>"
            ]
          },
          "metadata": {
            "tags": [],
            "needs_background": "light"
          }
        }
      ]
    },
    {
      "cell_type": "markdown",
      "metadata": {
        "id": "mEj8ZJPAvCsG"
      },
      "source": [
        "Above Heatmap is For Variables Administrative_Duration, Informational_Duration, ProductRelatedDuration, BounceRates, ExitRates, PageValues. Inwhich Yellow lines Represents the presence of Outliers..."
      ]
    },
    {
      "cell_type": "code",
      "metadata": {
        "id": "GRhbZ_9ZuktV"
      },
      "source": [
        "# Converting Booleans into 1's and 0's\n",
        "bool_map={True:1,False:0}\n",
        "df.Weekend.replace(bool_map,inplace=True)\n",
        "df.Revenue.replace(bool_map,inplace=True)"
      ],
      "execution_count": 74,
      "outputs": []
    },
    {
      "cell_type": "code",
      "metadata": {
        "colab": {
          "base_uri": "https://localhost:8080/",
          "height": 215
        },
        "id": "msb3WJ4MukwM",
        "outputId": "179ac7dc-9280-4ad4-c6c4-23a883c3223b"
      },
      "source": [
        "df.head()\n"
      ],
      "execution_count": 75,
      "outputs": [
        {
          "output_type": "execute_result",
          "data": {
            "text/html": [
              "<div>\n",
              "<style scoped>\n",
              "    .dataframe tbody tr th:only-of-type {\n",
              "        vertical-align: middle;\n",
              "    }\n",
              "\n",
              "    .dataframe tbody tr th {\n",
              "        vertical-align: top;\n",
              "    }\n",
              "\n",
              "    .dataframe thead th {\n",
              "        text-align: right;\n",
              "    }\n",
              "</style>\n",
              "<table border=\"1\" class=\"dataframe\">\n",
              "  <thead>\n",
              "    <tr style=\"text-align: right;\">\n",
              "      <th></th>\n",
              "      <th>Administrative</th>\n",
              "      <th>Administrative_Duration</th>\n",
              "      <th>Informational</th>\n",
              "      <th>Informational_Duration</th>\n",
              "      <th>ProductRelated</th>\n",
              "      <th>ProductRelated_Duration</th>\n",
              "      <th>BounceRates</th>\n",
              "      <th>ExitRates</th>\n",
              "      <th>PageValues</th>\n",
              "      <th>SpecialDay</th>\n",
              "      <th>Month</th>\n",
              "      <th>OperatingSystems</th>\n",
              "      <th>Browser</th>\n",
              "      <th>Region</th>\n",
              "      <th>TrafficType</th>\n",
              "      <th>VisitorType</th>\n",
              "      <th>Weekend</th>\n",
              "      <th>Revenue</th>\n",
              "    </tr>\n",
              "  </thead>\n",
              "  <tbody>\n",
              "    <tr>\n",
              "      <th>0</th>\n",
              "      <td>0</td>\n",
              "      <td>0.0</td>\n",
              "      <td>0</td>\n",
              "      <td>0.0</td>\n",
              "      <td>1</td>\n",
              "      <td>0.000000</td>\n",
              "      <td>0.20</td>\n",
              "      <td>0.20</td>\n",
              "      <td>0.0</td>\n",
              "      <td>0</td>\n",
              "      <td>Feb</td>\n",
              "      <td>1</td>\n",
              "      <td>1</td>\n",
              "      <td>1</td>\n",
              "      <td>1</td>\n",
              "      <td>Returning_Visitor</td>\n",
              "      <td>0</td>\n",
              "      <td>0</td>\n",
              "    </tr>\n",
              "    <tr>\n",
              "      <th>1</th>\n",
              "      <td>0</td>\n",
              "      <td>0.0</td>\n",
              "      <td>0</td>\n",
              "      <td>0.0</td>\n",
              "      <td>2</td>\n",
              "      <td>64.000000</td>\n",
              "      <td>0.00</td>\n",
              "      <td>0.10</td>\n",
              "      <td>0.0</td>\n",
              "      <td>0</td>\n",
              "      <td>Feb</td>\n",
              "      <td>2</td>\n",
              "      <td>2</td>\n",
              "      <td>1</td>\n",
              "      <td>2</td>\n",
              "      <td>Returning_Visitor</td>\n",
              "      <td>0</td>\n",
              "      <td>0</td>\n",
              "    </tr>\n",
              "    <tr>\n",
              "      <th>2</th>\n",
              "      <td>0</td>\n",
              "      <td>-1.0</td>\n",
              "      <td>0</td>\n",
              "      <td>-1.0</td>\n",
              "      <td>1</td>\n",
              "      <td>-1.000000</td>\n",
              "      <td>0.20</td>\n",
              "      <td>0.20</td>\n",
              "      <td>0.0</td>\n",
              "      <td>0</td>\n",
              "      <td>Feb</td>\n",
              "      <td>4</td>\n",
              "      <td>1</td>\n",
              "      <td>9</td>\n",
              "      <td>3</td>\n",
              "      <td>Returning_Visitor</td>\n",
              "      <td>0</td>\n",
              "      <td>0</td>\n",
              "    </tr>\n",
              "    <tr>\n",
              "      <th>3</th>\n",
              "      <td>0</td>\n",
              "      <td>0.0</td>\n",
              "      <td>0</td>\n",
              "      <td>0.0</td>\n",
              "      <td>2</td>\n",
              "      <td>2.666667</td>\n",
              "      <td>0.05</td>\n",
              "      <td>0.14</td>\n",
              "      <td>0.0</td>\n",
              "      <td>0</td>\n",
              "      <td>Feb</td>\n",
              "      <td>3</td>\n",
              "      <td>2</td>\n",
              "      <td>2</td>\n",
              "      <td>4</td>\n",
              "      <td>Returning_Visitor</td>\n",
              "      <td>0</td>\n",
              "      <td>0</td>\n",
              "    </tr>\n",
              "    <tr>\n",
              "      <th>4</th>\n",
              "      <td>0</td>\n",
              "      <td>0.0</td>\n",
              "      <td>0</td>\n",
              "      <td>0.0</td>\n",
              "      <td>10</td>\n",
              "      <td>627.500000</td>\n",
              "      <td>0.02</td>\n",
              "      <td>0.05</td>\n",
              "      <td>0.0</td>\n",
              "      <td>0</td>\n",
              "      <td>Feb</td>\n",
              "      <td>3</td>\n",
              "      <td>3</td>\n",
              "      <td>1</td>\n",
              "      <td>4</td>\n",
              "      <td>Returning_Visitor</td>\n",
              "      <td>1</td>\n",
              "      <td>0</td>\n",
              "    </tr>\n",
              "  </tbody>\n",
              "</table>\n",
              "</div>"
            ],
            "text/plain": [
              "  Administrative  Administrative_Duration  ... Weekend  Revenue\n",
              "0              0                      0.0  ...       0        0\n",
              "1              0                      0.0  ...       0        0\n",
              "2              0                     -1.0  ...       0        0\n",
              "3              0                      0.0  ...       0        0\n",
              "4              0                      0.0  ...       1        0\n",
              "\n",
              "[5 rows x 18 columns]"
            ]
          },
          "metadata": {
            "tags": []
          },
          "execution_count": 75
        }
      ]
    },
    {
      "cell_type": "code",
      "metadata": {
        "colab": {
          "base_uri": "https://localhost:8080/",
          "height": 195
        },
        "id": "mKk_72GTukzR",
        "outputId": "c239d18d-f8e2-419a-acaf-57bf486a71be"
      },
      "source": [
        "dff.head()"
      ],
      "execution_count": 76,
      "outputs": [
        {
          "output_type": "execute_result",
          "data": {
            "text/html": [
              "<div>\n",
              "<style scoped>\n",
              "    .dataframe tbody tr th:only-of-type {\n",
              "        vertical-align: middle;\n",
              "    }\n",
              "\n",
              "    .dataframe tbody tr th {\n",
              "        vertical-align: top;\n",
              "    }\n",
              "\n",
              "    .dataframe thead th {\n",
              "        text-align: right;\n",
              "    }\n",
              "</style>\n",
              "<table border=\"1\" class=\"dataframe\">\n",
              "  <thead>\n",
              "    <tr style=\"text-align: right;\">\n",
              "      <th></th>\n",
              "      <th>Administrative_Duration</th>\n",
              "      <th>Informational_Duration</th>\n",
              "      <th>ProductRelated_Duration</th>\n",
              "      <th>BounceRates</th>\n",
              "      <th>ExitRates</th>\n",
              "      <th>PageValues</th>\n",
              "    </tr>\n",
              "  </thead>\n",
              "  <tbody>\n",
              "    <tr>\n",
              "      <th>0</th>\n",
              "      <td>False</td>\n",
              "      <td>False</td>\n",
              "      <td>False</td>\n",
              "      <td>False</td>\n",
              "      <td>False</td>\n",
              "      <td>False</td>\n",
              "    </tr>\n",
              "    <tr>\n",
              "      <th>1</th>\n",
              "      <td>False</td>\n",
              "      <td>False</td>\n",
              "      <td>False</td>\n",
              "      <td>False</td>\n",
              "      <td>False</td>\n",
              "      <td>False</td>\n",
              "    </tr>\n",
              "    <tr>\n",
              "      <th>2</th>\n",
              "      <td>False</td>\n",
              "      <td>False</td>\n",
              "      <td>False</td>\n",
              "      <td>False</td>\n",
              "      <td>False</td>\n",
              "      <td>False</td>\n",
              "    </tr>\n",
              "    <tr>\n",
              "      <th>3</th>\n",
              "      <td>False</td>\n",
              "      <td>False</td>\n",
              "      <td>False</td>\n",
              "      <td>False</td>\n",
              "      <td>False</td>\n",
              "      <td>False</td>\n",
              "    </tr>\n",
              "    <tr>\n",
              "      <th>4</th>\n",
              "      <td>False</td>\n",
              "      <td>False</td>\n",
              "      <td>False</td>\n",
              "      <td>False</td>\n",
              "      <td>False</td>\n",
              "      <td>False</td>\n",
              "    </tr>\n",
              "  </tbody>\n",
              "</table>\n",
              "</div>"
            ],
            "text/plain": [
              "   Administrative_Duration  Informational_Duration  ...  ExitRates  PageValues\n",
              "0                    False                   False  ...      False       False\n",
              "1                    False                   False  ...      False       False\n",
              "2                    False                   False  ...      False       False\n",
              "3                    False                   False  ...      False       False\n",
              "4                    False                   False  ...      False       False\n",
              "\n",
              "[5 rows x 6 columns]"
            ]
          },
          "metadata": {
            "tags": []
          },
          "execution_count": 76
        }
      ]
    },
    {
      "cell_type": "code",
      "metadata": {
        "id": "BNE652c-tEPI"
      },
      "source": [
        "dff['multi'] = ['Y' if x >= 4 else 'N' for x in np.sum(dff.values == True, 1)]"
      ],
      "execution_count": 77,
      "outputs": []
    },
    {
      "cell_type": "code",
      "metadata": {
        "id": "zj_Y_4MxvVoz"
      },
      "source": [
        "dff['multi'] = ['Y' if x >= 4 else 'N' for x in np.sum(dff.values == True, 1)]"
      ],
      "execution_count": 78,
      "outputs": []
    },
    {
      "cell_type": "code",
      "metadata": {
        "colab": {
          "base_uri": "https://localhost:8080/"
        },
        "id": "nq5TuRejvVr6",
        "outputId": "4f31ea1e-f92b-4805-970a-b701916e6b3b"
      },
      "source": [
        "df_new=df[dff['multi']=='N']\n",
        "df_new.shape"
      ],
      "execution_count": 79,
      "outputs": [
        {
          "output_type": "execute_result",
          "data": {
            "text/plain": [
              "(12330, 18)"
            ]
          },
          "metadata": {
            "tags": []
          },
          "execution_count": 79
        }
      ]
    },
    {
      "cell_type": "code",
      "metadata": {
        "colab": {
          "base_uri": "https://localhost:8080/",
          "height": 215
        },
        "id": "sRIXLhc9vVvH",
        "outputId": "d349423d-a6b3-4f0e-b429-7a515d0b2d5a"
      },
      "source": [
        "# Converting Booleans into 1's and 0's\n",
        "bool_map={True:1,False:0}\n",
        "df_new.Weekend.replace(bool_map,inplace=True)\n",
        "df_new.Revenue.replace(bool_map,inplace=True)\n",
        "df_new.head()"
      ],
      "execution_count": 80,
      "outputs": [
        {
          "output_type": "execute_result",
          "data": {
            "text/html": [
              "<div>\n",
              "<style scoped>\n",
              "    .dataframe tbody tr th:only-of-type {\n",
              "        vertical-align: middle;\n",
              "    }\n",
              "\n",
              "    .dataframe tbody tr th {\n",
              "        vertical-align: top;\n",
              "    }\n",
              "\n",
              "    .dataframe thead th {\n",
              "        text-align: right;\n",
              "    }\n",
              "</style>\n",
              "<table border=\"1\" class=\"dataframe\">\n",
              "  <thead>\n",
              "    <tr style=\"text-align: right;\">\n",
              "      <th></th>\n",
              "      <th>Administrative</th>\n",
              "      <th>Administrative_Duration</th>\n",
              "      <th>Informational</th>\n",
              "      <th>Informational_Duration</th>\n",
              "      <th>ProductRelated</th>\n",
              "      <th>ProductRelated_Duration</th>\n",
              "      <th>BounceRates</th>\n",
              "      <th>ExitRates</th>\n",
              "      <th>PageValues</th>\n",
              "      <th>SpecialDay</th>\n",
              "      <th>Month</th>\n",
              "      <th>OperatingSystems</th>\n",
              "      <th>Browser</th>\n",
              "      <th>Region</th>\n",
              "      <th>TrafficType</th>\n",
              "      <th>VisitorType</th>\n",
              "      <th>Weekend</th>\n",
              "      <th>Revenue</th>\n",
              "    </tr>\n",
              "  </thead>\n",
              "  <tbody>\n",
              "    <tr>\n",
              "      <th>0</th>\n",
              "      <td>0</td>\n",
              "      <td>0.0</td>\n",
              "      <td>0</td>\n",
              "      <td>0.0</td>\n",
              "      <td>1</td>\n",
              "      <td>0.000000</td>\n",
              "      <td>0.20</td>\n",
              "      <td>0.20</td>\n",
              "      <td>0.0</td>\n",
              "      <td>0</td>\n",
              "      <td>Feb</td>\n",
              "      <td>1</td>\n",
              "      <td>1</td>\n",
              "      <td>1</td>\n",
              "      <td>1</td>\n",
              "      <td>Returning_Visitor</td>\n",
              "      <td>0</td>\n",
              "      <td>0</td>\n",
              "    </tr>\n",
              "    <tr>\n",
              "      <th>1</th>\n",
              "      <td>0</td>\n",
              "      <td>0.0</td>\n",
              "      <td>0</td>\n",
              "      <td>0.0</td>\n",
              "      <td>2</td>\n",
              "      <td>64.000000</td>\n",
              "      <td>0.00</td>\n",
              "      <td>0.10</td>\n",
              "      <td>0.0</td>\n",
              "      <td>0</td>\n",
              "      <td>Feb</td>\n",
              "      <td>2</td>\n",
              "      <td>2</td>\n",
              "      <td>1</td>\n",
              "      <td>2</td>\n",
              "      <td>Returning_Visitor</td>\n",
              "      <td>0</td>\n",
              "      <td>0</td>\n",
              "    </tr>\n",
              "    <tr>\n",
              "      <th>2</th>\n",
              "      <td>0</td>\n",
              "      <td>-1.0</td>\n",
              "      <td>0</td>\n",
              "      <td>-1.0</td>\n",
              "      <td>1</td>\n",
              "      <td>-1.000000</td>\n",
              "      <td>0.20</td>\n",
              "      <td>0.20</td>\n",
              "      <td>0.0</td>\n",
              "      <td>0</td>\n",
              "      <td>Feb</td>\n",
              "      <td>4</td>\n",
              "      <td>1</td>\n",
              "      <td>9</td>\n",
              "      <td>3</td>\n",
              "      <td>Returning_Visitor</td>\n",
              "      <td>0</td>\n",
              "      <td>0</td>\n",
              "    </tr>\n",
              "    <tr>\n",
              "      <th>3</th>\n",
              "      <td>0</td>\n",
              "      <td>0.0</td>\n",
              "      <td>0</td>\n",
              "      <td>0.0</td>\n",
              "      <td>2</td>\n",
              "      <td>2.666667</td>\n",
              "      <td>0.05</td>\n",
              "      <td>0.14</td>\n",
              "      <td>0.0</td>\n",
              "      <td>0</td>\n",
              "      <td>Feb</td>\n",
              "      <td>3</td>\n",
              "      <td>2</td>\n",
              "      <td>2</td>\n",
              "      <td>4</td>\n",
              "      <td>Returning_Visitor</td>\n",
              "      <td>0</td>\n",
              "      <td>0</td>\n",
              "    </tr>\n",
              "    <tr>\n",
              "      <th>4</th>\n",
              "      <td>0</td>\n",
              "      <td>0.0</td>\n",
              "      <td>0</td>\n",
              "      <td>0.0</td>\n",
              "      <td>10</td>\n",
              "      <td>627.500000</td>\n",
              "      <td>0.02</td>\n",
              "      <td>0.05</td>\n",
              "      <td>0.0</td>\n",
              "      <td>0</td>\n",
              "      <td>Feb</td>\n",
              "      <td>3</td>\n",
              "      <td>3</td>\n",
              "      <td>1</td>\n",
              "      <td>4</td>\n",
              "      <td>Returning_Visitor</td>\n",
              "      <td>1</td>\n",
              "      <td>0</td>\n",
              "    </tr>\n",
              "  </tbody>\n",
              "</table>\n",
              "</div>"
            ],
            "text/plain": [
              "  Administrative  Administrative_Duration  ... Weekend  Revenue\n",
              "0              0                      0.0  ...       0        0\n",
              "1              0                      0.0  ...       0        0\n",
              "2              0                     -1.0  ...       0        0\n",
              "3              0                      0.0  ...       0        0\n",
              "4              0                      0.0  ...       1        0\n",
              "\n",
              "[5 rows x 18 columns]"
            ]
          },
          "metadata": {
            "tags": []
          },
          "execution_count": 80
        }
      ]
    },
    {
      "cell_type": "code",
      "metadata": {
        "id": "E73sFwB8vVyK"
      },
      "source": [
        "# Replacing the Outliers with NAN\n",
        "df_new.loc[(dff['Administrative_Duration']==True),'Administrative_Duration']=np.NAN\n",
        "df_new.loc[(dff['Informational_Duration']==True),'Informational_Duration']=np.NAN\n",
        "df_new.loc[(dff['ProductRelated_Duration']==True),'ProductRelated_Duration']=np.NAN\n",
        "df_new.loc[(dff['BounceRates']==True),'BounceRates']=np.NAN\n",
        "df_new.loc[(dff['PageValues']==True),'PageValues']=np.NAN\n",
        "#df_new=df_new.drop('ExitRates',axis=1)"
      ],
      "execution_count": 81,
      "outputs": []
    },
    {
      "cell_type": "code",
      "metadata": {
        "colab": {
          "base_uri": "https://localhost:8080/"
        },
        "id": "4UqKzS-BvV1U",
        "outputId": "a835d798-191e-46a2-ac6e-b073d24f8f85"
      },
      "source": [
        "df_new.isnull().sum()[df_new.isnull().sum()>0]"
      ],
      "execution_count": 82,
      "outputs": [
        {
          "output_type": "execute_result",
          "data": {
            "text/plain": [
              "Administrative               14\n",
              "Administrative_Duration      14\n",
              "Informational                14\n",
              "Informational_Duration       14\n",
              "ProductRelated               14\n",
              "ProductRelated_Duration      14\n",
              "BounceRates                  14\n",
              "ExitRates                    14\n",
              "PageValues                 2730\n",
              "dtype: int64"
            ]
          },
          "metadata": {
            "tags": []
          },
          "execution_count": 82
        }
      ]
    },
    {
      "cell_type": "code",
      "metadata": {
        "id": "zd5XXnHsvV4U"
      },
      "source": [
        "imp_col=df_new.isnull().sum()[df_new.isnull().sum()>0].index"
      ],
      "execution_count": 83,
      "outputs": []
    },
    {
      "cell_type": "code",
      "metadata": {
        "colab": {
          "base_uri": "https://localhost:8080/",
          "height": 244
        },
        "id": "-bD-HLM6vV-T",
        "outputId": "319a1cba-9b95-417e-d6dd-d0a6b5bc0724"
      },
      "source": [
        "# Creating dummy Variables\n",
        "df_dum=pd.get_dummies(df_new)\n",
        "df_dum.head()"
      ],
      "execution_count": 84,
      "outputs": [
        {
          "output_type": "execute_result",
          "data": {
            "text/html": [
              "<div>\n",
              "<style scoped>\n",
              "    .dataframe tbody tr th:only-of-type {\n",
              "        vertical-align: middle;\n",
              "    }\n",
              "\n",
              "    .dataframe tbody tr th {\n",
              "        vertical-align: top;\n",
              "    }\n",
              "\n",
              "    .dataframe thead th {\n",
              "        text-align: right;\n",
              "    }\n",
              "</style>\n",
              "<table border=\"1\" class=\"dataframe\">\n",
              "  <thead>\n",
              "    <tr style=\"text-align: right;\">\n",
              "      <th></th>\n",
              "      <th>Administrative_Duration</th>\n",
              "      <th>Informational_Duration</th>\n",
              "      <th>ProductRelated_Duration</th>\n",
              "      <th>BounceRates</th>\n",
              "      <th>ExitRates</th>\n",
              "      <th>PageValues</th>\n",
              "      <th>Weekend</th>\n",
              "      <th>Revenue</th>\n",
              "      <th>Administrative_0.0</th>\n",
              "      <th>Administrative_1.0</th>\n",
              "      <th>Administrative_2.0</th>\n",
              "      <th>Administrative_3.0</th>\n",
              "      <th>Administrative_4.0</th>\n",
              "      <th>Administrative_5.0</th>\n",
              "      <th>Administrative_6.0</th>\n",
              "      <th>Administrative_7.0</th>\n",
              "      <th>Administrative_8.0</th>\n",
              "      <th>Administrative_9.0</th>\n",
              "      <th>Administrative_10.0</th>\n",
              "      <th>Administrative_11.0</th>\n",
              "      <th>Administrative_12.0</th>\n",
              "      <th>Administrative_13.0</th>\n",
              "      <th>Administrative_14.0</th>\n",
              "      <th>Administrative_15.0</th>\n",
              "      <th>Administrative_16.0</th>\n",
              "      <th>Administrative_17.0</th>\n",
              "      <th>Administrative_18.0</th>\n",
              "      <th>Administrative_19.0</th>\n",
              "      <th>Administrative_20.0</th>\n",
              "      <th>Administrative_21.0</th>\n",
              "      <th>Administrative_22.0</th>\n",
              "      <th>Administrative_23.0</th>\n",
              "      <th>Administrative_24.0</th>\n",
              "      <th>Administrative_26.0</th>\n",
              "      <th>Administrative_27.0</th>\n",
              "      <th>Informational_0.0</th>\n",
              "      <th>Informational_1.0</th>\n",
              "      <th>Informational_2.0</th>\n",
              "      <th>Informational_3.0</th>\n",
              "      <th>Informational_4.0</th>\n",
              "      <th>...</th>\n",
              "      <th>Browser_6</th>\n",
              "      <th>Browser_7</th>\n",
              "      <th>Browser_8</th>\n",
              "      <th>Browser_9</th>\n",
              "      <th>Browser_10</th>\n",
              "      <th>Browser_11</th>\n",
              "      <th>Browser_12</th>\n",
              "      <th>Browser_13</th>\n",
              "      <th>Region_1</th>\n",
              "      <th>Region_2</th>\n",
              "      <th>Region_3</th>\n",
              "      <th>Region_4</th>\n",
              "      <th>Region_5</th>\n",
              "      <th>Region_6</th>\n",
              "      <th>Region_7</th>\n",
              "      <th>Region_8</th>\n",
              "      <th>Region_9</th>\n",
              "      <th>TrafficType_1</th>\n",
              "      <th>TrafficType_2</th>\n",
              "      <th>TrafficType_3</th>\n",
              "      <th>TrafficType_4</th>\n",
              "      <th>TrafficType_5</th>\n",
              "      <th>TrafficType_6</th>\n",
              "      <th>TrafficType_7</th>\n",
              "      <th>TrafficType_8</th>\n",
              "      <th>TrafficType_9</th>\n",
              "      <th>TrafficType_10</th>\n",
              "      <th>TrafficType_11</th>\n",
              "      <th>TrafficType_12</th>\n",
              "      <th>TrafficType_13</th>\n",
              "      <th>TrafficType_14</th>\n",
              "      <th>TrafficType_15</th>\n",
              "      <th>TrafficType_16</th>\n",
              "      <th>TrafficType_17</th>\n",
              "      <th>TrafficType_18</th>\n",
              "      <th>TrafficType_19</th>\n",
              "      <th>TrafficType_20</th>\n",
              "      <th>VisitorType_New_Visitor</th>\n",
              "      <th>VisitorType_Other</th>\n",
              "      <th>VisitorType_Returning_Visitor</th>\n",
              "    </tr>\n",
              "  </thead>\n",
              "  <tbody>\n",
              "    <tr>\n",
              "      <th>0</th>\n",
              "      <td>0.0</td>\n",
              "      <td>0.0</td>\n",
              "      <td>0.000000</td>\n",
              "      <td>0.20</td>\n",
              "      <td>0.20</td>\n",
              "      <td>0.0</td>\n",
              "      <td>0</td>\n",
              "      <td>0</td>\n",
              "      <td>1</td>\n",
              "      <td>0</td>\n",
              "      <td>0</td>\n",
              "      <td>0</td>\n",
              "      <td>0</td>\n",
              "      <td>0</td>\n",
              "      <td>0</td>\n",
              "      <td>0</td>\n",
              "      <td>0</td>\n",
              "      <td>0</td>\n",
              "      <td>0</td>\n",
              "      <td>0</td>\n",
              "      <td>0</td>\n",
              "      <td>0</td>\n",
              "      <td>0</td>\n",
              "      <td>0</td>\n",
              "      <td>0</td>\n",
              "      <td>0</td>\n",
              "      <td>0</td>\n",
              "      <td>0</td>\n",
              "      <td>0</td>\n",
              "      <td>0</td>\n",
              "      <td>0</td>\n",
              "      <td>0</td>\n",
              "      <td>0</td>\n",
              "      <td>0</td>\n",
              "      <td>0</td>\n",
              "      <td>1</td>\n",
              "      <td>0</td>\n",
              "      <td>0</td>\n",
              "      <td>0</td>\n",
              "      <td>0</td>\n",
              "      <td>...</td>\n",
              "      <td>0</td>\n",
              "      <td>0</td>\n",
              "      <td>0</td>\n",
              "      <td>0</td>\n",
              "      <td>0</td>\n",
              "      <td>0</td>\n",
              "      <td>0</td>\n",
              "      <td>0</td>\n",
              "      <td>1</td>\n",
              "      <td>0</td>\n",
              "      <td>0</td>\n",
              "      <td>0</td>\n",
              "      <td>0</td>\n",
              "      <td>0</td>\n",
              "      <td>0</td>\n",
              "      <td>0</td>\n",
              "      <td>0</td>\n",
              "      <td>1</td>\n",
              "      <td>0</td>\n",
              "      <td>0</td>\n",
              "      <td>0</td>\n",
              "      <td>0</td>\n",
              "      <td>0</td>\n",
              "      <td>0</td>\n",
              "      <td>0</td>\n",
              "      <td>0</td>\n",
              "      <td>0</td>\n",
              "      <td>0</td>\n",
              "      <td>0</td>\n",
              "      <td>0</td>\n",
              "      <td>0</td>\n",
              "      <td>0</td>\n",
              "      <td>0</td>\n",
              "      <td>0</td>\n",
              "      <td>0</td>\n",
              "      <td>0</td>\n",
              "      <td>0</td>\n",
              "      <td>0</td>\n",
              "      <td>0</td>\n",
              "      <td>1</td>\n",
              "    </tr>\n",
              "    <tr>\n",
              "      <th>1</th>\n",
              "      <td>0.0</td>\n",
              "      <td>0.0</td>\n",
              "      <td>64.000000</td>\n",
              "      <td>0.00</td>\n",
              "      <td>0.10</td>\n",
              "      <td>0.0</td>\n",
              "      <td>0</td>\n",
              "      <td>0</td>\n",
              "      <td>1</td>\n",
              "      <td>0</td>\n",
              "      <td>0</td>\n",
              "      <td>0</td>\n",
              "      <td>0</td>\n",
              "      <td>0</td>\n",
              "      <td>0</td>\n",
              "      <td>0</td>\n",
              "      <td>0</td>\n",
              "      <td>0</td>\n",
              "      <td>0</td>\n",
              "      <td>0</td>\n",
              "      <td>0</td>\n",
              "      <td>0</td>\n",
              "      <td>0</td>\n",
              "      <td>0</td>\n",
              "      <td>0</td>\n",
              "      <td>0</td>\n",
              "      <td>0</td>\n",
              "      <td>0</td>\n",
              "      <td>0</td>\n",
              "      <td>0</td>\n",
              "      <td>0</td>\n",
              "      <td>0</td>\n",
              "      <td>0</td>\n",
              "      <td>0</td>\n",
              "      <td>0</td>\n",
              "      <td>1</td>\n",
              "      <td>0</td>\n",
              "      <td>0</td>\n",
              "      <td>0</td>\n",
              "      <td>0</td>\n",
              "      <td>...</td>\n",
              "      <td>0</td>\n",
              "      <td>0</td>\n",
              "      <td>0</td>\n",
              "      <td>0</td>\n",
              "      <td>0</td>\n",
              "      <td>0</td>\n",
              "      <td>0</td>\n",
              "      <td>0</td>\n",
              "      <td>1</td>\n",
              "      <td>0</td>\n",
              "      <td>0</td>\n",
              "      <td>0</td>\n",
              "      <td>0</td>\n",
              "      <td>0</td>\n",
              "      <td>0</td>\n",
              "      <td>0</td>\n",
              "      <td>0</td>\n",
              "      <td>0</td>\n",
              "      <td>1</td>\n",
              "      <td>0</td>\n",
              "      <td>0</td>\n",
              "      <td>0</td>\n",
              "      <td>0</td>\n",
              "      <td>0</td>\n",
              "      <td>0</td>\n",
              "      <td>0</td>\n",
              "      <td>0</td>\n",
              "      <td>0</td>\n",
              "      <td>0</td>\n",
              "      <td>0</td>\n",
              "      <td>0</td>\n",
              "      <td>0</td>\n",
              "      <td>0</td>\n",
              "      <td>0</td>\n",
              "      <td>0</td>\n",
              "      <td>0</td>\n",
              "      <td>0</td>\n",
              "      <td>0</td>\n",
              "      <td>0</td>\n",
              "      <td>1</td>\n",
              "    </tr>\n",
              "    <tr>\n",
              "      <th>2</th>\n",
              "      <td>-1.0</td>\n",
              "      <td>-1.0</td>\n",
              "      <td>-1.000000</td>\n",
              "      <td>0.20</td>\n",
              "      <td>0.20</td>\n",
              "      <td>0.0</td>\n",
              "      <td>0</td>\n",
              "      <td>0</td>\n",
              "      <td>1</td>\n",
              "      <td>0</td>\n",
              "      <td>0</td>\n",
              "      <td>0</td>\n",
              "      <td>0</td>\n",
              "      <td>0</td>\n",
              "      <td>0</td>\n",
              "      <td>0</td>\n",
              "      <td>0</td>\n",
              "      <td>0</td>\n",
              "      <td>0</td>\n",
              "      <td>0</td>\n",
              "      <td>0</td>\n",
              "      <td>0</td>\n",
              "      <td>0</td>\n",
              "      <td>0</td>\n",
              "      <td>0</td>\n",
              "      <td>0</td>\n",
              "      <td>0</td>\n",
              "      <td>0</td>\n",
              "      <td>0</td>\n",
              "      <td>0</td>\n",
              "      <td>0</td>\n",
              "      <td>0</td>\n",
              "      <td>0</td>\n",
              "      <td>0</td>\n",
              "      <td>0</td>\n",
              "      <td>1</td>\n",
              "      <td>0</td>\n",
              "      <td>0</td>\n",
              "      <td>0</td>\n",
              "      <td>0</td>\n",
              "      <td>...</td>\n",
              "      <td>0</td>\n",
              "      <td>0</td>\n",
              "      <td>0</td>\n",
              "      <td>0</td>\n",
              "      <td>0</td>\n",
              "      <td>0</td>\n",
              "      <td>0</td>\n",
              "      <td>0</td>\n",
              "      <td>0</td>\n",
              "      <td>0</td>\n",
              "      <td>0</td>\n",
              "      <td>0</td>\n",
              "      <td>0</td>\n",
              "      <td>0</td>\n",
              "      <td>0</td>\n",
              "      <td>0</td>\n",
              "      <td>1</td>\n",
              "      <td>0</td>\n",
              "      <td>0</td>\n",
              "      <td>1</td>\n",
              "      <td>0</td>\n",
              "      <td>0</td>\n",
              "      <td>0</td>\n",
              "      <td>0</td>\n",
              "      <td>0</td>\n",
              "      <td>0</td>\n",
              "      <td>0</td>\n",
              "      <td>0</td>\n",
              "      <td>0</td>\n",
              "      <td>0</td>\n",
              "      <td>0</td>\n",
              "      <td>0</td>\n",
              "      <td>0</td>\n",
              "      <td>0</td>\n",
              "      <td>0</td>\n",
              "      <td>0</td>\n",
              "      <td>0</td>\n",
              "      <td>0</td>\n",
              "      <td>0</td>\n",
              "      <td>1</td>\n",
              "    </tr>\n",
              "    <tr>\n",
              "      <th>3</th>\n",
              "      <td>0.0</td>\n",
              "      <td>0.0</td>\n",
              "      <td>2.666667</td>\n",
              "      <td>0.05</td>\n",
              "      <td>0.14</td>\n",
              "      <td>0.0</td>\n",
              "      <td>0</td>\n",
              "      <td>0</td>\n",
              "      <td>1</td>\n",
              "      <td>0</td>\n",
              "      <td>0</td>\n",
              "      <td>0</td>\n",
              "      <td>0</td>\n",
              "      <td>0</td>\n",
              "      <td>0</td>\n",
              "      <td>0</td>\n",
              "      <td>0</td>\n",
              "      <td>0</td>\n",
              "      <td>0</td>\n",
              "      <td>0</td>\n",
              "      <td>0</td>\n",
              "      <td>0</td>\n",
              "      <td>0</td>\n",
              "      <td>0</td>\n",
              "      <td>0</td>\n",
              "      <td>0</td>\n",
              "      <td>0</td>\n",
              "      <td>0</td>\n",
              "      <td>0</td>\n",
              "      <td>0</td>\n",
              "      <td>0</td>\n",
              "      <td>0</td>\n",
              "      <td>0</td>\n",
              "      <td>0</td>\n",
              "      <td>0</td>\n",
              "      <td>1</td>\n",
              "      <td>0</td>\n",
              "      <td>0</td>\n",
              "      <td>0</td>\n",
              "      <td>0</td>\n",
              "      <td>...</td>\n",
              "      <td>0</td>\n",
              "      <td>0</td>\n",
              "      <td>0</td>\n",
              "      <td>0</td>\n",
              "      <td>0</td>\n",
              "      <td>0</td>\n",
              "      <td>0</td>\n",
              "      <td>0</td>\n",
              "      <td>0</td>\n",
              "      <td>1</td>\n",
              "      <td>0</td>\n",
              "      <td>0</td>\n",
              "      <td>0</td>\n",
              "      <td>0</td>\n",
              "      <td>0</td>\n",
              "      <td>0</td>\n",
              "      <td>0</td>\n",
              "      <td>0</td>\n",
              "      <td>0</td>\n",
              "      <td>0</td>\n",
              "      <td>1</td>\n",
              "      <td>0</td>\n",
              "      <td>0</td>\n",
              "      <td>0</td>\n",
              "      <td>0</td>\n",
              "      <td>0</td>\n",
              "      <td>0</td>\n",
              "      <td>0</td>\n",
              "      <td>0</td>\n",
              "      <td>0</td>\n",
              "      <td>0</td>\n",
              "      <td>0</td>\n",
              "      <td>0</td>\n",
              "      <td>0</td>\n",
              "      <td>0</td>\n",
              "      <td>0</td>\n",
              "      <td>0</td>\n",
              "      <td>0</td>\n",
              "      <td>0</td>\n",
              "      <td>1</td>\n",
              "    </tr>\n",
              "    <tr>\n",
              "      <th>4</th>\n",
              "      <td>0.0</td>\n",
              "      <td>0.0</td>\n",
              "      <td>627.500000</td>\n",
              "      <td>0.02</td>\n",
              "      <td>0.05</td>\n",
              "      <td>0.0</td>\n",
              "      <td>1</td>\n",
              "      <td>0</td>\n",
              "      <td>1</td>\n",
              "      <td>0</td>\n",
              "      <td>0</td>\n",
              "      <td>0</td>\n",
              "      <td>0</td>\n",
              "      <td>0</td>\n",
              "      <td>0</td>\n",
              "      <td>0</td>\n",
              "      <td>0</td>\n",
              "      <td>0</td>\n",
              "      <td>0</td>\n",
              "      <td>0</td>\n",
              "      <td>0</td>\n",
              "      <td>0</td>\n",
              "      <td>0</td>\n",
              "      <td>0</td>\n",
              "      <td>0</td>\n",
              "      <td>0</td>\n",
              "      <td>0</td>\n",
              "      <td>0</td>\n",
              "      <td>0</td>\n",
              "      <td>0</td>\n",
              "      <td>0</td>\n",
              "      <td>0</td>\n",
              "      <td>0</td>\n",
              "      <td>0</td>\n",
              "      <td>0</td>\n",
              "      <td>1</td>\n",
              "      <td>0</td>\n",
              "      <td>0</td>\n",
              "      <td>0</td>\n",
              "      <td>0</td>\n",
              "      <td>...</td>\n",
              "      <td>0</td>\n",
              "      <td>0</td>\n",
              "      <td>0</td>\n",
              "      <td>0</td>\n",
              "      <td>0</td>\n",
              "      <td>0</td>\n",
              "      <td>0</td>\n",
              "      <td>0</td>\n",
              "      <td>1</td>\n",
              "      <td>0</td>\n",
              "      <td>0</td>\n",
              "      <td>0</td>\n",
              "      <td>0</td>\n",
              "      <td>0</td>\n",
              "      <td>0</td>\n",
              "      <td>0</td>\n",
              "      <td>0</td>\n",
              "      <td>0</td>\n",
              "      <td>0</td>\n",
              "      <td>0</td>\n",
              "      <td>1</td>\n",
              "      <td>0</td>\n",
              "      <td>0</td>\n",
              "      <td>0</td>\n",
              "      <td>0</td>\n",
              "      <td>0</td>\n",
              "      <td>0</td>\n",
              "      <td>0</td>\n",
              "      <td>0</td>\n",
              "      <td>0</td>\n",
              "      <td>0</td>\n",
              "      <td>0</td>\n",
              "      <td>0</td>\n",
              "      <td>0</td>\n",
              "      <td>0</td>\n",
              "      <td>0</td>\n",
              "      <td>0</td>\n",
              "      <td>0</td>\n",
              "      <td>0</td>\n",
              "      <td>1</td>\n",
              "    </tr>\n",
              "  </tbody>\n",
              "</table>\n",
              "<p>5 rows × 432 columns</p>\n",
              "</div>"
            ],
            "text/plain": [
              "   Administrative_Duration  ...  VisitorType_Returning_Visitor\n",
              "0                      0.0  ...                              1\n",
              "1                      0.0  ...                              1\n",
              "2                     -1.0  ...                              1\n",
              "3                      0.0  ...                              1\n",
              "4                      0.0  ...                              1\n",
              "\n",
              "[5 rows x 432 columns]"
            ]
          },
          "metadata": {
            "tags": []
          },
          "execution_count": 84
        }
      ]
    },
    {
      "cell_type": "markdown",
      "metadata": {
        "id": "dw5I98CJvqW0"
      },
      "source": [
        "After Converting the Outliers into NAN, we need to assign values to this null/missing Values. Here we are using MICE(Missing Imputaions through Chained Equations) technique for imputing the missing values."
      ]
    },
    {
      "cell_type": "code",
      "metadata": {
        "colab": {
          "base_uri": "https://localhost:8080/"
        },
        "id": "vgWg5xutvWBR",
        "outputId": "b32ff732-5788-4548-e71e-686038ab17d8"
      },
      "source": [
        "!pip install impyute\n"
      ],
      "execution_count": 85,
      "outputs": [
        {
          "output_type": "stream",
          "text": [
            "Requirement already satisfied: impyute in /usr/local/lib/python3.7/dist-packages (0.0.8)\n",
            "Requirement already satisfied: scikit-learn in /usr/local/lib/python3.7/dist-packages (from impyute) (0.24.2)\n",
            "Requirement already satisfied: scipy in /usr/local/lib/python3.7/dist-packages (from impyute) (1.4.1)\n",
            "Requirement already satisfied: numpy in /usr/local/lib/python3.7/dist-packages (from impyute) (1.19.5)\n",
            "Requirement already satisfied: joblib>=0.11 in /usr/local/lib/python3.7/dist-packages (from scikit-learn->impyute) (1.0.1)\n",
            "Requirement already satisfied: threadpoolctl>=2.0.0 in /usr/local/lib/python3.7/dist-packages (from scikit-learn->impyute) (2.1.0)\n"
          ],
          "name": "stdout"
        }
      ]
    },
    {
      "cell_type": "code",
      "metadata": {
        "id": "aR7cfGLnvWDg"
      },
      "source": [
        "from impyute.imputation.cs import mice"
      ],
      "execution_count": 86,
      "outputs": []
    },
    {
      "cell_type": "code",
      "metadata": {
        "id": "0dN7lMP6vWF8"
      },
      "source": [
        "imputed_df=mice(df_dum.values)"
      ],
      "execution_count": 87,
      "outputs": []
    },
    {
      "cell_type": "code",
      "metadata": {
        "id": "4yEqwCpWvWIz"
      },
      "source": [
        "imputed_df=pd.DataFrame(imputed_df,columns=df_dum.columns)"
      ],
      "execution_count": 88,
      "outputs": []
    },
    {
      "cell_type": "code",
      "metadata": {
        "colab": {
          "base_uri": "https://localhost:8080/",
          "height": 244
        },
        "id": "Zaecv93xv2L0",
        "outputId": "69ea100d-59d6-44c2-b409-657de175bcc8"
      },
      "source": [
        "imputed_df.head()"
      ],
      "execution_count": 89,
      "outputs": [
        {
          "output_type": "execute_result",
          "data": {
            "text/html": [
              "<div>\n",
              "<style scoped>\n",
              "    .dataframe tbody tr th:only-of-type {\n",
              "        vertical-align: middle;\n",
              "    }\n",
              "\n",
              "    .dataframe tbody tr th {\n",
              "        vertical-align: top;\n",
              "    }\n",
              "\n",
              "    .dataframe thead th {\n",
              "        text-align: right;\n",
              "    }\n",
              "</style>\n",
              "<table border=\"1\" class=\"dataframe\">\n",
              "  <thead>\n",
              "    <tr style=\"text-align: right;\">\n",
              "      <th></th>\n",
              "      <th>Administrative_Duration</th>\n",
              "      <th>Informational_Duration</th>\n",
              "      <th>ProductRelated_Duration</th>\n",
              "      <th>BounceRates</th>\n",
              "      <th>ExitRates</th>\n",
              "      <th>PageValues</th>\n",
              "      <th>Weekend</th>\n",
              "      <th>Revenue</th>\n",
              "      <th>Administrative_0.0</th>\n",
              "      <th>Administrative_1.0</th>\n",
              "      <th>Administrative_2.0</th>\n",
              "      <th>Administrative_3.0</th>\n",
              "      <th>Administrative_4.0</th>\n",
              "      <th>Administrative_5.0</th>\n",
              "      <th>Administrative_6.0</th>\n",
              "      <th>Administrative_7.0</th>\n",
              "      <th>Administrative_8.0</th>\n",
              "      <th>Administrative_9.0</th>\n",
              "      <th>Administrative_10.0</th>\n",
              "      <th>Administrative_11.0</th>\n",
              "      <th>Administrative_12.0</th>\n",
              "      <th>Administrative_13.0</th>\n",
              "      <th>Administrative_14.0</th>\n",
              "      <th>Administrative_15.0</th>\n",
              "      <th>Administrative_16.0</th>\n",
              "      <th>Administrative_17.0</th>\n",
              "      <th>Administrative_18.0</th>\n",
              "      <th>Administrative_19.0</th>\n",
              "      <th>Administrative_20.0</th>\n",
              "      <th>Administrative_21.0</th>\n",
              "      <th>Administrative_22.0</th>\n",
              "      <th>Administrative_23.0</th>\n",
              "      <th>Administrative_24.0</th>\n",
              "      <th>Administrative_26.0</th>\n",
              "      <th>Administrative_27.0</th>\n",
              "      <th>Informational_0.0</th>\n",
              "      <th>Informational_1.0</th>\n",
              "      <th>Informational_2.0</th>\n",
              "      <th>Informational_3.0</th>\n",
              "      <th>Informational_4.0</th>\n",
              "      <th>...</th>\n",
              "      <th>Browser_6</th>\n",
              "      <th>Browser_7</th>\n",
              "      <th>Browser_8</th>\n",
              "      <th>Browser_9</th>\n",
              "      <th>Browser_10</th>\n",
              "      <th>Browser_11</th>\n",
              "      <th>Browser_12</th>\n",
              "      <th>Browser_13</th>\n",
              "      <th>Region_1</th>\n",
              "      <th>Region_2</th>\n",
              "      <th>Region_3</th>\n",
              "      <th>Region_4</th>\n",
              "      <th>Region_5</th>\n",
              "      <th>Region_6</th>\n",
              "      <th>Region_7</th>\n",
              "      <th>Region_8</th>\n",
              "      <th>Region_9</th>\n",
              "      <th>TrafficType_1</th>\n",
              "      <th>TrafficType_2</th>\n",
              "      <th>TrafficType_3</th>\n",
              "      <th>TrafficType_4</th>\n",
              "      <th>TrafficType_5</th>\n",
              "      <th>TrafficType_6</th>\n",
              "      <th>TrafficType_7</th>\n",
              "      <th>TrafficType_8</th>\n",
              "      <th>TrafficType_9</th>\n",
              "      <th>TrafficType_10</th>\n",
              "      <th>TrafficType_11</th>\n",
              "      <th>TrafficType_12</th>\n",
              "      <th>TrafficType_13</th>\n",
              "      <th>TrafficType_14</th>\n",
              "      <th>TrafficType_15</th>\n",
              "      <th>TrafficType_16</th>\n",
              "      <th>TrafficType_17</th>\n",
              "      <th>TrafficType_18</th>\n",
              "      <th>TrafficType_19</th>\n",
              "      <th>TrafficType_20</th>\n",
              "      <th>VisitorType_New_Visitor</th>\n",
              "      <th>VisitorType_Other</th>\n",
              "      <th>VisitorType_Returning_Visitor</th>\n",
              "    </tr>\n",
              "  </thead>\n",
              "  <tbody>\n",
              "    <tr>\n",
              "      <th>0</th>\n",
              "      <td>0.0</td>\n",
              "      <td>0.0</td>\n",
              "      <td>0.000000</td>\n",
              "      <td>0.20</td>\n",
              "      <td>0.20</td>\n",
              "      <td>0.0</td>\n",
              "      <td>0.0</td>\n",
              "      <td>0.0</td>\n",
              "      <td>1.0</td>\n",
              "      <td>0.0</td>\n",
              "      <td>0.0</td>\n",
              "      <td>0.0</td>\n",
              "      <td>0.0</td>\n",
              "      <td>0.0</td>\n",
              "      <td>0.0</td>\n",
              "      <td>0.0</td>\n",
              "      <td>0.0</td>\n",
              "      <td>0.0</td>\n",
              "      <td>0.0</td>\n",
              "      <td>0.0</td>\n",
              "      <td>0.0</td>\n",
              "      <td>0.0</td>\n",
              "      <td>0.0</td>\n",
              "      <td>0.0</td>\n",
              "      <td>0.0</td>\n",
              "      <td>0.0</td>\n",
              "      <td>0.0</td>\n",
              "      <td>0.0</td>\n",
              "      <td>0.0</td>\n",
              "      <td>0.0</td>\n",
              "      <td>0.0</td>\n",
              "      <td>0.0</td>\n",
              "      <td>0.0</td>\n",
              "      <td>0.0</td>\n",
              "      <td>0.0</td>\n",
              "      <td>1.0</td>\n",
              "      <td>0.0</td>\n",
              "      <td>0.0</td>\n",
              "      <td>0.0</td>\n",
              "      <td>0.0</td>\n",
              "      <td>...</td>\n",
              "      <td>0.0</td>\n",
              "      <td>0.0</td>\n",
              "      <td>0.0</td>\n",
              "      <td>0.0</td>\n",
              "      <td>0.0</td>\n",
              "      <td>0.0</td>\n",
              "      <td>0.0</td>\n",
              "      <td>0.0</td>\n",
              "      <td>1.0</td>\n",
              "      <td>0.0</td>\n",
              "      <td>0.0</td>\n",
              "      <td>0.0</td>\n",
              "      <td>0.0</td>\n",
              "      <td>0.0</td>\n",
              "      <td>0.0</td>\n",
              "      <td>0.0</td>\n",
              "      <td>0.0</td>\n",
              "      <td>1.0</td>\n",
              "      <td>0.0</td>\n",
              "      <td>0.0</td>\n",
              "      <td>0.0</td>\n",
              "      <td>0.0</td>\n",
              "      <td>0.0</td>\n",
              "      <td>0.0</td>\n",
              "      <td>0.0</td>\n",
              "      <td>0.0</td>\n",
              "      <td>0.0</td>\n",
              "      <td>0.0</td>\n",
              "      <td>0.0</td>\n",
              "      <td>0.0</td>\n",
              "      <td>0.0</td>\n",
              "      <td>0.0</td>\n",
              "      <td>0.0</td>\n",
              "      <td>0.0</td>\n",
              "      <td>0.0</td>\n",
              "      <td>0.0</td>\n",
              "      <td>0.0</td>\n",
              "      <td>0.0</td>\n",
              "      <td>0.0</td>\n",
              "      <td>1.0</td>\n",
              "    </tr>\n",
              "    <tr>\n",
              "      <th>1</th>\n",
              "      <td>0.0</td>\n",
              "      <td>0.0</td>\n",
              "      <td>64.000000</td>\n",
              "      <td>0.00</td>\n",
              "      <td>0.10</td>\n",
              "      <td>0.0</td>\n",
              "      <td>0.0</td>\n",
              "      <td>0.0</td>\n",
              "      <td>1.0</td>\n",
              "      <td>0.0</td>\n",
              "      <td>0.0</td>\n",
              "      <td>0.0</td>\n",
              "      <td>0.0</td>\n",
              "      <td>0.0</td>\n",
              "      <td>0.0</td>\n",
              "      <td>0.0</td>\n",
              "      <td>0.0</td>\n",
              "      <td>0.0</td>\n",
              "      <td>0.0</td>\n",
              "      <td>0.0</td>\n",
              "      <td>0.0</td>\n",
              "      <td>0.0</td>\n",
              "      <td>0.0</td>\n",
              "      <td>0.0</td>\n",
              "      <td>0.0</td>\n",
              "      <td>0.0</td>\n",
              "      <td>0.0</td>\n",
              "      <td>0.0</td>\n",
              "      <td>0.0</td>\n",
              "      <td>0.0</td>\n",
              "      <td>0.0</td>\n",
              "      <td>0.0</td>\n",
              "      <td>0.0</td>\n",
              "      <td>0.0</td>\n",
              "      <td>0.0</td>\n",
              "      <td>1.0</td>\n",
              "      <td>0.0</td>\n",
              "      <td>0.0</td>\n",
              "      <td>0.0</td>\n",
              "      <td>0.0</td>\n",
              "      <td>...</td>\n",
              "      <td>0.0</td>\n",
              "      <td>0.0</td>\n",
              "      <td>0.0</td>\n",
              "      <td>0.0</td>\n",
              "      <td>0.0</td>\n",
              "      <td>0.0</td>\n",
              "      <td>0.0</td>\n",
              "      <td>0.0</td>\n",
              "      <td>1.0</td>\n",
              "      <td>0.0</td>\n",
              "      <td>0.0</td>\n",
              "      <td>0.0</td>\n",
              "      <td>0.0</td>\n",
              "      <td>0.0</td>\n",
              "      <td>0.0</td>\n",
              "      <td>0.0</td>\n",
              "      <td>0.0</td>\n",
              "      <td>0.0</td>\n",
              "      <td>1.0</td>\n",
              "      <td>0.0</td>\n",
              "      <td>0.0</td>\n",
              "      <td>0.0</td>\n",
              "      <td>0.0</td>\n",
              "      <td>0.0</td>\n",
              "      <td>0.0</td>\n",
              "      <td>0.0</td>\n",
              "      <td>0.0</td>\n",
              "      <td>0.0</td>\n",
              "      <td>0.0</td>\n",
              "      <td>0.0</td>\n",
              "      <td>0.0</td>\n",
              "      <td>0.0</td>\n",
              "      <td>0.0</td>\n",
              "      <td>0.0</td>\n",
              "      <td>0.0</td>\n",
              "      <td>0.0</td>\n",
              "      <td>0.0</td>\n",
              "      <td>0.0</td>\n",
              "      <td>0.0</td>\n",
              "      <td>1.0</td>\n",
              "    </tr>\n",
              "    <tr>\n",
              "      <th>2</th>\n",
              "      <td>-1.0</td>\n",
              "      <td>-1.0</td>\n",
              "      <td>-1.000000</td>\n",
              "      <td>0.20</td>\n",
              "      <td>0.20</td>\n",
              "      <td>0.0</td>\n",
              "      <td>0.0</td>\n",
              "      <td>0.0</td>\n",
              "      <td>1.0</td>\n",
              "      <td>0.0</td>\n",
              "      <td>0.0</td>\n",
              "      <td>0.0</td>\n",
              "      <td>0.0</td>\n",
              "      <td>0.0</td>\n",
              "      <td>0.0</td>\n",
              "      <td>0.0</td>\n",
              "      <td>0.0</td>\n",
              "      <td>0.0</td>\n",
              "      <td>0.0</td>\n",
              "      <td>0.0</td>\n",
              "      <td>0.0</td>\n",
              "      <td>0.0</td>\n",
              "      <td>0.0</td>\n",
              "      <td>0.0</td>\n",
              "      <td>0.0</td>\n",
              "      <td>0.0</td>\n",
              "      <td>0.0</td>\n",
              "      <td>0.0</td>\n",
              "      <td>0.0</td>\n",
              "      <td>0.0</td>\n",
              "      <td>0.0</td>\n",
              "      <td>0.0</td>\n",
              "      <td>0.0</td>\n",
              "      <td>0.0</td>\n",
              "      <td>0.0</td>\n",
              "      <td>1.0</td>\n",
              "      <td>0.0</td>\n",
              "      <td>0.0</td>\n",
              "      <td>0.0</td>\n",
              "      <td>0.0</td>\n",
              "      <td>...</td>\n",
              "      <td>0.0</td>\n",
              "      <td>0.0</td>\n",
              "      <td>0.0</td>\n",
              "      <td>0.0</td>\n",
              "      <td>0.0</td>\n",
              "      <td>0.0</td>\n",
              "      <td>0.0</td>\n",
              "      <td>0.0</td>\n",
              "      <td>0.0</td>\n",
              "      <td>0.0</td>\n",
              "      <td>0.0</td>\n",
              "      <td>0.0</td>\n",
              "      <td>0.0</td>\n",
              "      <td>0.0</td>\n",
              "      <td>0.0</td>\n",
              "      <td>0.0</td>\n",
              "      <td>1.0</td>\n",
              "      <td>0.0</td>\n",
              "      <td>0.0</td>\n",
              "      <td>1.0</td>\n",
              "      <td>0.0</td>\n",
              "      <td>0.0</td>\n",
              "      <td>0.0</td>\n",
              "      <td>0.0</td>\n",
              "      <td>0.0</td>\n",
              "      <td>0.0</td>\n",
              "      <td>0.0</td>\n",
              "      <td>0.0</td>\n",
              "      <td>0.0</td>\n",
              "      <td>0.0</td>\n",
              "      <td>0.0</td>\n",
              "      <td>0.0</td>\n",
              "      <td>0.0</td>\n",
              "      <td>0.0</td>\n",
              "      <td>0.0</td>\n",
              "      <td>0.0</td>\n",
              "      <td>0.0</td>\n",
              "      <td>0.0</td>\n",
              "      <td>0.0</td>\n",
              "      <td>1.0</td>\n",
              "    </tr>\n",
              "    <tr>\n",
              "      <th>3</th>\n",
              "      <td>0.0</td>\n",
              "      <td>0.0</td>\n",
              "      <td>2.666667</td>\n",
              "      <td>0.05</td>\n",
              "      <td>0.14</td>\n",
              "      <td>0.0</td>\n",
              "      <td>0.0</td>\n",
              "      <td>0.0</td>\n",
              "      <td>1.0</td>\n",
              "      <td>0.0</td>\n",
              "      <td>0.0</td>\n",
              "      <td>0.0</td>\n",
              "      <td>0.0</td>\n",
              "      <td>0.0</td>\n",
              "      <td>0.0</td>\n",
              "      <td>0.0</td>\n",
              "      <td>0.0</td>\n",
              "      <td>0.0</td>\n",
              "      <td>0.0</td>\n",
              "      <td>0.0</td>\n",
              "      <td>0.0</td>\n",
              "      <td>0.0</td>\n",
              "      <td>0.0</td>\n",
              "      <td>0.0</td>\n",
              "      <td>0.0</td>\n",
              "      <td>0.0</td>\n",
              "      <td>0.0</td>\n",
              "      <td>0.0</td>\n",
              "      <td>0.0</td>\n",
              "      <td>0.0</td>\n",
              "      <td>0.0</td>\n",
              "      <td>0.0</td>\n",
              "      <td>0.0</td>\n",
              "      <td>0.0</td>\n",
              "      <td>0.0</td>\n",
              "      <td>1.0</td>\n",
              "      <td>0.0</td>\n",
              "      <td>0.0</td>\n",
              "      <td>0.0</td>\n",
              "      <td>0.0</td>\n",
              "      <td>...</td>\n",
              "      <td>0.0</td>\n",
              "      <td>0.0</td>\n",
              "      <td>0.0</td>\n",
              "      <td>0.0</td>\n",
              "      <td>0.0</td>\n",
              "      <td>0.0</td>\n",
              "      <td>0.0</td>\n",
              "      <td>0.0</td>\n",
              "      <td>0.0</td>\n",
              "      <td>1.0</td>\n",
              "      <td>0.0</td>\n",
              "      <td>0.0</td>\n",
              "      <td>0.0</td>\n",
              "      <td>0.0</td>\n",
              "      <td>0.0</td>\n",
              "      <td>0.0</td>\n",
              "      <td>0.0</td>\n",
              "      <td>0.0</td>\n",
              "      <td>0.0</td>\n",
              "      <td>0.0</td>\n",
              "      <td>1.0</td>\n",
              "      <td>0.0</td>\n",
              "      <td>0.0</td>\n",
              "      <td>0.0</td>\n",
              "      <td>0.0</td>\n",
              "      <td>0.0</td>\n",
              "      <td>0.0</td>\n",
              "      <td>0.0</td>\n",
              "      <td>0.0</td>\n",
              "      <td>0.0</td>\n",
              "      <td>0.0</td>\n",
              "      <td>0.0</td>\n",
              "      <td>0.0</td>\n",
              "      <td>0.0</td>\n",
              "      <td>0.0</td>\n",
              "      <td>0.0</td>\n",
              "      <td>0.0</td>\n",
              "      <td>0.0</td>\n",
              "      <td>0.0</td>\n",
              "      <td>1.0</td>\n",
              "    </tr>\n",
              "    <tr>\n",
              "      <th>4</th>\n",
              "      <td>0.0</td>\n",
              "      <td>0.0</td>\n",
              "      <td>627.500000</td>\n",
              "      <td>0.02</td>\n",
              "      <td>0.05</td>\n",
              "      <td>0.0</td>\n",
              "      <td>1.0</td>\n",
              "      <td>0.0</td>\n",
              "      <td>1.0</td>\n",
              "      <td>0.0</td>\n",
              "      <td>0.0</td>\n",
              "      <td>0.0</td>\n",
              "      <td>0.0</td>\n",
              "      <td>0.0</td>\n",
              "      <td>0.0</td>\n",
              "      <td>0.0</td>\n",
              "      <td>0.0</td>\n",
              "      <td>0.0</td>\n",
              "      <td>0.0</td>\n",
              "      <td>0.0</td>\n",
              "      <td>0.0</td>\n",
              "      <td>0.0</td>\n",
              "      <td>0.0</td>\n",
              "      <td>0.0</td>\n",
              "      <td>0.0</td>\n",
              "      <td>0.0</td>\n",
              "      <td>0.0</td>\n",
              "      <td>0.0</td>\n",
              "      <td>0.0</td>\n",
              "      <td>0.0</td>\n",
              "      <td>0.0</td>\n",
              "      <td>0.0</td>\n",
              "      <td>0.0</td>\n",
              "      <td>0.0</td>\n",
              "      <td>0.0</td>\n",
              "      <td>1.0</td>\n",
              "      <td>0.0</td>\n",
              "      <td>0.0</td>\n",
              "      <td>0.0</td>\n",
              "      <td>0.0</td>\n",
              "      <td>...</td>\n",
              "      <td>0.0</td>\n",
              "      <td>0.0</td>\n",
              "      <td>0.0</td>\n",
              "      <td>0.0</td>\n",
              "      <td>0.0</td>\n",
              "      <td>0.0</td>\n",
              "      <td>0.0</td>\n",
              "      <td>0.0</td>\n",
              "      <td>1.0</td>\n",
              "      <td>0.0</td>\n",
              "      <td>0.0</td>\n",
              "      <td>0.0</td>\n",
              "      <td>0.0</td>\n",
              "      <td>0.0</td>\n",
              "      <td>0.0</td>\n",
              "      <td>0.0</td>\n",
              "      <td>0.0</td>\n",
              "      <td>0.0</td>\n",
              "      <td>0.0</td>\n",
              "      <td>0.0</td>\n",
              "      <td>1.0</td>\n",
              "      <td>0.0</td>\n",
              "      <td>0.0</td>\n",
              "      <td>0.0</td>\n",
              "      <td>0.0</td>\n",
              "      <td>0.0</td>\n",
              "      <td>0.0</td>\n",
              "      <td>0.0</td>\n",
              "      <td>0.0</td>\n",
              "      <td>0.0</td>\n",
              "      <td>0.0</td>\n",
              "      <td>0.0</td>\n",
              "      <td>0.0</td>\n",
              "      <td>0.0</td>\n",
              "      <td>0.0</td>\n",
              "      <td>0.0</td>\n",
              "      <td>0.0</td>\n",
              "      <td>0.0</td>\n",
              "      <td>0.0</td>\n",
              "      <td>1.0</td>\n",
              "    </tr>\n",
              "  </tbody>\n",
              "</table>\n",
              "<p>5 rows × 432 columns</p>\n",
              "</div>"
            ],
            "text/plain": [
              "   Administrative_Duration  ...  VisitorType_Returning_Visitor\n",
              "0                      0.0  ...                            1.0\n",
              "1                      0.0  ...                            1.0\n",
              "2                     -1.0  ...                            1.0\n",
              "3                      0.0  ...                            1.0\n",
              "4                      0.0  ...                            1.0\n",
              "\n",
              "[5 rows x 432 columns]"
            ]
          },
          "metadata": {
            "tags": []
          },
          "execution_count": 89
        }
      ]
    },
    {
      "cell_type": "code",
      "metadata": {
        "id": "lJIUfma7v8l8"
      },
      "source": [
        "X=imputed_df.drop(['Revenue','ExitRates'],axis=1)\n",
        "Y=imputed_df.Revenue\n",
        "#Y.value_counts(normalize=True)"
      ],
      "execution_count": 90,
      "outputs": []
    },
    {
      "cell_type": "code",
      "metadata": {
        "id": "-B-HiXM1v8rb"
      },
      "source": [
        "from sklearn.metrics import f1_score,cohen_kappa_score,classification_report,confusion_matrix\n",
        "from sklearn.model_selection import train_test_split\n",
        "from sklearn.ensemble import RandomForestClassifier"
      ],
      "execution_count": 91,
      "outputs": []
    },
    {
      "cell_type": "markdown",
      "metadata": {
        "id": "seABJXxDwRYe"
      },
      "source": [
        "Spliting the data into Train and test\n",
        "\n"
      ]
    },
    {
      "cell_type": "code",
      "metadata": {
        "id": "8RMitEZ7wPP4"
      },
      "source": [
        "x_train,x_test,y_train,y_test=train_test_split(X,Y,test_size=0.3,random_state=1)"
      ],
      "execution_count": 92,
      "outputs": []
    },
    {
      "cell_type": "markdown",
      "metadata": {
        "id": "AYmX-2LkwWXl"
      },
      "source": [
        "Our Target Variable is Imbalanced First we train model without bakacing the target vairble and\n",
        "\n",
        "Later we will train the model using Oversampling technique SMOTE (Synthetic Minority Over-sampling Technique) From imblearn library\n",
        "\n",
        "\n",
        "\n",
        "\n",
        "\n"
      ]
    },
    {
      "cell_type": "markdown",
      "metadata": {
        "id": "AV4yvI53wfG4"
      },
      "source": [
        "Without SMOTE"
      ]
    },
    {
      "cell_type": "code",
      "metadata": {
        "colab": {
          "base_uri": "https://localhost:8080/",
          "height": 271
        },
        "id": "_a7hxOfcv8um",
        "outputId": "64a96ecc-09f4-4779-b1b4-8a03051fbeb3"
      },
      "source": [
        "imputed_df['Revenue'].value_counts().plot(kind='bar')\n",
        "plt.show()"
      ],
      "execution_count": 93,
      "outputs": [
        {
          "output_type": "display_data",
          "data": {
            "image/png": "[encoded data removed]",
            "text/plain": [
              "<Figure size 432x288 with 1 Axes>"
            ]
          },
          "metadata": {
            "tags": [],
            "needs_background": "light"
          }
        }
      ]
    },
    {
      "cell_type": "markdown",
      "metadata": {
        "id": "VqxRUq4RwjOV"
      },
      "source": [
        "Logistic Regression"
      ]
    },
    {
      "cell_type": "code",
      "metadata": {
        "colab": {
          "base_uri": "https://localhost:8080/"
        },
        "id": "D3kuybimv8x9",
        "outputId": "6a663ff5-7686-4998-b375-6a43602ecff2"
      },
      "source": [
        "from sklearn.linear_model import LogisticRegression\n",
        "from sklearn.linear_model import LogisticRegressionCV\n",
        "log=LogisticRegression(C=0.005994,penalty='l1',solver='liblinear')\n",
        "log.fit(x_train,y_train)\n",
        "print('Train score:',log.score(x_train,y_train))\n",
        "print('Test score:',log.score(x_test,y_test))\n",
        "#log.C_"
      ],
      "execution_count": 94,
      "outputs": [
        {
          "output_type": "stream",
          "text": [
            "Train score: 0.8426601784266018\n",
            "Test score: 0.8513111651797783\n"
          ],
          "name": "stdout"
        }
      ]
    },
    {
      "cell_type": "code",
      "metadata": {
        "colab": {
          "base_uri": "https://localhost:8080/"
        },
        "id": "_3ZhCSOCv81a",
        "outputId": "452bddcd-0830-4117-eb4f-75665adb5567"
      },
      "source": [
        "log_pred=log.predict(x_test)\n",
        "print('F1 Score:',f1_score(y_test,log_pred))\n",
        "print('Kappa Score:',cohen_kappa_score(y_test,log_pred))\n",
        "print('Classification report:\\n',classification_report(y_test,log_pred))"
      ],
      "execution_count": 95,
      "outputs": [
        {
          "output_type": "stream",
          "text": [
            "F1 Score: 0.0\n",
            "Kappa Score: 0.0\n",
            "Classification report:\n",
            "               precision    recall  f1-score   support\n",
            "\n",
            "         0.0       0.85      1.00      0.92      3149\n",
            "         1.0       0.00      0.00      0.00       550\n",
            "\n",
            "    accuracy                           0.85      3699\n",
            "   macro avg       0.43      0.50      0.46      3699\n",
            "weighted avg       0.72      0.85      0.78      3699\n",
            "\n"
          ],
          "name": "stdout"
        }
      ]
    },
    {
      "cell_type": "code",
      "metadata": {
        "id": "Nuc68p_Kv83_"
      },
      "source": [
        "from sklearn.metrics import roc_curve,auc\n",
        "from sklearn.ensemble import GradientBoostingClassifier,RandomForestClassifier\n",
        "from sklearn.linear_model import LogisticRegression\n",
        "from sklearn.neighbors import KNeighborsClassifier\n",
        "from sklearn.tree import DecisionTreeClassifier\n",
        "from sklearn.naive_bayes import GaussianNB"
      ],
      "execution_count": 96,
      "outputs": []
    },
    {
      "cell_type": "code",
      "metadata": {
        "id": "cVkQF6efv87R"
      },
      "source": [
        "fpr,tpr,thresh=roc_curve(y_test,log_pred)\n",
        "auc_log=auc(fpr,tpr)"
      ],
      "execution_count": 97,
      "outputs": []
    },
    {
      "cell_type": "markdown",
      "metadata": {
        "id": "C7Aw_T9txbzi"
      },
      "source": [
        "Decision Tree"
      ]
    },
    {
      "cell_type": "code",
      "metadata": {
        "colab": {
          "base_uri": "https://localhost:8080/"
        },
        "id": "H5nNo2_3xXaG",
        "outputId": "bd08fc2f-b12a-4eac-db2b-fc209e23cc40"
      },
      "source": [
        "dt=DecisionTreeClassifier(max_depth=6)\n",
        "dt.fit(x_train,y_train)\n",
        "print('Train score:',dt.score(x_train,y_train))\n",
        "print('Test score:',dt.score(x_test,y_test))"
      ],
      "execution_count": 98,
      "outputs": [
        {
          "output_type": "stream",
          "text": [
            "Train score: 0.8537828756806859\n",
            "Test score: 0.8442822384428224\n"
          ],
          "name": "stdout"
        }
      ]
    },
    {
      "cell_type": "code",
      "metadata": {
        "colab": {
          "base_uri": "https://localhost:8080/"
        },
        "id": "hQhFL5uFxXcq",
        "outputId": "846a7463-b977-4904-afa8-9767b36be533"
      },
      "source": [
        "dt_pred=dt.predict(x_test)\n",
        "print('F1 Score:',f1_score(y_test,dt_pred))\n",
        "print('Kappa Score:',cohen_kappa_score(y_test,dt_pred))\n",
        "print('Classification report:\\n',classification_report(y_test,dt_pred))"
      ],
      "execution_count": 99,
      "outputs": [
        {
          "output_type": "stream",
          "text": [
            "F1 Score: 0.18413597733711046\n",
            "Kappa Score: 0.12675550659167978\n",
            "Classification report:\n",
            "               precision    recall  f1-score   support\n",
            "\n",
            "         0.0       0.86      0.97      0.91      3149\n",
            "         1.0       0.42      0.12      0.18       550\n",
            "\n",
            "    accuracy                           0.84      3699\n",
            "   macro avg       0.64      0.54      0.55      3699\n",
            "weighted avg       0.80      0.84      0.81      3699\n",
            "\n"
          ],
          "name": "stdout"
        }
      ]
    },
    {
      "cell_type": "code",
      "metadata": {
        "id": "H8gCeN_9xXfW"
      },
      "source": [
        "fpr_dt,tpr_dt,thresh=roc_curve(y_test,dt_pred)\n",
        "auc_dt=auc(fpr,tpr)"
      ],
      "execution_count": 100,
      "outputs": []
    },
    {
      "cell_type": "markdown",
      "metadata": {
        "id": "5945aFwRxt1y"
      },
      "source": [
        "Random Forest Classifier"
      ]
    },
    {
      "cell_type": "code",
      "metadata": {
        "colab": {
          "base_uri": "https://localhost:8080/"
        },
        "id": "k9vVqH4axXim",
        "outputId": "c6f893c0-2e52-470a-d014-5dc65cab6c35"
      },
      "source": [
        "rf_sm=RandomForestClassifier(max_depth=6)\n",
        "rf_sm.fit(x_train,y_train)\n",
        "print('Train score:',rf_sm.score(x_train,y_train))\n",
        "print('Test score:',rf_sm.score(x_test,y_test))"
      ],
      "execution_count": 101,
      "outputs": [
        {
          "output_type": "stream",
          "text": [
            "Train score: 0.8426601784266018\n",
            "Test score: 0.8513111651797783\n"
          ],
          "name": "stdout"
        }
      ]
    },
    {
      "cell_type": "code",
      "metadata": {
        "colab": {
          "base_uri": "https://localhost:8080/"
        },
        "id": "0SQfS7j5xXlU",
        "outputId": "607f9a09-336d-4b83-8be7-e762bd805a1b"
      },
      "source": [
        "rf_sm_pred=rf_sm.predict(x_test)\n",
        "print('F1 Score:',f1_score(y_test,rf_sm_pred))\n",
        "print('Kappa Score:',cohen_kappa_score(y_test,rf_sm_pred))\n",
        "print('Classification report:\\n',classification_report(y_test,rf_sm_pred))"
      ],
      "execution_count": 102,
      "outputs": [
        {
          "output_type": "stream",
          "text": [
            "F1 Score: 0.0\n",
            "Kappa Score: 0.0\n",
            "Classification report:\n",
            "               precision    recall  f1-score   support\n",
            "\n",
            "         0.0       0.85      1.00      0.92      3149\n",
            "         1.0       0.00      0.00      0.00       550\n",
            "\n",
            "    accuracy                           0.85      3699\n",
            "   macro avg       0.43      0.50      0.46      3699\n",
            "weighted avg       0.72      0.85      0.78      3699\n",
            "\n"
          ],
          "name": "stdout"
        }
      ]
    },
    {
      "cell_type": "code",
      "metadata": {
        "id": "Y6_24DzKxXoU"
      },
      "source": [
        "fpr_rf,tpr_rf,thresh=roc_curve(y_test,rf_sm_pred)\n",
        "auc_rf=auc(fpr,tpr)"
      ],
      "execution_count": 103,
      "outputs": []
    },
    {
      "cell_type": "code",
      "metadata": {
        "colab": {
          "base_uri": "https://localhost:8080/",
          "height": 295
        },
        "id": "5dv5pzUJyCFV",
        "outputId": "25171046-2f57-466a-a86c-727f3adcd5c8"
      },
      "source": [
        "plt.plot(fpr,tpr, label='LR(area = %0.2f)' % auc_log,color='red')\n",
        "plt.plot(fpr_dt, tpr_dt, label='DT(area = %0.2f)' % auc_dt,color='green')\n",
        "plt.plot(fpr_rf, tpr_rf, label='RF(area = %0.2f)' % auc_rf,color='blue')\n",
        "plt.plot([0, 1], [0, 1], 'k--')\n",
        "plt.xlim([0.0, 1.0])\n",
        "plt.ylim([0.0, 1.0])\n",
        "plt.xlabel('False Positive Rate')\n",
        "plt.ylabel('True Positive Rate')\n",
        "plt.title('Receiver operating characteristic example')\n",
        "plt.legend(loc=\"lower right\")\n",
        "plt.show()"
      ],
      "execution_count": 104,
      "outputs": [
        {
          "output_type": "display_data",
          "data": {
            "image/png": "[encoded data removed]",
            "text/plain": [
              "<Figure size 432x288 with 1 Axes>"
            ]
          },
          "metadata": {
            "tags": [],
            "needs_background": "light"
          }
        }
      ]
    },
    {
      "cell_type": "markdown",
      "metadata": {
        "id": "nYudS1Epx_Qh"
      },
      "source": [
        "naive bayes"
      ]
    },
    {
      "cell_type": "code",
      "metadata": {
        "colab": {
          "base_uri": "https://localhost:8080/"
        },
        "id": "ybhUX6H1xXq_",
        "outputId": "b6230878-06dc-493a-d3aa-0bd741cb8189"
      },
      "source": [
        "gnb=GaussianNB()\n",
        "gnb.fit(x_train,y_train)\n",
        "print('Train score:',gnb.score(x_train,y_train))\n",
        "print('Test score:',gnb.score(x_test,y_test))"
      ],
      "execution_count": 105,
      "outputs": [
        {
          "output_type": "stream",
          "text": [
            "Train score: 0.15849843587069865\n",
            "Test score: 0.14977020816436876\n"
          ],
          "name": "stdout"
        }
      ]
    },
    {
      "cell_type": "code",
      "metadata": {
        "id": "YakuohIaxXt5"
      },
      "source": [
        "nb_pred=gnb.predict(x_test)\n",
        "fpr2,tpr2,thresh=roc_curve(y_test,nb_pred)\n",
        "auc2=auc(fpr2,tpr2)"
      ],
      "execution_count": 106,
      "outputs": []
    },
    {
      "cell_type": "markdown",
      "metadata": {
        "id": "zwexDbPLyahR"
      },
      "source": [
        "With SMOTE"
      ]
    },
    {
      "cell_type": "code",
      "metadata": {
        "colab": {
          "base_uri": "https://localhost:8080/"
        },
        "id": "wo-ryxbryghD",
        "outputId": "eb603531-d46e-47f2-d897-6b1626d5b532"
      },
      "source": [
        "!pip install -U imbalanced-learn\n"
      ],
      "execution_count": 113,
      "outputs": [
        {
          "output_type": "stream",
          "text": [
            "Requirement already up-to-date: imbalanced-learn in /usr/local/lib/python3.7/dist-packages (0.8.0)\n",
            "Requirement already satisfied, skipping upgrade: numpy>=1.13.3 in /usr/local/lib/python3.7/dist-packages (from imbalanced-learn) (1.19.5)\n",
            "Requirement already satisfied, skipping upgrade: scikit-learn>=0.24 in /usr/local/lib/python3.7/dist-packages (from imbalanced-learn) (0.24.2)\n",
            "Requirement already satisfied, skipping upgrade: joblib>=0.11 in /usr/local/lib/python3.7/dist-packages (from imbalanced-learn) (1.0.1)\n",
            "Requirement already satisfied, skipping upgrade: scipy>=0.19.1 in /usr/local/lib/python3.7/dist-packages (from imbalanced-learn) (1.4.1)\n",
            "Requirement already satisfied, skipping upgrade: threadpoolctl>=2.0.0 in /usr/local/lib/python3.7/dist-packages (from scikit-learn>=0.24->imbalanced-learn) (2.1.0)\n"
          ],
          "name": "stdout"
        }
      ]
    },
    {
      "cell_type": "code",
      "metadata": {
        "id": "f4Epq-TcygjV"
      },
      "source": [
        "from imblearn.over_sampling import RandomOverSampler\n"
      ],
      "execution_count": 115,
      "outputs": []
    },
    {
      "cell_type": "code",
      "metadata": {
        "colab": {
          "base_uri": "https://localhost:8080/",
          "height": 244
        },
        "id": "VRrhXk2wygmF",
        "outputId": "37ae7bfb-3474-4398-d0fd-c92f6732a9ac"
      },
      "source": [
        "smote=RandomOverSampler(random_state=42)\n",
        "X_new,Y_new=smote.fit_resample(X,Y)\n",
        "X_new=pd.DataFrame(X_new,columns=X.columns)\n",
        "Y_new=pd.DataFrame(Y_new,columns=['Revenue'])\n",
        "X_new.head()"
      ],
      "execution_count": 117,
      "outputs": [
        {
          "output_type": "execute_result",
          "data": {
            "text/html": [
              "<div>\n",
              "<style scoped>\n",
              "    .dataframe tbody tr th:only-of-type {\n",
              "        vertical-align: middle;\n",
              "    }\n",
              "\n",
              "    .dataframe tbody tr th {\n",
              "        vertical-align: top;\n",
              "    }\n",
              "\n",
              "    .dataframe thead th {\n",
              "        text-align: right;\n",
              "    }\n",
              "</style>\n",
              "<table border=\"1\" class=\"dataframe\">\n",
              "  <thead>\n",
              "    <tr style=\"text-align: right;\">\n",
              "      <th></th>\n",
              "      <th>Administrative_Duration</th>\n",
              "      <th>Informational_Duration</th>\n",
              "      <th>ProductRelated_Duration</th>\n",
              "      <th>BounceRates</th>\n",
              "      <th>PageValues</th>\n",
              "      <th>Weekend</th>\n",
              "      <th>Administrative_0.0</th>\n",
              "      <th>Administrative_1.0</th>\n",
              "      <th>Administrative_2.0</th>\n",
              "      <th>Administrative_3.0</th>\n",
              "      <th>Administrative_4.0</th>\n",
              "      <th>Administrative_5.0</th>\n",
              "      <th>Administrative_6.0</th>\n",
              "      <th>Administrative_7.0</th>\n",
              "      <th>Administrative_8.0</th>\n",
              "      <th>Administrative_9.0</th>\n",
              "      <th>Administrative_10.0</th>\n",
              "      <th>Administrative_11.0</th>\n",
              "      <th>Administrative_12.0</th>\n",
              "      <th>Administrative_13.0</th>\n",
              "      <th>Administrative_14.0</th>\n",
              "      <th>Administrative_15.0</th>\n",
              "      <th>Administrative_16.0</th>\n",
              "      <th>Administrative_17.0</th>\n",
              "      <th>Administrative_18.0</th>\n",
              "      <th>Administrative_19.0</th>\n",
              "      <th>Administrative_20.0</th>\n",
              "      <th>Administrative_21.0</th>\n",
              "      <th>Administrative_22.0</th>\n",
              "      <th>Administrative_23.0</th>\n",
              "      <th>Administrative_24.0</th>\n",
              "      <th>Administrative_26.0</th>\n",
              "      <th>Administrative_27.0</th>\n",
              "      <th>Informational_0.0</th>\n",
              "      <th>Informational_1.0</th>\n",
              "      <th>Informational_2.0</th>\n",
              "      <th>Informational_3.0</th>\n",
              "      <th>Informational_4.0</th>\n",
              "      <th>Informational_5.0</th>\n",
              "      <th>Informational_6.0</th>\n",
              "      <th>...</th>\n",
              "      <th>Browser_6</th>\n",
              "      <th>Browser_7</th>\n",
              "      <th>Browser_8</th>\n",
              "      <th>Browser_9</th>\n",
              "      <th>Browser_10</th>\n",
              "      <th>Browser_11</th>\n",
              "      <th>Browser_12</th>\n",
              "      <th>Browser_13</th>\n",
              "      <th>Region_1</th>\n",
              "      <th>Region_2</th>\n",
              "      <th>Region_3</th>\n",
              "      <th>Region_4</th>\n",
              "      <th>Region_5</th>\n",
              "      <th>Region_6</th>\n",
              "      <th>Region_7</th>\n",
              "      <th>Region_8</th>\n",
              "      <th>Region_9</th>\n",
              "      <th>TrafficType_1</th>\n",
              "      <th>TrafficType_2</th>\n",
              "      <th>TrafficType_3</th>\n",
              "      <th>TrafficType_4</th>\n",
              "      <th>TrafficType_5</th>\n",
              "      <th>TrafficType_6</th>\n",
              "      <th>TrafficType_7</th>\n",
              "      <th>TrafficType_8</th>\n",
              "      <th>TrafficType_9</th>\n",
              "      <th>TrafficType_10</th>\n",
              "      <th>TrafficType_11</th>\n",
              "      <th>TrafficType_12</th>\n",
              "      <th>TrafficType_13</th>\n",
              "      <th>TrafficType_14</th>\n",
              "      <th>TrafficType_15</th>\n",
              "      <th>TrafficType_16</th>\n",
              "      <th>TrafficType_17</th>\n",
              "      <th>TrafficType_18</th>\n",
              "      <th>TrafficType_19</th>\n",
              "      <th>TrafficType_20</th>\n",
              "      <th>VisitorType_New_Visitor</th>\n",
              "      <th>VisitorType_Other</th>\n",
              "      <th>VisitorType_Returning_Visitor</th>\n",
              "    </tr>\n",
              "  </thead>\n",
              "  <tbody>\n",
              "    <tr>\n",
              "      <th>0</th>\n",
              "      <td>0.0</td>\n",
              "      <td>0.0</td>\n",
              "      <td>0.000000</td>\n",
              "      <td>0.20</td>\n",
              "      <td>0.0</td>\n",
              "      <td>0.0</td>\n",
              "      <td>1.0</td>\n",
              "      <td>0.0</td>\n",
              "      <td>0.0</td>\n",
              "      <td>0.0</td>\n",
              "      <td>0.0</td>\n",
              "      <td>0.0</td>\n",
              "      <td>0.0</td>\n",
              "      <td>0.0</td>\n",
              "      <td>0.0</td>\n",
              "      <td>0.0</td>\n",
              "      <td>0.0</td>\n",
              "      <td>0.0</td>\n",
              "      <td>0.0</td>\n",
              "      <td>0.0</td>\n",
              "      <td>0.0</td>\n",
              "      <td>0.0</td>\n",
              "      <td>0.0</td>\n",
              "      <td>0.0</td>\n",
              "      <td>0.0</td>\n",
              "      <td>0.0</td>\n",
              "      <td>0.0</td>\n",
              "      <td>0.0</td>\n",
              "      <td>0.0</td>\n",
              "      <td>0.0</td>\n",
              "      <td>0.0</td>\n",
              "      <td>0.0</td>\n",
              "      <td>0.0</td>\n",
              "      <td>1.0</td>\n",
              "      <td>0.0</td>\n",
              "      <td>0.0</td>\n",
              "      <td>0.0</td>\n",
              "      <td>0.0</td>\n",
              "      <td>0.0</td>\n",
              "      <td>0.0</td>\n",
              "      <td>...</td>\n",
              "      <td>0.0</td>\n",
              "      <td>0.0</td>\n",
              "      <td>0.0</td>\n",
              "      <td>0.0</td>\n",
              "      <td>0.0</td>\n",
              "      <td>0.0</td>\n",
              "      <td>0.0</td>\n",
              "      <td>0.0</td>\n",
              "      <td>1.0</td>\n",
              "      <td>0.0</td>\n",
              "      <td>0.0</td>\n",
              "      <td>0.0</td>\n",
              "      <td>0.0</td>\n",
              "      <td>0.0</td>\n",
              "      <td>0.0</td>\n",
              "      <td>0.0</td>\n",
              "      <td>0.0</td>\n",
              "      <td>1.0</td>\n",
              "      <td>0.0</td>\n",
              "      <td>0.0</td>\n",
              "      <td>0.0</td>\n",
              "      <td>0.0</td>\n",
              "      <td>0.0</td>\n",
              "      <td>0.0</td>\n",
              "      <td>0.0</td>\n",
              "      <td>0.0</td>\n",
              "      <td>0.0</td>\n",
              "      <td>0.0</td>\n",
              "      <td>0.0</td>\n",
              "      <td>0.0</td>\n",
              "      <td>0.0</td>\n",
              "      <td>0.0</td>\n",
              "      <td>0.0</td>\n",
              "      <td>0.0</td>\n",
              "      <td>0.0</td>\n",
              "      <td>0.0</td>\n",
              "      <td>0.0</td>\n",
              "      <td>0.0</td>\n",
              "      <td>0.0</td>\n",
              "      <td>1.0</td>\n",
              "    </tr>\n",
              "    <tr>\n",
              "      <th>1</th>\n",
              "      <td>0.0</td>\n",
              "      <td>0.0</td>\n",
              "      <td>64.000000</td>\n",
              "      <td>0.00</td>\n",
              "      <td>0.0</td>\n",
              "      <td>0.0</td>\n",
              "      <td>1.0</td>\n",
              "      <td>0.0</td>\n",
              "      <td>0.0</td>\n",
              "      <td>0.0</td>\n",
              "      <td>0.0</td>\n",
              "      <td>0.0</td>\n",
              "      <td>0.0</td>\n",
              "      <td>0.0</td>\n",
              "      <td>0.0</td>\n",
              "      <td>0.0</td>\n",
              "      <td>0.0</td>\n",
              "      <td>0.0</td>\n",
              "      <td>0.0</td>\n",
              "      <td>0.0</td>\n",
              "      <td>0.0</td>\n",
              "      <td>0.0</td>\n",
              "      <td>0.0</td>\n",
              "      <td>0.0</td>\n",
              "      <td>0.0</td>\n",
              "      <td>0.0</td>\n",
              "      <td>0.0</td>\n",
              "      <td>0.0</td>\n",
              "      <td>0.0</td>\n",
              "      <td>0.0</td>\n",
              "      <td>0.0</td>\n",
              "      <td>0.0</td>\n",
              "      <td>0.0</td>\n",
              "      <td>1.0</td>\n",
              "      <td>0.0</td>\n",
              "      <td>0.0</td>\n",
              "      <td>0.0</td>\n",
              "      <td>0.0</td>\n",
              "      <td>0.0</td>\n",
              "      <td>0.0</td>\n",
              "      <td>...</td>\n",
              "      <td>0.0</td>\n",
              "      <td>0.0</td>\n",
              "      <td>0.0</td>\n",
              "      <td>0.0</td>\n",
              "      <td>0.0</td>\n",
              "      <td>0.0</td>\n",
              "      <td>0.0</td>\n",
              "      <td>0.0</td>\n",
              "      <td>1.0</td>\n",
              "      <td>0.0</td>\n",
              "      <td>0.0</td>\n",
              "      <td>0.0</td>\n",
              "      <td>0.0</td>\n",
              "      <td>0.0</td>\n",
              "      <td>0.0</td>\n",
              "      <td>0.0</td>\n",
              "      <td>0.0</td>\n",
              "      <td>0.0</td>\n",
              "      <td>1.0</td>\n",
              "      <td>0.0</td>\n",
              "      <td>0.0</td>\n",
              "      <td>0.0</td>\n",
              "      <td>0.0</td>\n",
              "      <td>0.0</td>\n",
              "      <td>0.0</td>\n",
              "      <td>0.0</td>\n",
              "      <td>0.0</td>\n",
              "      <td>0.0</td>\n",
              "      <td>0.0</td>\n",
              "      <td>0.0</td>\n",
              "      <td>0.0</td>\n",
              "      <td>0.0</td>\n",
              "      <td>0.0</td>\n",
              "      <td>0.0</td>\n",
              "      <td>0.0</td>\n",
              "      <td>0.0</td>\n",
              "      <td>0.0</td>\n",
              "      <td>0.0</td>\n",
              "      <td>0.0</td>\n",
              "      <td>1.0</td>\n",
              "    </tr>\n",
              "    <tr>\n",
              "      <th>2</th>\n",
              "      <td>-1.0</td>\n",
              "      <td>-1.0</td>\n",
              "      <td>-1.000000</td>\n",
              "      <td>0.20</td>\n",
              "      <td>0.0</td>\n",
              "      <td>0.0</td>\n",
              "      <td>1.0</td>\n",
              "      <td>0.0</td>\n",
              "      <td>0.0</td>\n",
              "      <td>0.0</td>\n",
              "      <td>0.0</td>\n",
              "      <td>0.0</td>\n",
              "      <td>0.0</td>\n",
              "      <td>0.0</td>\n",
              "      <td>0.0</td>\n",
              "      <td>0.0</td>\n",
              "      <td>0.0</td>\n",
              "      <td>0.0</td>\n",
              "      <td>0.0</td>\n",
              "      <td>0.0</td>\n",
              "      <td>0.0</td>\n",
              "      <td>0.0</td>\n",
              "      <td>0.0</td>\n",
              "      <td>0.0</td>\n",
              "      <td>0.0</td>\n",
              "      <td>0.0</td>\n",
              "      <td>0.0</td>\n",
              "      <td>0.0</td>\n",
              "      <td>0.0</td>\n",
              "      <td>0.0</td>\n",
              "      <td>0.0</td>\n",
              "      <td>0.0</td>\n",
              "      <td>0.0</td>\n",
              "      <td>1.0</td>\n",
              "      <td>0.0</td>\n",
              "      <td>0.0</td>\n",
              "      <td>0.0</td>\n",
              "      <td>0.0</td>\n",
              "      <td>0.0</td>\n",
              "      <td>0.0</td>\n",
              "      <td>...</td>\n",
              "      <td>0.0</td>\n",
              "      <td>0.0</td>\n",
              "      <td>0.0</td>\n",
              "      <td>0.0</td>\n",
              "      <td>0.0</td>\n",
              "      <td>0.0</td>\n",
              "      <td>0.0</td>\n",
              "      <td>0.0</td>\n",
              "      <td>0.0</td>\n",
              "      <td>0.0</td>\n",
              "      <td>0.0</td>\n",
              "      <td>0.0</td>\n",
              "      <td>0.0</td>\n",
              "      <td>0.0</td>\n",
              "      <td>0.0</td>\n",
              "      <td>0.0</td>\n",
              "      <td>1.0</td>\n",
              "      <td>0.0</td>\n",
              "      <td>0.0</td>\n",
              "      <td>1.0</td>\n",
              "      <td>0.0</td>\n",
              "      <td>0.0</td>\n",
              "      <td>0.0</td>\n",
              "      <td>0.0</td>\n",
              "      <td>0.0</td>\n",
              "      <td>0.0</td>\n",
              "      <td>0.0</td>\n",
              "      <td>0.0</td>\n",
              "      <td>0.0</td>\n",
              "      <td>0.0</td>\n",
              "      <td>0.0</td>\n",
              "      <td>0.0</td>\n",
              "      <td>0.0</td>\n",
              "      <td>0.0</td>\n",
              "      <td>0.0</td>\n",
              "      <td>0.0</td>\n",
              "      <td>0.0</td>\n",
              "      <td>0.0</td>\n",
              "      <td>0.0</td>\n",
              "      <td>1.0</td>\n",
              "    </tr>\n",
              "    <tr>\n",
              "      <th>3</th>\n",
              "      <td>0.0</td>\n",
              "      <td>0.0</td>\n",
              "      <td>2.666667</td>\n",
              "      <td>0.05</td>\n",
              "      <td>0.0</td>\n",
              "      <td>0.0</td>\n",
              "      <td>1.0</td>\n",
              "      <td>0.0</td>\n",
              "      <td>0.0</td>\n",
              "      <td>0.0</td>\n",
              "      <td>0.0</td>\n",
              "      <td>0.0</td>\n",
              "      <td>0.0</td>\n",
              "      <td>0.0</td>\n",
              "      <td>0.0</td>\n",
              "      <td>0.0</td>\n",
              "      <td>0.0</td>\n",
              "      <td>0.0</td>\n",
              "      <td>0.0</td>\n",
              "      <td>0.0</td>\n",
              "      <td>0.0</td>\n",
              "      <td>0.0</td>\n",
              "      <td>0.0</td>\n",
              "      <td>0.0</td>\n",
              "      <td>0.0</td>\n",
              "      <td>0.0</td>\n",
              "      <td>0.0</td>\n",
              "      <td>0.0</td>\n",
              "      <td>0.0</td>\n",
              "      <td>0.0</td>\n",
              "      <td>0.0</td>\n",
              "      <td>0.0</td>\n",
              "      <td>0.0</td>\n",
              "      <td>1.0</td>\n",
              "      <td>0.0</td>\n",
              "      <td>0.0</td>\n",
              "      <td>0.0</td>\n",
              "      <td>0.0</td>\n",
              "      <td>0.0</td>\n",
              "      <td>0.0</td>\n",
              "      <td>...</td>\n",
              "      <td>0.0</td>\n",
              "      <td>0.0</td>\n",
              "      <td>0.0</td>\n",
              "      <td>0.0</td>\n",
              "      <td>0.0</td>\n",
              "      <td>0.0</td>\n",
              "      <td>0.0</td>\n",
              "      <td>0.0</td>\n",
              "      <td>0.0</td>\n",
              "      <td>1.0</td>\n",
              "      <td>0.0</td>\n",
              "      <td>0.0</td>\n",
              "      <td>0.0</td>\n",
              "      <td>0.0</td>\n",
              "      <td>0.0</td>\n",
              "      <td>0.0</td>\n",
              "      <td>0.0</td>\n",
              "      <td>0.0</td>\n",
              "      <td>0.0</td>\n",
              "      <td>0.0</td>\n",
              "      <td>1.0</td>\n",
              "      <td>0.0</td>\n",
              "      <td>0.0</td>\n",
              "      <td>0.0</td>\n",
              "      <td>0.0</td>\n",
              "      <td>0.0</td>\n",
              "      <td>0.0</td>\n",
              "      <td>0.0</td>\n",
              "      <td>0.0</td>\n",
              "      <td>0.0</td>\n",
              "      <td>0.0</td>\n",
              "      <td>0.0</td>\n",
              "      <td>0.0</td>\n",
              "      <td>0.0</td>\n",
              "      <td>0.0</td>\n",
              "      <td>0.0</td>\n",
              "      <td>0.0</td>\n",
              "      <td>0.0</td>\n",
              "      <td>0.0</td>\n",
              "      <td>1.0</td>\n",
              "    </tr>\n",
              "    <tr>\n",
              "      <th>4</th>\n",
              "      <td>0.0</td>\n",
              "      <td>0.0</td>\n",
              "      <td>627.500000</td>\n",
              "      <td>0.02</td>\n",
              "      <td>0.0</td>\n",
              "      <td>1.0</td>\n",
              "      <td>1.0</td>\n",
              "      <td>0.0</td>\n",
              "      <td>0.0</td>\n",
              "      <td>0.0</td>\n",
              "      <td>0.0</td>\n",
              "      <td>0.0</td>\n",
              "      <td>0.0</td>\n",
              "      <td>0.0</td>\n",
              "      <td>0.0</td>\n",
              "      <td>0.0</td>\n",
              "      <td>0.0</td>\n",
              "      <td>0.0</td>\n",
              "      <td>0.0</td>\n",
              "      <td>0.0</td>\n",
              "      <td>0.0</td>\n",
              "      <td>0.0</td>\n",
              "      <td>0.0</td>\n",
              "      <td>0.0</td>\n",
              "      <td>0.0</td>\n",
              "      <td>0.0</td>\n",
              "      <td>0.0</td>\n",
              "      <td>0.0</td>\n",
              "      <td>0.0</td>\n",
              "      <td>0.0</td>\n",
              "      <td>0.0</td>\n",
              "      <td>0.0</td>\n",
              "      <td>0.0</td>\n",
              "      <td>1.0</td>\n",
              "      <td>0.0</td>\n",
              "      <td>0.0</td>\n",
              "      <td>0.0</td>\n",
              "      <td>0.0</td>\n",
              "      <td>0.0</td>\n",
              "      <td>0.0</td>\n",
              "      <td>...</td>\n",
              "      <td>0.0</td>\n",
              "      <td>0.0</td>\n",
              "      <td>0.0</td>\n",
              "      <td>0.0</td>\n",
              "      <td>0.0</td>\n",
              "      <td>0.0</td>\n",
              "      <td>0.0</td>\n",
              "      <td>0.0</td>\n",
              "      <td>1.0</td>\n",
              "      <td>0.0</td>\n",
              "      <td>0.0</td>\n",
              "      <td>0.0</td>\n",
              "      <td>0.0</td>\n",
              "      <td>0.0</td>\n",
              "      <td>0.0</td>\n",
              "      <td>0.0</td>\n",
              "      <td>0.0</td>\n",
              "      <td>0.0</td>\n",
              "      <td>0.0</td>\n",
              "      <td>0.0</td>\n",
              "      <td>1.0</td>\n",
              "      <td>0.0</td>\n",
              "      <td>0.0</td>\n",
              "      <td>0.0</td>\n",
              "      <td>0.0</td>\n",
              "      <td>0.0</td>\n",
              "      <td>0.0</td>\n",
              "      <td>0.0</td>\n",
              "      <td>0.0</td>\n",
              "      <td>0.0</td>\n",
              "      <td>0.0</td>\n",
              "      <td>0.0</td>\n",
              "      <td>0.0</td>\n",
              "      <td>0.0</td>\n",
              "      <td>0.0</td>\n",
              "      <td>0.0</td>\n",
              "      <td>0.0</td>\n",
              "      <td>0.0</td>\n",
              "      <td>0.0</td>\n",
              "      <td>1.0</td>\n",
              "    </tr>\n",
              "  </tbody>\n",
              "</table>\n",
              "<p>5 rows × 430 columns</p>\n",
              "</div>"
            ],
            "text/plain": [
              "   Administrative_Duration  ...  VisitorType_Returning_Visitor\n",
              "0                      0.0  ...                            1.0\n",
              "1                      0.0  ...                            1.0\n",
              "2                     -1.0  ...                            1.0\n",
              "3                      0.0  ...                            1.0\n",
              "4                      0.0  ...                            1.0\n",
              "\n",
              "[5 rows x 430 columns]"
            ]
          },
          "metadata": {
            "tags": []
          },
          "execution_count": 117
        }
      ]
    },
    {
      "cell_type": "code",
      "metadata": {
        "colab": {
          "base_uri": "https://localhost:8080/",
          "height": 271
        },
        "id": "eFL3ucCjygpS",
        "outputId": "c45bcd5b-4b73-4f7d-adf1-96a29098ec94"
      },
      "source": [
        "Y_new['Revenue'].value_counts().plot(kind='bar')\n",
        "plt.show()"
      ],
      "execution_count": 118,
      "outputs": [
        {
          "output_type": "display_data",
          "data": {
            "image/png": "[encoded data removed]",
            "text/plain": [
              "<Figure size 432x288 with 1 Axes>"
            ]
          },
          "metadata": {
            "tags": [],
            "needs_background": "light"
          }
        }
      ]
    },
    {
      "cell_type": "code",
      "metadata": {
        "id": "D_s878LPygrr"
      },
      "source": [
        "x_train,x_test,y_train,y_test=train_test_split(X_new,Y_new,test_size=0.3,random_state=1)\n"
      ],
      "execution_count": 119,
      "outputs": []
    },
    {
      "cell_type": "markdown",
      "metadata": {
        "id": "0w-l1FxE0Qdf"
      },
      "source": [
        "Logistic Regression"
      ]
    },
    {
      "cell_type": "code",
      "metadata": {
        "colab": {
          "base_uri": "https://localhost:8080/"
        },
        "id": "aQoVkZ-F0OKr",
        "outputId": "5f91803e-a688-4cd0-9252-28ff559b3903"
      },
      "source": [
        "log=LogisticRegression(penalty='l1',solver='liblinear')\n",
        "log.fit(x_train,y_train)\n",
        "print('Train score:',log.score(x_train,y_train))\n",
        "print('Test score:',log.score(x_test,y_test))"
      ],
      "execution_count": 120,
      "outputs": [
        {
          "output_type": "stream",
          "text": [
            "Train score: 0.7027416038382454\n",
            "Test score: 0.6917173009274065\n"
          ],
          "name": "stdout"
        }
      ]
    },
    {
      "cell_type": "code",
      "metadata": {
        "colab": {
          "base_uri": "https://localhost:8080/"
        },
        "id": "LsI1IgKM0OOD",
        "outputId": "fb3d2395-8dd3-4bc4-f1f5-d6385d459916"
      },
      "source": [
        "log_pred=log.predict(x_test)\n",
        "print('F1 Score:',f1_score(y_test,log_pred))\n",
        "print('Kappa Score:',cohen_kappa_score(y_test,log_pred))\n",
        "print('Classification report:\\n',classification_report(y_test,log_pred))"
      ],
      "execution_count": 121,
      "outputs": [
        {
          "output_type": "stream",
          "text": [
            "F1 Score: 0.7010852713178294\n",
            "Kappa Score: 0.384461765371926\n",
            "Classification report:\n",
            "               precision    recall  f1-score   support\n",
            "\n",
            "         0.0       0.72      0.65      0.68      3190\n",
            "         1.0       0.67      0.74      0.70      3064\n",
            "\n",
            "    accuracy                           0.69      6254\n",
            "   macro avg       0.69      0.69      0.69      6254\n",
            "weighted avg       0.69      0.69      0.69      6254\n",
            "\n"
          ],
          "name": "stdout"
        }
      ]
    },
    {
      "cell_type": "code",
      "metadata": {
        "id": "95H6wcjF0OTe"
      },
      "source": [
        "fpr1,tpr1,thresh=roc_curve(y_test,log_pred)\n",
        "auc1=auc(fpr1,tpr1)"
      ],
      "execution_count": 122,
      "outputs": []
    },
    {
      "cell_type": "markdown",
      "metadata": {
        "id": "j5Sf5tVi0c5D"
      },
      "source": [
        "Naive Bayes"
      ]
    },
    {
      "cell_type": "code",
      "metadata": {
        "colab": {
          "base_uri": "https://localhost:8080/"
        },
        "id": "ZZk1mkv10OWf",
        "outputId": "2c1c3743-18b5-4c2e-9388-d737ff7e04c6"
      },
      "source": [
        "gnb=GaussianNB()\n",
        "gnb.fit(x_train,y_train)\n",
        "print('Train score:',gnb.score(x_train,y_train))\n",
        "print('Test score:',gnb.score(x_test,y_test))"
      ],
      "execution_count": 123,
      "outputs": [
        {
          "output_type": "stream",
          "text": [
            "Train score: 0.505071967100754\n",
            "Test score: 0.490406140070355\n"
          ],
          "name": "stdout"
        }
      ]
    },
    {
      "cell_type": "code",
      "metadata": {
        "id": "Nv-hR1-Lygux"
      },
      "source": [
        "nb_pred=gnb.predict(x_test)\n",
        "fpr2,tpr2,thresh=roc_curve(y_test,nb_pred)\n",
        "auc2=auc(fpr2,tpr2)"
      ],
      "execution_count": 124,
      "outputs": []
    },
    {
      "cell_type": "markdown",
      "metadata": {
        "id": "nNjro-5J0i4D"
      },
      "source": [
        "Decision Tree"
      ]
    },
    {
      "cell_type": "code",
      "metadata": {
        "colab": {
          "base_uri": "https://localhost:8080/"
        },
        "id": "jVxop8bQyg0Z",
        "outputId": "27cac928-ad39-418c-c25e-58f01087526a"
      },
      "source": [
        "dt=DecisionTreeClassifier(max_depth=6)\n",
        "dt.fit(x_train,y_train)\n",
        "print('Train score:',dt.score(x_train,y_train))\n",
        "print('Test score:',dt.score(x_test,y_test))"
      ],
      "execution_count": 125,
      "outputs": [
        {
          "output_type": "stream",
          "text": [
            "Train score: 0.7217957505140508\n",
            "Test score: 0.7096258394627438\n"
          ],
          "name": "stdout"
        }
      ]
    },
    {
      "cell_type": "code",
      "metadata": {
        "colab": {
          "base_uri": "https://localhost:8080/"
        },
        "id": "L5C0oFzD0lRA",
        "outputId": "6becbf49-1a2e-4f85-938b-f8d43182aec6"
      },
      "source": [
        "dt_pred=dt.predict(x_test)\n",
        "print('F1 Score:',f1_score(y_test,dt_pred))\n",
        "print('Kappa Score:',cohen_kappa_score(y_test,dt_pred))"
      ],
      "execution_count": 126,
      "outputs": [
        {
          "output_type": "stream",
          "text": [
            "F1 Score: 0.7469342251950947\n",
            "Kappa Score: 0.4229140430707393\n"
          ],
          "name": "stdout"
        }
      ]
    },
    {
      "cell_type": "code",
      "metadata": {
        "id": "ve0DYH-_0lT8"
      },
      "source": [
        "fpr3,tpr3,thresh=roc_curve(y_test,dt_pred)\n",
        "auc3=auc(fpr3,tpr3)"
      ],
      "execution_count": 127,
      "outputs": []
    },
    {
      "cell_type": "markdown",
      "metadata": {
        "id": "FW_pAPR80y_9"
      },
      "source": [
        "Random Forest"
      ]
    },
    {
      "cell_type": "code",
      "metadata": {
        "colab": {
          "base_uri": "https://localhost:8080/"
        },
        "id": "NypAAASz0lYS",
        "outputId": "38c553b4-24e7-4b3d-cbec-5060040463b8"
      },
      "source": [
        "rf_sm=RandomForestClassifier(max_depth=6)\n",
        "rf_sm.fit(x_train,y_train)\n",
        "print('Train score:',rf_sm.score(x_train,y_train))\n",
        "print('Test score:',rf_sm.score(x_test,y_test))"
      ],
      "execution_count": 128,
      "outputs": [
        {
          "output_type": "stream",
          "text": [
            "Train score: 0.7138450993831391\n",
            "Test score: 0.7046690118324273\n"
          ],
          "name": "stdout"
        }
      ]
    },
    {
      "cell_type": "code",
      "metadata": {
        "colab": {
          "base_uri": "https://localhost:8080/"
        },
        "id": "rgjlRn0P0lb9",
        "outputId": "6bff5e81-ecc4-44b7-8889-39ed514c75ec"
      },
      "source": [
        "rf_pred_sm=rf_sm.predict(x_test)\n",
        "print('F1 Score:',f1_score(y_test,rf_pred_sm))\n",
        "print('Kappa Score:',cohen_kappa_score(y_test,rf_pred_sm))"
      ],
      "execution_count": 129,
      "outputs": [
        {
          "output_type": "stream",
          "text": [
            "F1 Score: 0.7327448994356823\n",
            "Kappa Score: 0.41206540771817424\n"
          ],
          "name": "stdout"
        }
      ]
    },
    {
      "cell_type": "code",
      "metadata": {
        "id": "f3Sw3nNL1P75"
      },
      "source": [
        "fpr4,tpr4,thresh=roc_curve(y_test,rf_pred_sm)\n",
        "auc4=auc(fpr4,tpr4)"
      ],
      "execution_count": 132,
      "outputs": []
    },
    {
      "cell_type": "code",
      "metadata": {
        "id": "L9laVnO50lfC"
      },
      "source": [
        "imp=pd.DataFrame(rf_sm.feature_importances_, columns = [\"Imp\"], index =x_train.columns)"
      ],
      "execution_count": 130,
      "outputs": []
    },
    {
      "cell_type": "code",
      "metadata": {
        "colab": {
          "base_uri": "https://localhost:8080/",
          "height": 418
        },
        "id": "nBBbn48K1AAY",
        "outputId": "870a849c-fbc1-41d8-9f34-62c7cb9493a2"
      },
      "source": [
        "plt.figure(figsize=(20,8))\n",
        "imp.sort_values('Imp',ascending=False).head(70).plot(kind='bar')\n",
        "plt.xticks(rotation=80)\n",
        "plt.show()\n"
      ],
      "execution_count": 131,
      "outputs": [
        {
          "output_type": "display_data",
          "data": {
            "text/plain": [
              "<Figure size 1440x576 with 0 Axes>"
            ]
          },
          "metadata": {
            "tags": []
          }
        },
        {
          "output_type": "display_data",
          "data": {
            "image/png": "[encoded data removed]",
            "text/plain": [
              "<Figure size 432x288 with 1 Axes>"
            ]
          },
          "metadata": {
            "tags": [],
            "needs_background": "light"
          }
        }
      ]
    },
    {
      "cell_type": "code",
      "metadata": {
        "colab": {
          "base_uri": "https://localhost:8080/",
          "height": 195
        },
        "id": "dOROsXxm0lhf",
        "outputId": "add444a7-5c01-4e9a-ad3c-307580af03aa"
      },
      "source": [
        "imp.sort_values('Imp',ascending=False).head()"
      ],
      "execution_count": 133,
      "outputs": [
        {
          "output_type": "execute_result",
          "data": {
            "text/html": [
              "<div>\n",
              "<style scoped>\n",
              "    .dataframe tbody tr th:only-of-type {\n",
              "        vertical-align: middle;\n",
              "    }\n",
              "\n",
              "    .dataframe tbody tr th {\n",
              "        vertical-align: top;\n",
              "    }\n",
              "\n",
              "    .dataframe thead th {\n",
              "        text-align: right;\n",
              "    }\n",
              "</style>\n",
              "<table border=\"1\" class=\"dataframe\">\n",
              "  <thead>\n",
              "    <tr style=\"text-align: right;\">\n",
              "      <th></th>\n",
              "      <th>Imp</th>\n",
              "    </tr>\n",
              "  </thead>\n",
              "  <tbody>\n",
              "    <tr>\n",
              "      <th>ProductRelated_Duration</th>\n",
              "      <td>0.134792</td>\n",
              "    </tr>\n",
              "    <tr>\n",
              "      <th>BounceRates</th>\n",
              "      <td>0.116887</td>\n",
              "    </tr>\n",
              "    <tr>\n",
              "      <th>Administrative_0.0</th>\n",
              "      <td>0.081706</td>\n",
              "    </tr>\n",
              "    <tr>\n",
              "      <th>Month_Nov</th>\n",
              "      <td>0.078207</td>\n",
              "    </tr>\n",
              "    <tr>\n",
              "      <th>Administrative_Duration</th>\n",
              "      <td>0.068874</td>\n",
              "    </tr>\n",
              "  </tbody>\n",
              "</table>\n",
              "</div>"
            ],
            "text/plain": [
              "                              Imp\n",
              "ProductRelated_Duration  0.134792\n",
              "BounceRates              0.116887\n",
              "Administrative_0.0       0.081706\n",
              "Month_Nov                0.078207\n",
              "Administrative_Duration  0.068874"
            ]
          },
          "metadata": {
            "tags": []
          },
          "execution_count": 133
        }
      ]
    },
    {
      "cell_type": "code",
      "metadata": {
        "colab": {
          "base_uri": "https://localhost:8080/",
          "height": 195
        },
        "id": "kQqrtPLM1WNi",
        "outputId": "11249cdf-7d24-48b8-a5ef-ef32711e12b3"
      },
      "source": [
        "imp.sort_values('Imp',ascending=False).head()\n"
      ],
      "execution_count": 134,
      "outputs": [
        {
          "output_type": "execute_result",
          "data": {
            "text/html": [
              "<div>\n",
              "<style scoped>\n",
              "    .dataframe tbody tr th:only-of-type {\n",
              "        vertical-align: middle;\n",
              "    }\n",
              "\n",
              "    .dataframe tbody tr th {\n",
              "        vertical-align: top;\n",
              "    }\n",
              "\n",
              "    .dataframe thead th {\n",
              "        text-align: right;\n",
              "    }\n",
              "</style>\n",
              "<table border=\"1\" class=\"dataframe\">\n",
              "  <thead>\n",
              "    <tr style=\"text-align: right;\">\n",
              "      <th></th>\n",
              "      <th>Imp</th>\n",
              "    </tr>\n",
              "  </thead>\n",
              "  <tbody>\n",
              "    <tr>\n",
              "      <th>ProductRelated_Duration</th>\n",
              "      <td>0.134792</td>\n",
              "    </tr>\n",
              "    <tr>\n",
              "      <th>BounceRates</th>\n",
              "      <td>0.116887</td>\n",
              "    </tr>\n",
              "    <tr>\n",
              "      <th>Administrative_0.0</th>\n",
              "      <td>0.081706</td>\n",
              "    </tr>\n",
              "    <tr>\n",
              "      <th>Month_Nov</th>\n",
              "      <td>0.078207</td>\n",
              "    </tr>\n",
              "    <tr>\n",
              "      <th>Administrative_Duration</th>\n",
              "      <td>0.068874</td>\n",
              "    </tr>\n",
              "  </tbody>\n",
              "</table>\n",
              "</div>"
            ],
            "text/plain": [
              "                              Imp\n",
              "ProductRelated_Duration  0.134792\n",
              "BounceRates              0.116887\n",
              "Administrative_0.0       0.081706\n",
              "Month_Nov                0.078207\n",
              "Administrative_Duration  0.068874"
            ]
          },
          "metadata": {
            "tags": []
          },
          "execution_count": 134
        }
      ]
    },
    {
      "cell_type": "code",
      "metadata": {
        "colab": {
          "base_uri": "https://localhost:8080/"
        },
        "id": "46l5YpyM1WQM",
        "outputId": "2ce733b6-c452-4f32-b3af-13be956f02ce"
      },
      "source": [
        "imp2=imp[imp[\"Imp\"]>0.0005]\n",
        "len(imp2['Imp'])"
      ],
      "execution_count": 135,
      "outputs": [
        {
          "output_type": "execute_result",
          "data": {
            "text/plain": [
              "100"
            ]
          },
          "metadata": {
            "tags": []
          },
          "execution_count": 135
        }
      ]
    },
    {
      "cell_type": "markdown",
      "metadata": {
        "id": "NiYElWMl1iFH"
      },
      "source": [
        "Using Random Forest, we found important features: Among 405 dummy+ continuous variables Random Forest could give us 68 important features."
      ]
    },
    {
      "cell_type": "code",
      "metadata": {
        "colab": {
          "base_uri": "https://localhost:8080/"
        },
        "id": "6442ven51WTR",
        "outputId": "0c6ecb9d-64ac-4565-c622-ec931604d75b"
      },
      "source": [
        "imp2.sort_values('Imp',ascending=False).index"
      ],
      "execution_count": 136,
      "outputs": [
        {
          "output_type": "execute_result",
          "data": {
            "text/plain": [
              "Index(['ProductRelated_Duration', 'BounceRates', 'Administrative_0.0',\n",
              "       'Month_Nov', 'Administrative_Duration', 'VisitorType_New_Visitor',\n",
              "       'TrafficType_2', 'Informational_0.0', 'VisitorType_Returning_Visitor',\n",
              "       'SpecialDay_0.0', 'ProductRelated_1.0', 'Informational_Duration',\n",
              "       'Month_May', 'TrafficType_3', 'TrafficType_13', 'Administrative_1.0',\n",
              "       'Month_Mar', 'OperatingSystems_3', 'OperatingSystems_2',\n",
              "       'ProductRelated_4.0', 'ProductRelated_5.0', 'TrafficType_1',\n",
              "       'TrafficType_8', 'ProductRelated_2.0', 'Month_Dec', 'SpecialDay_0.8',\n",
              "       'Month_Feb', 'Month_Sep', 'ProductRelated_6.0', 'Informational_1.0',\n",
              "       'Month_Oct', 'ProductRelated_3.0', 'Informational_4.0',\n",
              "       'Administrative_6.0', 'Administrative_2.0', 'Informational_3.0',\n",
              "       'Administrative_5.0', 'SpecialDay_0.4', 'Weekend', 'Administrative_3.0',\n",
              "       'Informational_2.0', 'TrafficType_5', 'Informational_5.0', 'Region_1',\n",
              "       'Browser_2', 'Browser_1', 'ProductRelated_16.0', 'ProductRelated_7.0',\n",
              "       'TrafficType_6', 'Region_8', 'ProductRelated_11.0', 'SpecialDay_0.6',\n",
              "       'ProductRelated_10.0', 'Browser_5', 'Administrative_8.0',\n",
              "       'OperatingSystems_1', 'ProductRelated_36.0', 'Region_9',\n",
              "       'TrafficType_10', 'ProductRelated_53.0', 'Administrative_4.0',\n",
              "       'TrafficType_15', 'Month_Aug', 'Region_3', 'Administrative_10.0',\n",
              "       'OperatingSystems_4', 'Administrative_11.0', 'ProductRelated_22.0',\n",
              "       'Region_2', 'ProductRelated_32.0', 'ProductRelated_19.0',\n",
              "       'TrafficType_20', 'ProductRelated_14.0', 'ProductRelated_12.0',\n",
              "       'Administrative_9.0', 'Browser_4', 'TrafficType_11', 'Region_6',\n",
              "       'ProductRelated_27.0', 'Month_Jul', 'Administrative_13.0',\n",
              "       'ProductRelated_50.0', 'ProductRelated_21.0', 'Region_4',\n",
              "       'SpecialDay_0.2', 'TrafficType_4', 'Browser_10', 'ProductRelated_28.0',\n",
              "       'Browser_3', 'ProductRelated_15.0', 'Administrative_16.0',\n",
              "       'ProductRelated_8.0', 'ProductRelated_23.0', 'ProductRelated_18.0',\n",
              "       'VisitorType_Other', 'Region_7', 'SpecialDay_1.0', 'Month_June',\n",
              "       'Region_5', 'ProductRelated_35.0'],\n",
              "      dtype='object')"
            ]
          },
          "metadata": {
            "tags": []
          },
          "execution_count": 136
        }
      ]
    },
    {
      "cell_type": "code",
      "metadata": {
        "id": "r5VzzFBU1WXx"
      },
      "source": [
        "xnew=X_new[imp2.index]\n",
        "x_train,x_test,y_train,y_test=train_test_split(xnew,Y_new,test_size=0.3,random_state=1)"
      ],
      "execution_count": 137,
      "outputs": []
    },
    {
      "cell_type": "markdown",
      "metadata": {
        "id": "xhuEcybH1sbR"
      },
      "source": [
        "Logistic Regression"
      ]
    },
    {
      "cell_type": "code",
      "metadata": {
        "colab": {
          "base_uri": "https://localhost:8080/"
        },
        "id": "eRP9ByqA1Waf",
        "outputId": "c06e2b88-b2d1-49b6-ea00-44e219d2e36f"
      },
      "source": [
        "log=LogisticRegression(penalty='l1',solver='liblinear')\n",
        "log.fit(x_train,y_train)\n",
        "print('Train score:',log.score(x_train,y_train))\n",
        "print('Test score:',log.score(x_test,y_test))"
      ],
      "execution_count": 138,
      "outputs": [
        {
          "output_type": "stream",
          "text": [
            "Train score: 0.6880054832076765\n",
            "Test score: 0.6822833386632555\n"
          ],
          "name": "stdout"
        }
      ]
    },
    {
      "cell_type": "code",
      "metadata": {
        "colab": {
          "base_uri": "https://localhost:8080/"
        },
        "id": "AjdRqYvl1vKX",
        "outputId": "dbacd939-bd86-4f02-bf6a-58f8fef65e3b"
      },
      "source": [
        "log_sm1_pred=log.predict(x_test)\n",
        "print('F1 Score:',f1_score(y_test,log_sm1_pred))\n",
        "print('Kappa Score:',cohen_kappa_score(y_test,log_sm1_pred))"
      ],
      "execution_count": 139,
      "outputs": [
        {
          "output_type": "stream",
          "text": [
            "F1 Score: 0.6941665384023396\n",
            "Kappa Score: 0.36581699627258524\n"
          ],
          "name": "stdout"
        }
      ]
    },
    {
      "cell_type": "markdown",
      "metadata": {
        "id": "JzsbCsIM17UM"
      },
      "source": [
        "Decision Tree"
      ]
    },
    {
      "cell_type": "code",
      "metadata": {
        "colab": {
          "base_uri": "https://localhost:8080/"
        },
        "id": "NeseLgau1vNh",
        "outputId": "fddab6b3-cd48-46ff-d686-8fb365d2d418"
      },
      "source": [
        "dt=DecisionTreeClassifier(max_depth=6)\n",
        "dt.fit(x_train,y_train)\n",
        "print('Train score:',dt.score(x_train,y_train))\n",
        "print('Test score:',dt.score(x_test,y_test))"
      ],
      "execution_count": 140,
      "outputs": [
        {
          "output_type": "stream",
          "text": [
            "Train score: 0.7217272104180946\n",
            "Test score: 0.7094659417972498\n"
          ],
          "name": "stdout"
        }
      ]
    },
    {
      "cell_type": "code",
      "metadata": {
        "colab": {
          "base_uri": "https://localhost:8080/"
        },
        "id": "rsAC9Nas1vQI",
        "outputId": "78b27c83-dc3b-4947-dc86-d2d5242dc1e8"
      },
      "source": [
        "dt_sm1_pred_sm=dt.predict(x_test)\n",
        "print('F1 Score:',f1_score(y_test,dt_sm1_pred_sm))\n",
        "print('Kappa Score:',cohen_kappa_score(y_test,dt_sm1_pred_sm))"
      ],
      "execution_count": 141,
      "outputs": [
        {
          "output_type": "stream",
          "text": [
            "F1 Score: 0.746830151874042\n",
            "Kappa Score: 0.4225999611595116\n"
          ],
          "name": "stdout"
        }
      ]
    },
    {
      "cell_type": "markdown",
      "metadata": {
        "id": "xk4Cytkn2Dvw"
      },
      "source": [
        "Random Forest"
      ]
    },
    {
      "cell_type": "code",
      "metadata": {
        "colab": {
          "base_uri": "https://localhost:8080/"
        },
        "id": "xdFMuwil1vTi",
        "outputId": "84221a06-2362-4e84-9dbf-c497b8a6e245"
      },
      "source": [
        "rf_sm1=RandomForestClassifier(n_estimators=50,max_depth=16)\n",
        "rf_sm1.fit(x_train,y_train)\n",
        "print('Train score:',rf_sm1.score(x_train,y_train))\n",
        "print('Test score:',rf_sm1.score(x_test,y_test))"
      ],
      "execution_count": 142,
      "outputs": [
        {
          "output_type": "stream",
          "text": [
            "Train score: 0.9255654557916381\n",
            "Test score: 0.8576910777102654\n"
          ],
          "name": "stdout"
        }
      ]
    },
    {
      "cell_type": "code",
      "metadata": {
        "colab": {
          "base_uri": "https://localhost:8080/"
        },
        "id": "weFAQVp21vXY",
        "outputId": "19f4196e-0ecc-42b1-c973-1067b941c3f7"
      },
      "source": [
        "rf_sm1_pred_sm=rf_sm1.predict(x_test)\n",
        "print('F1 Score:',f1_score(y_test,rf_sm1_pred_sm))\n",
        "print('Kappa Score:',cohen_kappa_score(y_test,rf_sm1_pred_sm))\n"
      ],
      "execution_count": 143,
      "outputs": [
        {
          "output_type": "stream",
          "text": [
            "F1 Score: 0.8698830409356726\n",
            "Kappa Score: 0.7165673220208624\n"
          ],
          "name": "stdout"
        }
      ]
    },
    {
      "cell_type": "code",
      "metadata": {
        "id": "Q28hrbBy1vbI"
      },
      "source": [
        "fpr5,tpr5,thresh=roc_curve(y_test,rf_sm1_pred_sm)\n",
        "auc5=auc(fpr5,tpr5)\n"
      ],
      "execution_count": 144,
      "outputs": []
    },
    {
      "cell_type": "markdown",
      "metadata": {
        "id": "EFJwNR4J2Qih"
      },
      "source": [
        "Gradient Boosting"
      ]
    },
    {
      "cell_type": "code",
      "metadata": {
        "colab": {
          "base_uri": "https://localhost:8080/"
        },
        "id": "Yxg5Kj492Oj4",
        "outputId": "81e4a7a7-5fc9-480b-9c89-671728c565d4"
      },
      "source": [
        "gb=GradientBoostingClassifier(n_estimators=50,max_depth=5)\n",
        "gb.fit(x_train,y_train)\n",
        "print('Train score:',gb.score(x_train,y_train))\n",
        "print('Test score:',gb.score(x_test,y_test))"
      ],
      "execution_count": 145,
      "outputs": [
        {
          "output_type": "stream",
          "text": [
            "Train score: 0.7871144619602467\n",
            "Test score: 0.7601535017588743\n"
          ],
          "name": "stdout"
        }
      ]
    },
    {
      "cell_type": "code",
      "metadata": {
        "colab": {
          "base_uri": "https://localhost:8080/"
        },
        "id": "vS4iN-N42Omk",
        "outputId": "9ed75b96-ee9c-44cb-f58b-1185c8c44f56"
      },
      "source": [
        "gb_pred_sm=gb.predict(x_test)\n",
        "print('F1 Score:',f1_score(y_test,gb_pred_sm))\n",
        "print('Kappa Score:',cohen_kappa_score(y_test,gb_pred_sm))"
      ],
      "execution_count": 146,
      "outputs": [
        {
          "output_type": "stream",
          "text": [
            "F1 Score: 0.7778436018957345\n",
            "Kappa Score: 0.522034607119682\n"
          ],
          "name": "stdout"
        }
      ]
    },
    {
      "cell_type": "code",
      "metadata": {
        "id": "8FhhawIf2OqC"
      },
      "source": [
        "fpr6,tpr6,thresh=roc_curve(y_test,gb_pred_sm)\n",
        "auc6=auc(fpr6,tpr6)"
      ],
      "execution_count": 147,
      "outputs": []
    },
    {
      "cell_type": "markdown",
      "metadata": {
        "id": "c9CH8wzl262r"
      },
      "source": [
        "Plotting ROC Curve for Different Models\n"
      ]
    },
    {
      "cell_type": "code",
      "metadata": {
        "colab": {
          "base_uri": "https://localhost:8080/",
          "height": 295
        },
        "id": "QIfqZfo42Osw",
        "outputId": "ffc0e29f-89f2-4abf-c54c-996596c06e95"
      },
      "source": [
        "plt.plot(fpr1,tpr1, label='LR(area = %0.2f)' % auc1,color='red')\n",
        "plt.plot(fpr2, tpr2, label='NB(area = %0.2f)' % auc2,color='black')\n",
        "plt.plot(fpr3, tpr3, label='DT(area = %0.2f)' % auc3,color='magenta')\n",
        "plt.plot(fpr4, tpr4, label='RF(area = %0.2f)' % auc4,color='blue')\n",
        "plt.plot(fpr6, tpr6, label='GB(area = %0.2f)' % auc6,color='pink')\n",
        "plt.plot(fpr6, tpr6, label='RF with FS(area = %0.2f)' % auc5,color='green')\n",
        "\n",
        "\n",
        "plt.plot([0, 1], [0, 1], 'k--',color='grey')\n",
        "plt.xlim([0.0, 1.0])\n",
        "plt.ylim([0.0, 1.0])\n",
        "plt.xlabel('False Positive Rate')\n",
        "plt.ylabel('True Positive Rate')\n",
        "plt.title('Receiver operating characteristic example')\n",
        "plt.legend(loc=\"lower right\")\n",
        "plt.show()"
      ],
      "execution_count": 148,
      "outputs": [
        {
          "output_type": "display_data",
          "data": {
            "image/png": "[encoded data removed]",
            "text/plain": [
              "<Figure size 432x288 with 1 Axes>"
            ]
          },
          "metadata": {
            "tags": [],
            "needs_background": "light"
          }
        }
      ]
    },
    {
      "cell_type": "markdown",
      "metadata": {
        "id": "2k1Z1cC93EYm"
      },
      "source": [
        "As observed from findings it is clear that the performance improved with SMOTE. Among all models Random Forest With Feature Selection gives best accuracy metrics.\n",
        "\n"
      ]
    },
    {
      "cell_type": "markdown",
      "metadata": {
        "id": "83VFmafv3FcZ"
      },
      "source": [
        "As seen from accuracy metrics and ROC, we can see that Random Forest is best among all as it gives 98% area under, F1 score as 0.90\n",
        "\n",
        "Transformation improved accuracies for Logistic and Naïve Bayes but it hardly improved Random Forest and Decision Tree. So, we go ahead without transformations as it hardly improves any accuracy.\n",
        "\n",
        "KNN is a classification technique but due to less computational power we were able to use it. Also, KNN takes more time to\n",
        "\n",
        "Random Forest was used for feature selection and the important features given by Random Forest are supported by the EDA analysis done"
      ]
    },
    {
      "cell_type": "code",
      "metadata": {
        "id": "GifxhXM72OwV"
      },
      "source": [
        "y = df['Revenue']\n"
      ],
      "execution_count": 149,
      "outputs": []
    },
    {
      "cell_type": "code",
      "metadata": {
        "id": "uxpEFyBw3LRb"
      },
      "source": [
        "from sklearn.model_selection import KFold,cross_val_score\n",
        "from sklearn.metrics import f1_score\n",
        "from sklearn.metrics import cohen_kappa_score\n",
        "from sklearn.metrics import classification_report"
      ],
      "execution_count": 150,
      "outputs": []
    },
    {
      "cell_type": "markdown",
      "metadata": {
        "id": "mlCXytN-3Pzl"
      },
      "source": [
        "Cross Validating different model"
      ]
    },
    {
      "cell_type": "code",
      "metadata": {
        "colab": {
          "base_uri": "https://localhost:8080/",
          "height": 378
        },
        "id": "Jyk1qhgU3OSB",
        "outputId": "af25d9c6-d9d2-4aac-94e7-4016be8ec298"
      },
      "source": [
        "models = []\n",
        "models.append(('LR', LogisticRegression(penalty='l1',solver='liblinear')))\n",
        "models.append(('CART', DecisionTreeClassifier()))\n",
        "models.append(('NB', GaussianNB()))\n",
        "models.append(('RF', RandomForestClassifier()))\n",
        "models.append(('GBM', GradientBoostingClassifier()))\n",
        "results = []\n",
        "names = []\n",
        "scoring = 'accuracy'\n",
        "for name, model in models:\n",
        "    kfold = KFold(n_splits=10, shuffle=True,random_state=12345)\n",
        "    cv_results = cross_val_score(model, xnew, Y_new, cv=kfold, scoring=scoring)\n",
        "    results.append(cv_results)\n",
        "    names.append(name)\n",
        "    msg = \"%s: %f (std=%f)\" % (name, cv_results.mean(), cv_results.std())\n",
        "    print(msg)\n",
        "# boxplot algorithm comparison\n",
        "fig = plt.figure()\n",
        "fig.suptitle('Algorithm Comparison')\n",
        "ax = fig.add_subplot(111)\n",
        "plt.boxplot(results)\n",
        "ax.set_xticklabels(names)\n",
        "plt.show()"
      ],
      "execution_count": 153,
      "outputs": [
        {
          "output_type": "stream",
          "text": [
            "LR: 0.683313 (std=0.007751)\n",
            "CART: 0.920840 (std=0.007775)\n",
            "NB: 0.500671 (std=0.012652)\n",
            "RF: 0.966849 (std=0.005313)\n",
            "GBM: 0.731433 (std=0.012663)\n"
          ],
          "name": "stdout"
        },
        {
          "output_type": "display_data",
          "data": {
            "image/png": "[encoded data removed]",
            "text/plain": [
              "<Figure size 432x288 with 1 Axes>"
            ]
          },
          "metadata": {
            "tags": [],
            "needs_background": "light"
          }
        }
      ]
    }
  ]
}